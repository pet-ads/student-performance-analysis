





import pandas as pd
import numpy as np
import matplotlib.pyplot as plt
import seaborn as sns

d1_trabalhado = pd.read_csv("d1_trabalhado.csv", sep=",")


features_demograficas = [
    'sex', 'age', 'address', 'famsize', 'Pstatus', 'health',
    'Medu', 'Fedu',
    'Mjob_teacher', 'Mjob_health', 'Mjob_services', 'Mjob_at_home', 'Mjob_other',
    'Fjob_teacher', 'Fjob_health', 'Fjob_services', 'Fjob_at_home', 'Fjob_other',
    'guardian_mother', 'guardian_father', 'guardian_other'
]

d1_features_demograficas = features_demograficas + ['G1', 'G2', 'G3']


# usando correlação de Pearson
correlation_matrix_pearson = d1_trabalhado[d1_features_demograficas].corr()
correlation_with_g3 = correlation_matrix_pearson['G3'].sort_values(ascending=False)

print(correlation_with_g3)


# usando correlação de Spearman
correlation_matrix_spearman = d1_trabalhado[d1_features_demograficas].corr(method='spearman')
correlation_with_g3_spearman = correlation_matrix_spearman['G3'].sort_values(ascending=False)

print(correlation_with_g3_spearman)








correlation_with_g1 = correlation_matrix_pearson['G1'].sort_values(ascending=False)
print(correlation_with_g1)


correlation_with_g1_spearman = correlation_matrix_spearman['G1'].sort_values(ascending=False)
print(correlation_with_g1_spearman)








correlation_with_g2 = correlation_matrix_pearson['G2'].sort_values(ascending=False)
print(correlation_with_g2)


correlation_with_g2_spearman = correlation_matrix_spearman['G2'].sort_values(ascending=False)
print(correlation_with_g2_spearman)











plt.figure(figsize=(10, 6))

sns.regplot(x='Medu', y='Fedu', data=d1_trabalhado, ci=None, color='blue', line_kws={'color': 'red'})

plt.title('Gráfico de Dispersão com Linha de Regressão entre Medu e Fedu')
plt.xlabel('Educação da Mãe (Medu)')
plt.ylabel('Educação do Pai (Fedu)')
plt.show()





plt.figure(figsize=(8, 6))

sns.regplot(x='age', y='G3', data=d1_trabalhado, ci=None, color='blue', line_kws={'color': 'red'})

plt.title('Gráfico de Dispersão com Linha de Regressão entre Idade e G3')
plt.xlabel('Idade')
plt.ylabel('G3')
plt.show()



