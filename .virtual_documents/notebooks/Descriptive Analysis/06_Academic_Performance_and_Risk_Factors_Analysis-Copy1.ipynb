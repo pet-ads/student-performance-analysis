


import pandas as pd
import numpy as np
import matplotlib.pyplot as plt
import seaborn as sns
d1_trabalhado = pd.read_csv("d1_trabalhado.csv", sep=",")


d1_features_perf_freq = ['failures', 'absences', 'G1', 'G2', 'G3']





# usando correlação de Pearson
correlation_matrix_pearson = d1_trabalhado[d1_features_perf_freq].corr()
correlation_with_g3 = correlation_matrix_pearson['G3'].sort_values(ascending=False)

print(correlation_with_g3)


# usando correlação de Spearman
correlation_matrix_spearman = d1_trabalhado[d1_features_perf_freq].corr(method='spearman')
correlation_with_g3_spearman = correlation_matrix_spearman['G3'].sort_values(ascending=False)

print(correlation_with_g3_spearman)











correlation_with_g1 = correlation_matrix_pearson['G1'].sort_values(ascending=False)
print(correlation_with_g1)


correlation_with_g1_spearman = correlation_matrix_spearman['G1'].sort_values(ascending=False)
print(correlation_with_g1_spearman)








correlation_with_g2 = correlation_matrix_pearson['G2'].sort_values(ascending=False)
print(correlation_with_g2)


correlation_with_g2_spearman = correlation_matrix_spearman['G2'].sort_values(ascending=False)
print(correlation_with_g2_spearman)











plt.figure(figsize=(12, 6))
ax = sns.histplot(d1_trabalhado['absences'], bins=range(int(d1_trabalhado['absences'].max()) + 1), kde=False)

# Adicionar contadores acima das barras
for p in ax.patches:
    height = p.get_height()
    ax.annotate(f'{int(height)}',
                (p.get_x() + p.get_width() / 2., height),
                ha='center', va='center',
                xytext=(0, 5),
                textcoords='offset points')

plt.title('Distribuição de Número de Faltas')
plt.xlabel('Número de Faltas')
plt.ylabel('Contagem de Alunos')
plt.grid(True)
plt.show()


# Filtrando os dados com G3 igual a 0 e absences igual a 0
g3_absences_zerados = d1_trabalhado[(d1_trabalhado['G3'] == 0) & (d1_trabalhado['absences'] == 0)]
count_zerados = len(g3_absences_zerados)

print(count_zerados)


# Filtrando somente os alunos que tiveram 0 em G3
g3_zerados = d1_trabalhado[(d1_trabalhado['G3'] == 0)]
print(len(g3_zerados))


# Filtrando para ver se existem alunos que tiveram 0 em G2, mas, por algum motivo, obtiveram nota em G3.
g3_maior_que_0_g2_zerado = d1_trabalhado.query("G3 > 0 & G2 == 0")
print(g3_maior_que_0_g2_zerado)





g3_absences_zerados.loc[:, ['G3', 'G2', 'G1', 'failures', 'absences']]





alunos_failures_incorretas = g3_absences_zerados.query("failures==0")
len(alunos_failures_incorretas)





alunos_failures_incorretas.loc[:, ['G1', 'G2', 'G3', 'failures']]


duas_failures = len(alunos_failures_incorretas.query("G2==0 & G3==0"))
print(duas_failures)

uma_failure = len(alunos_failures_incorretas) - duas_failures
print(uma_failure)





alunos_duas_failures = alunos_failures_incorretas.query("G2==0 & G3==0")
d1_trabalhado.loc[alunos_duas_failures.index, 'failures'] = 2


alunos_uma_failure = alunos_failures_incorretas.query("not (G2==0 & G3==0)")


d1_trabalhado.loc[alunos_uma_failure.index, 'failures'] = 1


#conferindo os resultados:
print(d1_trabalhado.loc[alunos_failures_incorretas.index, ['failures', 'G2', 'G3']])


correlation_gerall_pear = d1_trabalhado.corr()
correlation_geral_g3 = correlation_gerall_pear['G3'].sort_values(ascending=False)

print(correlation_geral_g3)


# Salvar o dataset atualizado em um arquivo CSV
# d1_trabalhado.to_csv('d1_atualizado.csv', index=False)
