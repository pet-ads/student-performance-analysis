import pandas as pd
import numpy as np
import matplotlib.pyplot as plt
import seaborn as sns
d1_trabalhado = pd.read_csv("d1_trabalhado.csv", sep=",")


d1_features_perf_freq = ['failures', 'absences', 'G1', 'G2', 'G3']





# usando correlação de Pearson
correlation_matrix_pearson = d1_trabalhado[d1_features_perf_freq].corr()
correlation_with_g3 = correlation_matrix_pearson['G3'].sort_values(ascending=False)

print(correlation_with_g3)



# usando correlação de Spearman
correlation_matrix_spearman = d1_trabalhado[d1_features_perf_freq].corr(method='spearman')
correlation_with_g3_spearman = correlation_matrix_spearman['G3'].sort_values(ascending=False)

print(correlation_with_g3_spearman)











correlation_with_g1 = correlation_matrix_pearson['G1'].sort_values(ascending=False)
print(correlation_with_g1)


correlation_with_g1_spearman = correlation_matrix_spearman['G1'].sort_values(ascending=False)
print(correlation_with_g1_spearman)








correlation_with_g2 = correlation_matrix_pearson['G2'].sort_values(ascending=False)
print(correlation_with_g2)


correlation_with_g2_spearman = correlation_matrix_spearman['G2'].sort_values(ascending=False)
print(correlation_with_g2_spearman)











plt.figure(figsize=(12, 6))
ax = sns.histplot(d1_trabalhado['absences'], bins=range(int(d1_trabalhado['absences'].max()) + 1), kde=False)

# Adicionar contadores acima das barras
for p in ax.patches:
    height = p.get_height()
    ax.annotate(f'{int(height)}',
                (p.get_x() + p.get_width() / 2., height),
                ha='center', va='center',
                xytext=(0, 5),
                textcoords='offset points')

plt.title('Distribuição de Número de Faltas')
plt.xlabel('Número de Faltas')
plt.ylabel('Contagem de Alunos')
plt.grid(True)
plt.show()


# Filtrar os dados com G3 igual a 0 e absences igual a 0
g3_absences_zerados = d1_trabalhado[(d1_trabalhado['G3'] == 0) & (d1_trabalhado['absences'] == 0)]
count_zerados = g3_absences_zerados['absences'].value_counts()

print(count_zerados)


# Filtrar os dados com G2 igual a 0 e absences igual a 0
g2_absences_zerados = d1_trabalhado[(d1_trabalhado['G2'] == 0) & (d1_trabalhado['absences'] == 0)]
count_zerados = g2_absences_zerados['absences'].value_counts()

print(count_zerados)





# usando correlação de Pearson
corr_geral_pearson = d1_trabalhado.corr()
corr_geral_absences_pearson = corr_geral_pearson['absences'].sort_values(ascending=False)

print(corr_geral_absences_pearson)


# usando correlação de Spearman
corr_geral_spearman = d1_trabalhado.corr(method='spearman')
corr_geral_absences_spearman = corr_geral_spearman['absences'].sort_values(ascending=False)

print(corr_geral_absences_spearman)
