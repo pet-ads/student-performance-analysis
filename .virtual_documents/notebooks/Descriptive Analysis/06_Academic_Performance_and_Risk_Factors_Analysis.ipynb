


import pandas as pd
import numpy as np
import matplotlib.pyplot as plt
import seaborn as sns
d1_trabalhado = pd.read_csv("d1_trabalhado.csv", sep=",")


d1_features_perf_freq = ['failures', 'absences', 'G1', 'G2', 'G3']





# usando correlação de Pearson
correlation_matrix_pearson = d1_trabalhado[d1_features_perf_freq].corr()
correlation_with_g3 = correlation_matrix_pearson['G3'].sort_values(ascending=False)

print(correlation_with_g3)


# usando correlação de Spearman
correlation_matrix_spearman = d1_trabalhado[d1_features_perf_freq].corr(method='spearman')
correlation_with_g3_spearman = correlation_matrix_spearman['G3'].sort_values(ascending=False)

print(correlation_with_g3_spearman)











correlation_with_g1 = correlation_matrix_pearson['G1'].sort_values(ascending=False)
print(correlation_with_g1)


correlation_with_g1_spearman = correlation_matrix_spearman['G1'].sort_values(ascending=False)
print(correlation_with_g1_spearman)








correlation_with_g2 = correlation_matrix_pearson['G2'].sort_values(ascending=False)
print(correlation_with_g2)


correlation_with_g2_spearman = correlation_matrix_spearman['G2'].sort_values(ascending=False)
print(correlation_with_g2_spearman)











correlation_geral_pearson = d1_trabalhado.corr()
correlation_geral_absences = correlation_geral_pearson['absences'].sort_values(ascending=False)

filtered_correlations = correlation_geral_absences[(correlation_geral_absences > 0.12) | (correlation_geral_absences < -0.12)]

print(filtered_correlations)





plt.figure(figsize=(12, 6))
ax = sns.histplot(d1_trabalhado['absences'], bins=range(int(d1_trabalhado['absences'].max()) + 1), kde=False)

# Adicionar contadores acima das barras
for p in ax.patches:
    height = p.get_height()
    ax.annotate(f'{int(height)}',
                (p.get_x() + p.get_width() / 2., height),
                ha='center', va='center',
                xytext=(0, 5),
                textcoords='offset points')

plt.title('Distribuição de Número de Faltas')
plt.xlabel('Número de Faltas')
plt.ylabel('Contagem de Alunos')
plt.grid(True)
plt.show()


# Filtrando os dados com G3 igual a 0 e absences igual a 0
g3_absences_zerados = d1_trabalhado[(d1_trabalhado['G3'] == 0) & (d1_trabalhado['absences'] == 0)]
count_zerados = len(g3_absences_zerados)

print(count_zerados)


# Filtrando somente os alunos que tiveram 0 em G3
g3_zerados = d1_trabalhado[(d1_trabalhado['G3'] == 0)]
print(len(g3_zerados))


# Filtrando para ver se existem alunos que tiveram 0 em G2, mas, por algum motivo, obtiveram nota em G3.
g3_maior_que_0_g2_zerado = d1_trabalhado.query("G3 > 0 & G2 == 0")
print(g3_maior_que_0_g2_zerado)





g3_absences_zerados.loc[:, ['G3', 'G2', 'G1', 'failures', 'absences']]


# criando uma nova coluna chamada dropout, indicando os alunos que abandonaram a escola
d1_trabalhado['dropout'] = ((d1_trabalhado['G3'] == 0) & (d1_trabalhado['absences'] == 0)).astype(int)
d1_trabalhado.head()





correlation_geral_pearson = d1_trabalhado.corr()
correlation_geral_failures = correlation_geral_pearson['failures'].sort_values(ascending=False)

filtered_correlations = correlation_geral_failures[(correlation_geral_failures > 0.12) | (correlation_geral_failures < -0.12)]

print(filtered_correlations)


correlation_geral_spearman = d1_trabalhado.corr(method='spearman')
correlation_geral_failures_spearman = correlation_geral_spearman['failures'].sort_values(ascending=False)

filtered_correlations_spearman = correlation_geral_failures_spearman[(correlation_geral_failures_spearman > 0.12) | (correlation_geral_failures_spearman < -0.12)]

print(filtered_correlations_spearman)





alunos_com_failures = d1_trabalhado.query("failures >= 1")
len(alunos_com_failures)

# 83 alunos que têm failures anteriores


distribuicao_notas = alunos_com_failures.G3.value_counts()
plt.figure(figsize=(8, 6))
distribuicao_notas.plot(kind='bar')
plt.ylabel('Número de Alunos')
plt.xlabel('Nota G3')
plt.title('Distribuição de G3 em alunos com failures')


distribuicao_notas = alunos_com_failures.G3.value_counts(normalize=True) * 100

# Plotar as porcentagens
plt.figure(figsize=(10, 6))
distribuicao_notas.plot(kind='bar', color='skyblue')
plt.title('Distribuição de Notas G3 em Porcentagem')
plt.xlabel('Nota G3')
plt.ylabel('Porcentagem (%)')

# Exibir os valores em cima das barras
for index, value in enumerate(distribuicao_notas):
    plt.text(index, value, f'{value:.1f}%', ha='center', va='bottom')











correlações_com_failures = {
    'guardian_other': 0.327187,
    'age': 0.236464,
    'Dalc': 0.187492,
    'Walc': 0.127912,
    'studytime': -0.157633,
    'Mjob_teacher': -0.164534,
    'guardian_mother': -0.185651,
    'paid': -0.200338,
    'Fedu': -0.236616,
    'Medu': -0.242373,
    'higher': -0.264547
}

plt.figure(figsize=(10, 6))
plt.barh(list(correlações_com_failures.keys()), correlações_com_failures.values(), color=['green' if x > 0 else 'red' for x in correlações_com_failures.values()])
plt.xlabel('Correlação com Failures')
plt.title('Correlação das Features com Failures')
plt.show()





# correlações de guardian_other
correlation_geral_g_other_spearman = correlation_geral_spearman['guardian_other'].sort_values(ascending=False)

filtered_correlations_spearman = correlation_geral_g_other_spearman[(correlation_geral_g_other_spearman > 0.12) | (correlation_geral_g_other_spearman < -0.12)]

print(filtered_correlations_spearman)








sns.pairplot(d1_trabalhado[d1_features_perf_freq],hue='G3')
