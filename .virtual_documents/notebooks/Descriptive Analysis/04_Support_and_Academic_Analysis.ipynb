


import pandas as pd
import numpy as np
import matplotlib.pyplot as plt
import seaborn as sns

d1_trabalhado = pd.read_csv("d1_trabalhado.csv", sep=",")


features_sup_rec =  [
    'reason_course', 'reason_home', 'reason_other', 'reason_reputation',
    'traveltime', 'studytime', 'schoolsup', 'famsup',
    'paid', 'nursery', 'higher', 'internet'
]

d1_features_sup_rec = features_sup_rec + ['G1', 'G2', 'G3']





# usando correlação de Pearson
correlation_matrix_pearson = d1_trabalhado[d1_features_sup_rec].corr()
correlation_with_g3 = correlation_matrix_pearson['G3'].sort_values(ascending=False)

print(correlation_with_g3)


# usando correlação de Spearman
correlation_matrix_spearman = d1_trabalhado[d1_features_sup_rec].corr(method='spearman')
correlation_with_g3_spearman = correlation_matrix_spearman['G3'].sort_values(ascending=False)

print(correlation_with_g3_spearman)











correlation_with_g1 = correlation_matrix_pearson['G1'].sort_values(ascending=False)
print(correlation_with_g1)


correlation_with_g1_spearman = correlation_matrix_spearman['G1'].sort_values(ascending=False)
print(correlation_with_g1_spearman)








correlation_with_g2 = correlation_matrix_pearson['G2'].sort_values(ascending=False)
print(correlation_with_g2)


correlation_with_g2_spearman = correlation_matrix_spearman['G2'].sort_values(ascending=False)
print(correlation_with_g2_spearman)











correlation_pearson_geral = d1_trabalhado.corr()
correlation_with_higher = correlation_pearson_geral['higher'].sort_values(ascending=False)

# Filtrando correlações positivas maiores que 0.12 e negativas menores que -0.12
filtered_correlations = correlation_with_higher[(correlation_with_higher > 0.12) | (correlation_with_higher < -0.12)]

print(filtered_correlations)


correlation_spearman_geral = d1_trabalhado.corr(method='spearman')
correlation_with_higher = correlation_spearman_geral['higher'].sort_values(ascending=False)

# Filtrando correlações positivas maiores que 0.12 e negativas menores que -0.14
filtered_correlations = correlation_with_higher[(correlation_with_higher > 0.12) | (correlation_with_higher < -0.12)]

print(filtered_correlations)








correlation_with_schoolsup = correlation_pearson_geral['schoolsup'].sort_values(ascending=False)

# Filtrando correlações positivas maiores que 0.12 e negativas menores que -0.12
filtered_correlations = correlation_with_schoolsup[(correlation_with_schoolsup > 0.12) | (correlation_with_schoolsup < -0.12)]

print(filtered_correlations)


correlation_with_schoolsup = correlation_spearman_geral['schoolsup'].sort_values(ascending=False)

# Filtrando correlações positivas maiores que 0.12 e negativas menores que -0.12
filtered_correlations = correlation_with_schoolsup[(correlation_with_schoolsup > 0.12) | (correlation_with_schoolsup < -0.12)]

print(filtered_correlations)








# Adicionando faixas de notas para facilitar a contagem
bins = [0, 5, 10, 15, 20]  # Ajuste esses limites conforme o intervalo das notas
labels = ['0-5', '6-10', '11-15', '16-20']
d1_trabalhado['G1_bins'] = pd.cut(d1_trabalhado['G1'], bins=bins, labels=labels, right=False)
d1_trabalhado['G2_bins'] = pd.cut(d1_trabalhado['G2'], bins=bins, labels=labels, right=False)
d1_trabalhado['G3_bins'] = pd.cut(d1_trabalhado['G3'], bins=bins, labels=labels, right=False)

# Configurações gerais para os gráficos
plt.figure(figsize=(18, 6))

# Gráfico 1: Contagem de alunos por faixas de G1 e schoolsup
plt.subplot(1, 3, 1)
sns.countplot(data=d1_trabalhado, x='G1_bins', hue='schoolsup', palette='Set2')
plt.title('Contagem de Alunos por Faixas de G1 e schoolsup')
plt.xlabel('Faixa de Notas G1')
plt.ylabel('Contagem')
plt.legend(title='schoolsup')

# Gráfico 2: Contagem de alunos por faixas de G2 e schoolsup
plt.subplot(1, 3, 2)
sns.countplot(data=d1_trabalhado, x='G2_bins', hue='schoolsup', palette='Set2')
plt.title('Contagem de Alunos por Faixas de G2 e schoolsup')
plt.xlabel('Faixa de Notas G2')
plt.ylabel('Contagem')
plt.legend(title='schoolsup')

# Gráfico 3: Contagem de alunos por faixas de G3 e schoolsup
plt.subplot(1, 3, 3)
sns.countplot(data=d1_trabalhado, x='G3_bins', hue='schoolsup', palette='Set2')
plt.title('Contagem de Alunos por Faixas de G3 e schoolsup')
plt.xlabel('Faixa de Notas G3')
plt.ylabel('Contagem')
plt.legend(title='schoolsup')

plt.tight_layout()
plt.show()





# Gráficos para 'higher'
plt.figure(figsize=(18, 6))

# Gráfico 4: Contagem de alunos por faixas de G1 e higher
plt.subplot(1, 3, 1)
sns.countplot(data=d1_trabalhado, x='G1_bins', hue='higher', palette='Set2')
plt.title('Contagem de Alunos por Faixas de G1 e higher')
plt.xlabel('Faixa de Notas G1')
plt.ylabel('Contagem')
plt.legend(title='higher')

# Gráfico 5: Contagem de alunos por faixas de G2 e higher
plt.subplot(1, 3, 2)
sns.countplot(data=d1_trabalhado, x='G2_bins', hue='higher', palette='Set2')
plt.title('Contagem de Alunos por Faixas de G2 e higher')
plt.xlabel('Faixa de Notas G2')
plt.ylabel('Contagem')
plt.legend(title='higher')

# Gráfico 6: Contagem de alunos por faixas de G3 e higher
plt.subplot(1, 3, 3)
sns.countplot(data=d1_trabalhado, x='G3_bins', hue='higher', palette='Set2')
plt.title('Contagem de Alunos por Faixas de G3 e higher')






