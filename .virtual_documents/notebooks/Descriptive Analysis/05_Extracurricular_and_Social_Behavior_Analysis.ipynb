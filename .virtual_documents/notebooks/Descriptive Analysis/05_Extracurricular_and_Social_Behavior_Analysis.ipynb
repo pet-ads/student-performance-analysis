


import pandas as pd
import numpy as np
import matplotlib.pyplot as plt
import seaborn as sns

d1_trabalhado = pd.read_csv("d1_trabalhado.csv", sep=",")


features_ext_behav =  [
    'famrel', 'activities', 'goout', 'freetime',
    'Dalc', 'Walc', 'romantic'
]

d1_features_ext_behav = features_ext_behav + ['G1', 'G2', 'G3']





# usando correlação de Pearson
correlation_matrix_pearson = d1_trabalhado[d1_features_ext_behav].corr()
correlation_with_g3 = correlation_matrix_pearson['G3'].sort_values(ascending=False)

print(correlation_with_g3)


# usando correlação de Spearman
correlation_matrix_spearman = d1_trabalhado[d1_features_ext_behav].corr(method='spearman')
correlation_with_g3_spearman = correlation_matrix_spearman['G3'].sort_values(ascending=False)

print(correlation_with_g3_spearman)











correlation_with_g1 = correlation_matrix_pearson['G1'].sort_values(ascending=False)
print(correlation_with_g1)


correlation_with_g1_spearman = correlation_matrix_spearman['G1'].sort_values(ascending=False)
print(correlation_with_g1_spearman)








correlation_with_g2 = correlation_matrix_pearson['G2'].sort_values(ascending=False)
print(correlation_with_g2)


correlation_with_g2_spearman = correlation_matrix_spearman['G2'].sort_values(ascending=False)
print(correlation_with_g2_spearman)








import pandas as pd

# Categorizar G3 em intervalos
def categorize_g3(value):
    if value < 10:
        return 'Low'
    elif 10 <= value < 15:
        return 'Medium'
    else:
        return 'High'

d1_trabalhado['G3_cat'] = d1_trabalhado['G3'].apply(categorize_g3)



# Categorizar Dalc e Goout
def categorize_dalc(value):
    if value == 1:
        return 'Low'
    elif value == 2:
        return 'Medium'
    else:
        return 'High'

def categorize_goout(value):
    if value == 1:
        return 'Low'
    elif value == 2:
        return 'Medium'
    else:
        return 'High'

d1_trabalhado['Dalc_cat'] = d1_trabalhado['Dalc'].apply(categorize_dalc)
d1_trabalhado['Goout_cat'] = d1_trabalhado['goout'].apply(categorize_goout)

# Criar a tabela de contingência com G3
contingency_table = pd.crosstab(index=[d1_trabalhado['Dalc_cat'], d1_trabalhado['Goout_cat']], 
                               columns=d1_trabalhado['G3_cat'])
print(contingency_table)




