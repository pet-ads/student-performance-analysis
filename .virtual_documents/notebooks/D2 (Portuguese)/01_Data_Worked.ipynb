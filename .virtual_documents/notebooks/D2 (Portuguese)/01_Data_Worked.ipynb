import pandas as pd
import numpy as np
import matplotlib.pyplot as plt
import seaborn as sns


d1 = pd.read_csv("/Ciência de Dados Geral/Performance de Estudantes/student-performance-analysis/data/student-mat.csv", sep=";")
d2 = pd.read_csv("/Ciência de Dados Geral/Performance de Estudantes/student-performance-analysis/data/student-por.csv", sep=";")

d3 = pd.merge(d1, d2, on=["school", "sex", "age", "address", "famsize", "Pstatus",
                          "Medu", "Fedu", "Mjob", "Fjob", "reason", "nursery", "internet"])

print(len(d3))


d2_trabalhado = d2.copy()





d2_trabalhado['sex'] = np.where(d2_trabalhado['sex'] == 'F', 1, 0)
d2_trabalhado['address'] = np.where(d2_trabalhado['address'] == 'U', 1, 0)
d2_trabalhado['famsize'] = np.where(d2_trabalhado['famsize'] == 'GT3', 1, 0)
d2_trabalhado['Pstatus'] = np.where(d2_trabalhado['Pstatus'] == 'T', 1, 0)
d2_trabalhado['schoolsup'] = np.where(d2_trabalhado['schoolsup'] == 'yes', 1, 0)
d2_trabalhado['famsup'] = np.where(d2_trabalhado['famsup'] == 'yes', 1, 0)
d2_trabalhado['paid'] = np.where(d2_trabalhado['paid'] == 'yes', 1, 0)
d2_trabalhado['activities'] = np.where(d2_trabalhado['activities'] == 'yes', 1, 0)
d2_trabalhado['nursery'] = np.where(d2_trabalhado['nursery'] == 'yes', 1, 0)
d2_trabalhado['higher'] = np.where(d2_trabalhado['higher'] == 'yes', 1, 0)
d2_trabalhado['internet'] = np.where(d2_trabalhado['internet'] == 'yes', 1, 0)
d2_trabalhado['romantic'] = np.where(d2_trabalhado['romantic'] == 'yes', 1, 0)


d2_trabalhado = pd.get_dummies(d2_trabalhado, columns=['Mjob', 'Fjob', 'reason', 'guardian'], prefix=['Mjob', 'Fjob', 'reason', 'guardian'])


d2_trabalhado = d2_trabalhado.drop(columns=['school'])


d2_trabalhado = d2_trabalhado.astype(int)


d2_trabalhado.to_csv('d2_trabalhado.csv', index=False)
