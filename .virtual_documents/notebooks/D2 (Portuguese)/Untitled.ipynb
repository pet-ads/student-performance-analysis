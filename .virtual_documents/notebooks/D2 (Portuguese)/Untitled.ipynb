import pandas as pd
import numpy as np
import matplotlib.pyplot as plt
import seaborn as sns
d2_trabalhado = pd.read_csv("d2_trabalhado.csv", sep=",")


# criando uma nova coluna chamada dropout, indicando os alunos que abandonaram a escola (G3 == 0  e absences == 0)
d2_trabalhado['dropout'] = ((d2_trabalhado['G3'] == 0) & (d2_trabalhado['absences'] == 0)).astype(int)
d2_trabalhado.head()


d2_trabalhado.dropout.value_counts()



