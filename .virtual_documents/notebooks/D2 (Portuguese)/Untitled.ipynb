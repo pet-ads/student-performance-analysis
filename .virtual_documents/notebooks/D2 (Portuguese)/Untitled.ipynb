import pandas as pd
import numpy as np
import matplotlib.pyplot as plt
import seaborn as sns

d2 = pd.read_csv("d2_trabalhado.csv", sep=",")


X = d2.drop(['G3'], axis=1)
y = d2['G3']


from sklearn.feature_selection import SelectKBest
from sklearn.feature_selection import f_regression

f_regression = SelectKBest(score_func=f_regression, k=6)
# k = 4 (é o número de variáveis selecionadas)


fit = f_regression.fit(X, y)
features = fit.transform(X)


print(features)



