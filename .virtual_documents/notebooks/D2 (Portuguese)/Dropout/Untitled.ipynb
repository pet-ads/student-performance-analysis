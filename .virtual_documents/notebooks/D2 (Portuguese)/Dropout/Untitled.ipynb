import pandas as pd
import seaborn as sn
import numpy as np
import matplotlib.pyplot as plt

d2 = pd.read_csv("d2_trabalhadoDrop.csv", sep=',')


dropout_students = d2[d2['dropout'] == 1]


# Filtrar os alunos que abandonaram a matéria (dropout == 1)
dropout_students = d2[d2['dropout'] == 1]

# Filtrar os alunos que não abandonaram a matéria (dropout == 0)
non_dropout_students = d2[d2['dropout'] == 0]

# Comparar as características
comparison = {}
for feature in ['G3', 'G2', 'G1', 'failures', 'absences', 'age', 'studytime', 'goout', 'famsup', 'Fedu']:
    comparison[feature] = {
        'dropout': dropout_students[feature].describe(),
        'non_dropout': non_dropout_students[feature].describe()
    }

# Imprimir a comparação
for feature, stats in comparison.items():
    print(f"\nComparação de {feature}:")
    print(f"Alunos que abandonaram:\n{stats['dropout']}")
    print(f"Alunos que não abandonaram:\n{stats['non_dropout']}")



from scipy.stats import ttest_ind

# Comparar características contínuas usando o teste t
for feature in ['G3', 'G2', 'G1', 'failures', 'absences', 'age', 'studytime']:
    dropout_values = dropout_students[feature]
    non_dropout_values = non_dropout_students[feature]
    t_stat, p_value = ttest_ind(dropout_values, non_dropout_values, equal_var=False)  # equal_var=False para variâncias desiguais
    print(f"\nTeste t para {feature}:")
    print(f"Estatística t: {t_stat:.4f}, Valor p: {p_value:.4f}")



import seaborn as sns
import matplotlib.pyplot as plt

# Criação de gráficos para comparação
features_to_plot = ['G3', 'G2', 'G1', 'failures', 'absences', 'age', 'studytime', 'goout', 'famsup', 'Fedu']

for feature in features_to_plot:
    plt.figure(figsize=(10, 6))
    sns.boxplot(x='dropout', y=feature, data=d2)
    plt.title(f'Distribuição de {feature} por Dropout')
    plt.xlabel('Dropout (1 = Abandonou, 0 = Não Abandonou)')
    plt.ylabel(feature)
    plt.show()



plt.figure(figsize=(10, 6))
sns.countplot(x='failures', hue='dropout', data=d2)
plt.title('Contagem de Studytime por Dropout')
plt.xlabel('Studytime - Tempo')
plt.ylabel('Contagem')
plt.legend(title='Dropout', labels=['Não Abandonou', 'Abandonou'])
plt.show()




