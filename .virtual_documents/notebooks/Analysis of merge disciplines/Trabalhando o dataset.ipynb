import pandas as pd
import numpy as np
import matplotlib.pyplot as plt
import seaborn as sns

d1 = pd.read_csv("/Ciência de Dados Geral/Performance de Estudantes/student-performance-analysis/data/student-mat.csv", sep=";")
d2 = pd.read_csv("/Ciência de Dados Geral/Performance de Estudantes/student-performance-analysis/data/student-por.csv", sep=";")

d3 = pd.merge(d1, d2, on=["school", "sex", "age", "address", "famsize", "Pstatus",
                          "Medu", "Fedu", "Mjob", "Fjob", "reason", "nursery", "internet"])

print(len(d3))


d3.columns


d3_trabalhado = d3.copy()


d3_trabalhado['sex'] = np.where(d3_trabalhado['sex'] == 'F', 1, 0)
d3_trabalhado['address'] = np.where(d3_trabalhado['address'] == 'U', 1, 0)
d3_trabalhado['famsize'] = np.where(d3_trabalhado['famsize'] == 'GT3', 1, 0)
d3_trabalhado['Pstatus'] = np.where(d3_trabalhado['Pstatus'] == 'T', 1, 0)
d3_trabalhado['nursery'] = np.where(d3_trabalhado['nursery'] == 'yes', 1, 0)
d3_trabalhado['internet'] = np.where(d3_trabalhado['internet'] == 'yes', 1, 0)


d3_trabalhado['schoolsup_x'] = np.where(d3_trabalhado['schoolsup_x'] == 'yes', 1, 0)
d3_trabalhado['schoolsup_y'] = np.where(d3_trabalhado['schoolsup_y'] == 'yes', 1, 0)

d3_trabalhado['famsup_x'] = np.where(d3_trabalhado['famsup_x'] == 'yes', 1, 0)
d3_trabalhado['famsup_y'] = np.where(d3_trabalhado['famsup_y'] == 'yes', 1, 0)

d3_trabalhado['paid_x'] = np.where(d3_trabalhado['paid_x'] == 'yes', 1, 0)
d3_trabalhado['paid_y'] = np.where(d3_trabalhado['paid_y'] == 'yes', 1, 0)

d3_trabalhado['activities_x'] = np.where(d3_trabalhado['activities_x'] == 'yes', 1, 0)
d3_trabalhado['activities_y'] = np.where(d3_trabalhado['activities_y'] == 'yes', 1, 0)

d3_trabalhado['higher_x'] = np.where(d3_trabalhado['higher_x'] == 'yes', 1, 0)
d3_trabalhado['higher_y'] = np.where(d3_trabalhado['higher_y'] == 'yes', 1, 0)

d3_trabalhado['romantic_x'] = np.where(d3_trabalhado['romantic_x'] == 'yes', 1, 0)
d3_trabalhado['romantic_y'] = np.where(d3_trabalhado['romantic_y'] == 'yes', 1, 0)


d3_trabalhado = pd.get_dummies(d3_trabalhado, columns=['Mjob', 'Fjob', 'reason'], prefix=['Mjob', 'Fjob', 'reason'])


d3_trabalhado = pd.get_dummies(d3_trabalhado, columns=['guardian_x', 'guardian_y'], prefix=['guardian_x','guardian_y'])


d3_trabalhado = d3_trabalhado.drop(columns=['school'])


d3_trabalhado = d3_trabalhado.astype(int)


d3_trabalhado.dtypes.value_counts()


# Salvando d3_trabalhado
d3_trabalhado.to_csv('d3_trabalhado.csv', index=False)
