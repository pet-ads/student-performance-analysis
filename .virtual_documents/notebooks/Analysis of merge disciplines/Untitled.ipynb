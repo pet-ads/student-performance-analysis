


import pandas as pd
import numpy as np
import matplotlib.pyplot as plt
import seaborn as sns

d1 = pd.read_csv("/Ciência de Dados Geral/Performance de Estudantes/student-performance-analysis/data/student-mat.csv", sep=";")
d2 = pd.read_csv("/Ciência de Dados Geral/Performance de Estudantes/student-performance-analysis/data/student-por.csv", sep=";")

d3 = pd.merge(d1, d2, on=["school", "sex", "age", "address", "famsize", "Pstatus",
                          "Medu", "Fedu", "Mjob", "Fjob", "reason", "nursery", "internet"])

print(len(d3))


d3.columns





d3['dropout_x'] = ((d3['G3_x'] == 0) & (d3['absences_x'] == 0)).astype(int)
d3.head()


d3['dropout_y'] = ((d3['G3_y'] == 0) & (d3['absences_y'] == 0)).astype(int)
d3.head()





# Transformando o target G3 em atributo categórico
# Definindo os limites para cada faixa
limite_insuficiente = 9
limite_regular = 14
limite_excelente = 20

def transform_note(valor):
    if valor <= limite_insuficiente:
        return 'insuficiente'
    elif valor <= limite_regular:
        return 'regular'
    elif valor <= limite_excelente:
        return 'excelente'


# Aplicando a função para transformar a coluna G3
d3['G3_transform_x'] = d3['G3_x'].apply(transform_note)
d3['G2_transform_x'] = d3['G2_x'].apply(transform_note)
d3['G1_transform_x'] = d3['G1_x'].apply(transform_note)


d3['G3_transform_x']


d3['G3_transform_y'] = d3['G3_y'].apply(transform_note)
d3['G2_transform_y'] = d3['G2_y'].apply(transform_note)
d3['G1_transform_y'] = d3['G1_y'].apply(transform_note)


d3['G3_transform_y']


# Aqui estou definindo uma ordem hierárquica ao G3_transform. A ideia é que 
# ao chamar ele em uma operação, as categorias (baixo, mediano, alto, 
# excelente) apareçam de forma hierárquica
categorias_notes = ['insuficiente', 'regular', 'excelente']
ordem_notes = pd.api.types.CategoricalDtype(categories=categorias_notes, ordered=True)

d1_trabalhado_copy['G3_transform'] = d1_trabalhado_copy['G3_transform'].astype(ordem_notes)
d1_trabalhado_copy['G2_transform'] = d1_trabalhado_copy['G2_transform'].astype(ordem_notes)
d1_trabalhado_copy['G1_transform'] = d1_trabalhado_copy['G1_transform'].astype(ordem_notes)


grouped = d3.groupby(['G3_transform_y']).size()
print(grouped)



