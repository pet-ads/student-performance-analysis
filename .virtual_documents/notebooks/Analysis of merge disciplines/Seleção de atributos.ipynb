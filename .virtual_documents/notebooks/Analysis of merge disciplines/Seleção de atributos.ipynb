import pandas as pd
import numpy as np
import matplotlib.pyplot as plt
import seaborn as sns

d3_trabalhado = pd.read_csv("d3_trabalhado.csv", sep=",")


d3_trabalhado.isna().sum().value_counts()








X = d3_trabalhado.drop(['G3_x'], axis=1)
y = d3_trabalhado['G3_x']


from sklearn.feature_selection import SelectKBest
from sklearn.feature_selection import f_regression

f_regression = SelectKBest(score_func=f_regression, k=8)


fit = f_regression.fit(X, y)


features = fit.transform(X)


print(features)


cols = fit.get_support(indices=True)
d3.iloc[:, cols]





from sklearn.linear_model import LogisticRegression
from sklearn.feature_selection import RFE

model = LogisticRegression(solver='saga', max_iter=5000)
rfe = RFE(model, n_features_to_select=6, step=2)


fit = rfe.fit(X,y)


print("Número de features: {}".format(fit.n_features_))



