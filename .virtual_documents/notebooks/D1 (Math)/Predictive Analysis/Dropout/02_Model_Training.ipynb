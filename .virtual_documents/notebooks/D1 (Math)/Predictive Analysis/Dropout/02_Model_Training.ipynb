import pandas as pd
import seaborn as sn
import numpy as np
import matplotlib.pyplot as plt

d1 = pd.read_csv("d1_trabalhadoDrop.csv", sep=',')


from sklearn.preprocessing import MinMaxScaler
scaler = MinMaxScaler()
scaler.fit(d1)
d1_trabalhadoC = pd.DataFrame(scaler.transform(d1), columns = d1.columns)


target = 'dropout'
features = ['failures', 'paid', 'studytime', 'Medu', 'internet']

print('Features:', features)
print('Target:', target)


from sklearn.model_selection import train_test_split

X_train, X_val, y_train, y_val = train_test_split(d1_trabalhadoC[features], d1_trabalhadoC[target],
                                                    test_size=0.2, random_state=42)

print(X_train.shape)
print(X_val.shape)
print(y_train.shape)
print(y_val.shape)


# Importando nosso classificador
from sklearn.neighbors import KNeighborsClassifier

clf = KNeighborsClassifier(n_neighbors=5)
clf.fit(X_train, y_train)


y_pred = clf.predict(X_val)


from sklearn.metrics import accuracy_score

acc = accuracy_score(y_val, y_pred)
print('Acurácia:', acc)
