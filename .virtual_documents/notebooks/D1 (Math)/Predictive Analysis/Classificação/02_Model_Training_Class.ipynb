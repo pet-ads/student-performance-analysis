


import pandas as pd
import seaborn as sn
import numpy as np
import matplotlib.pyplot as plt

d1_trabalhadoC = pd.read_csv("d1_trabalhadoC.csv", sep=',')


from sklearn.preprocessing import MinMaxScaler
scaler = MinMaxScaler()
scaler.fit(d1_trabalhadoC)
d1_trabalhadoC = pd.DataFrame(scaler.transform(d1_trabalhadoC), columns = d1_trabalhadoC.columns)


target = 'G3_excelente'
features = ['failures', 'Medu', 'internet','absences']

print('Features:', features)
print('Target:', target)


from sklearn.model_selection import train_test_split

X_train, X_val, y_train, y_val = train_test_split(d1_trabalhadoC[features], d1_trabalhadoC[target],
                                                    test_size=0.2, random_state=42)

print(X_train.shape)
print(X_val.shape)
print(y_train.shape)
print(y_val.shape)





# Importando nosso classificador
from sklearn.neighbors import KNeighborsClassifier

clf = KNeighborsClassifier(n_neighbors=7)
clf.fit(X_train, y_train)


y_pred = clf.predict(X_val)


from sklearn.metrics import accuracy_score

acc = accuracy_score(y_val, y_pred)
print('Acurácia:', acc)





d1_trabalhadoC.columns


from sklearn.model_selection import train_test_split
from sklearn.metrics import accuracy_score, classification_report, confusion_matrix
from sklearn import tree

target = 'G3_excelente'
features = ['failures', 'Medu', 'absences', 'famsup', 'internet', 'studytime']

X = d1_trabalhadoC[features]
y = d1_trabalhadoC[target]


X_train, X_test, y_train, y_test = train_test_split(X, y, test_size=0.2, random_state=42)

clf = tree.DecisionTreeClassifier(random_state=42)
clf = clf.fit(X_train, y_train)

y_pred = clf.predict(X_test)


accuracy = accuracy_score(y_test, y_pred)
print(f'Accuracy: {accuracy:.2f}')

print('Classification Report:')
print(classification_report(y_test, y_pred))

conf_matrix = confusion_matrix(y_test, y_pred)
print('Confusion Matrix:')
print(conf_matrix)
