import pandas as pd
import matplotlib.pyplot as plt
import seaborn as sns

d1_trabalhadoC = pd.read_csv("d1_trabalhadoCl.csv", sep=",")


# Transformando o target G3 em atributo categórico
# Definindo os limites para cada faixa
limite_insuficiente = 9
limite_regular = 14
limite_excelente = 20

def transform_note(valor):
    if valor <= limite_insuficiente:
        return 'insuficiente'
    elif valor <= limite_regular:
        return 'regular'
    elif valor <= limite_excelente:
        return 'excelente'


# Aplicando a função para transformar a coluna G3
d1_trabalhadoC['G3_transform'] = d1_trabalhadoC['G3'].apply(transform_note)
d1_trabalhadoC['G2_transform'] = d1_trabalhadoC['G2'].apply(transform_note)
d1_trabalhadoC['G1_transform'] = d1_trabalhadoC['G1'].apply(transform_note)


d1_trabalhadoC['G3_transform']


# Aqui estou definindo uma ordem hierárquica ao G3_transform. A ideia é que 
# ao chamar ele em uma operação, as categorias (baixo, mediano, alto, 
# excelente) apareçam de forma hierárquica
categorias_notes = ['insuficiente', 'regular', 'excelente']
ordem_notes = pd.api.types.CategoricalDtype(categories=categorias_notes, ordered=True)

d1_trabalhadoC['G3_transform'] = d1_trabalhadoC['G3_transform'].astype(ordem_notes)
d1_trabalhadoC['G2_transform'] = d1_trabalhadoC['G2_transform'].astype(ordem_notes)
d1_trabalhadoC['G1_transform'] = d1_trabalhadoC['G1_transform'].astype(ordem_notes)


grouped = d1_trabalhadoC.groupby(['G3_transform']).size()
print(grouped)


d1_trabalhadoC.drop(['G1', 'G2', 'G3'], axis=1, inplace=True)


d1_trabalhadoC.rename(columns={"G1_transform": "G1"}, inplace=True)


d1_trabalhadoC.rename(columns={"G2_transform": "G2"}, inplace=True)


d1_trabalhadoC.rename(columns={"G3_transform": "G3"}, inplace=True)


d1_trabalhadoC.columns


d1_trabalhadoC.to_csv("d1_trabalhadoCl.csv", sep=",", index=False)
