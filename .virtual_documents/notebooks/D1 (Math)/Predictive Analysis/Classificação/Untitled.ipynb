import pandas as pd
import seaborn as sn
import matplotlib as plt

d1_trabalhadoC = pd.read_csv("d1_trabalhadoC.csv", sep=',')'


target = 'G3'
features = list(d1_trabalhadoC.columns)
features.remove(target)

print('Features:', features)
print('Target:', target)


from sklearn.model_selection import train_test_split

X_train, X_val, y_train, y_val = train_test_split(d1_trabalhadoC[features], d1_trabalhadoC[target],
                                                    test_size=0.2, random_state=42)

print(X_train.shape)
print(X_val.shape)
print(y_train.shape)
print(y_val.shape)





# Importando nosso classificador
from sklearn.neighbors import KNeighborsClassifier

clf = KNeighborsClassifier(n_neighbors=5)
clf.fit(X_train, y_train)
