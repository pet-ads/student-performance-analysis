





import pandas as pd
import numpy as np
import matplotlib.pyplot as plt
import seaborn as sns


d1 = pd.read_csv("/Ciência de Dados Geral/Performance de Estudantes/student-performance-analysis/data/student-mat.csv", sep=";")
d2 = pd.read_csv("/Ciência de Dados Geral/Performance de Estudantes/student-performance-analysis/data/student-por.csv", sep=";")

d3 = pd.merge(d1, d2, on=["school", "sex", "age", "address", "famsize", "Pstatus",
                          "Medu", "Fedu", "Mjob", "Fjob", "reason", "nursery", "internet"])

print(len(d3))


different_freetime = d3[d3['freetime_x'] != d3['freetime_y']]

# Exibir as linhas diferentes
print(different_freetime[['freetime_x', 'freetime_y']])
