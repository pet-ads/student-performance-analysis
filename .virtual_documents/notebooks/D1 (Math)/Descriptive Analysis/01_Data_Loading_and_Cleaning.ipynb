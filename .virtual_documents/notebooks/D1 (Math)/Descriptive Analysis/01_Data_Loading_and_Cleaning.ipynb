


import pandas as pd
import numpy as np
import matplotlib.pyplot as plt
import seaborn as sns


d1 = pd.read_csv("/Ciência de Dados Geral/Performance de Estudantes/student-performance-analysis/data/student-mat.csv", sep=";")
d2 = pd.read_csv("/Ciência de Dados Geral/Performance de Estudantes/student-performance-analysis/data/student-por.csv", sep=";")

d3 = pd.merge(d1, d2, on=["school", "sex", "age", "address", "famsize", "Pstatus",
                          "Medu", "Fedu", "Mjob", "Fjob", "reason", "nursery", "internet"])

print(len(d3))





d1.shape

#395 linhas (estudantes) e 33 colunas


d1.head()


d1.columns


d1.dtypes

# no total, são 17 colunas object (categóricas) e 16 colunas int (numéricas)


d1.dtypes.value_counts()


#Dividindo as colunas entre categórias e numéricas para visualizar melhor os dados

col_categoricas = []
col_numericas = []
for coluna in d1.columns:
    if d1[coluna].dtype == 'object':
        col_categoricas.append(coluna)
    elif d1[coluna].dtype == 'int64':
        col_numericas.append(coluna)


d1[col_categoricas].describe()


d1[col_numericas].describe()








d1.isnull().sum()

#sem valores nulos


d1.describe()


# Distribuição dos dados
d1.hist(bins=10, figsize=(15, 10))
plt.show()


sns.boxplot(x=d1['age'])
plt.title('Boxplot de Idades')
plt.show()

sns.boxplot(x=d1['absences'])
plt.title('Boxplot de Absences')
plt.show()











d1_trabalhado['sex'] = np.where(d1_trabalhado['sex'] == 'F', 1, 0)
d1_trabalhado['address'] = np.where(d1_trabalhado['address'] == 'U', 1, 0)
d1_trabalhado['famsize'] = np.where(d1_trabalhado['famsize'] == 'GT3', 1, 0)
d1_trabalhado['Pstatus'] = np.where(d1_trabalhado['Pstatus'] == 'T', 1, 0)
d1_trabalhado['schoolsup'] = np.where(d1_trabalhado['schoolsup'] == 'yes', 1, 0)
d1_trabalhado['famsup'] = np.where(d1_trabalhado['famsup'] == 'yes', 1, 0)
d1_trabalhado['paid'] = np.where(d1_trabalhado['paid'] == 'yes', 1, 0)
d1_trabalhado['activities'] = np.where(d1_trabalhado['activities'] == 'yes', 1, 0)
d1_trabalhado['nursery'] = np.where(d1_trabalhado['nursery'] == 'yes', 1, 0)
d1_trabalhado['higher'] = np.where(d1_trabalhado['higher'] == 'yes', 1, 0)
d1_trabalhado['internet'] = np.where(d1_trabalhado['internet'] == 'yes', 1, 0)
d1_trabalhado['romantic'] = np.where(d1_trabalhado['romantic'] == 'yes', 1, 0)


d1_trabalhado = pd.get_dummies(d1_trabalhado, columns=['Mjob', 'Fjob', 'reason', 'guardian'], prefix=['Mjob', 'Fjob', 'reason', 'guardian'])


# Dropando a coluna school, pois não pretendemos fazer uma comparação entre as duas escolas. Como queremos fazer uma análise geral dos estudantes,
# essa informação acaba ficando irrelevante
d1_trabalhado = d1_trabalhado.drop(columns=['school'])


d1_trabalhado.columns


d1_trabalhado.dtypes


# Salvando d1_trabalhado

# Salvando o dataset processado em um arquivo CSV
d1_trabalhado.to_csv('d1_trabalhado.csv', index=False)



