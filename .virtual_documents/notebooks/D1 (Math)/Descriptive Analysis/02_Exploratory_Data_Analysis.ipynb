





import pandas as pd
import matplotlib.pyplot as plt
import seaborn as sns

d1 = pd.read_csv("/Ciência de Dados Geral/Performance de Estudantes/student-performance-analysis/data/student-mat.csv", sep=";")
d1_trabalhado = pd.read_csv("d1_trabalhado.csv", sep=",")
d1_trabalhado_copy = pd.read_csv("d1_trabalhado-cp1.csv", sep=",")











# Transformando o target G3 em atributo categórico
# Definindo os limites para cada faixa
limite_insuficiente = 9
limite_regular = 14
limite_excelente = 20

def transform_note(valor):
    if valor <= limite_insuficiente:
        return 'insuficiente'
    elif valor <= limite_regular:
        return 'regular'
    elif valor <= limite_excelente:
        return 'excelente'


# Aplicando a função para transformar a coluna G3
d1_trabalhado_copy['G3_transform'] = d1['G3'].apply(transform_note)
d1_trabalhado_copy['G2_transform'] = d1['G2'].apply(transform_note)
d1_trabalhado_copy['G1_transform'] = d1['G1'].apply(transform_note)


d1_trabalhado_copy['G3_transform']


# Aqui estou definindo uma ordem hierárquica ao G3_transform. A ideia é que 
# ao chamar ele em uma operação, as categorias (baixo, mediano, alto, 
# excelente) apareçam de forma hierárquica
categorias_notes = ['insuficiente', 'regular', 'excelente']
ordem_notes = pd.api.types.CategoricalDtype(categories=categorias_notes, ordered=True)

d1_trabalhado_copy['G3_transform'] = d1_trabalhado_copy['G3_transform'].astype(ordem_notes)
d1_trabalhado_copy['G2_transform'] = d1_trabalhado_copy['G2_transform'].astype(ordem_notes)
d1_trabalhado_copy['G1_transform'] = d1_trabalhado_copy['G1_transform'].astype(ordem_notes)


grouped = d1_trabalhado_copy.groupby(['G3_transform']).size()
print(grouped)





d1_trabalhado_copy.G3_transform.value_counts().plot(kind='bar', title='Divisão das notas por limite em G3',color = ['#219ebc', '#023047']);


# distruicão completa
d1_trabalhado.G3.value_counts().plot(kind='bar', title='G3');


plt.figure(figsize=(10, 6))
sns.histplot(d1_trabalhado['G3'], kde=True)
plt.title('Histograma da Variável')
plt.xlabel('Valor')
plt.ylabel('Frequência')
plt.show()


d1_trabalhado.G3.describe()


plt.figure(figsize=(10, 6))
sns.boxplot(x=d1_trabalhado['G3'])
plt.title('Box Plot da Variável')
plt.xlabel('Valor')
plt.show()


sns.countplot(data = d1_trabalhado_copy, x = "Medu", hue = "G3_transform")
plt.show()


sns.countplot(data = d1_trabalhado_copy, x = "Fedu", hue = "G3_transform")
plt.show()


sns.countplot(data = d1_trabalhado_copy, x = "studytime", hue = "G3_transform")
plt.show()


sns.countplot(data = d1_trabalhado_copy, x = "sex", hue = "G3_transform")
plt.show()


sns.countplot(data = d1_trabalhado_copy, x = "internet", hue = "G3_transform")
plt.show()


sns.countplot(data = d1_trabalhado_copy, x = "failures", hue = "G3_transform")
plt.show()


sns.countplot(data = d1_trabalhado_copy, x = "age", hue = "G3_transform")
plt.show()


sns.countplot(data = d1_trabalhado_copy, x = "goout", hue = "G3_transform")
plt.show() 


# Formatando o tamanho do plot
plt.rcParams["figure.figsize"] = [8.00, 4.00]
plt.rcParams["figure.autolayout"] = True


# Visualizando a Variável Sex x G3
sns.countplot(data = d1_trabalhado, x = "sex", hue = "G3")
plt.show()


# Visualizando a Variável Sex x G3
sns.countplot(data = d1_trabalhado, x = "failures", hue = "G3")
plt.show()





d1_trabalhado_copy.G2_transform.value_counts().plot(kind='bar', title='G2',color = ['#219ebc', '#023047']);


d1_trabalhado.G2.value_counts().plot(kind='bar', title='G2');


sns.countplot(data = d1_trabalhado_copy, x = "Medu", hue = "G2_transform")
plt.show()


sns.countplot(data = d1_trabalhado_copy, x = "higher", hue = "G2_transform")
plt.show()


sns.countplot(data = d1_trabalhado_copy, x = "studytime", hue = "G2_transform")
plt.show()


sns.countplot(data = d1_trabalhado_copy, x = "internet", hue = "G2_transform")
plt.show()





d1_trabalhado_copy.G1_transform.value_counts().plot(kind='bar', title='G1',color = ['#219ebc', '#023047']);


d1_trabalhado.G2.value_counts().plot(kind='bar', title='G1');


sns.countplot(data = d1_trabalhado_copy, x = "Medu", hue = "G1_transform")
plt.show()


sns.countplot(data = d1_trabalhado_copy, x = "schoolsup", hue = "G1_transform")
plt.show()


sns.countplot(data = d1_trabalhado_copy, x = "Mjob_other", hue = "G1_transform")
plt.show()


sns.countplot(data = d1_trabalhado_copy, x = "failures", hue = "G1_transform")
plt.show()








numeric_cols = d1.select_dtypes(include=['int64', 'float64']).columns

# Criar histogramas
for col in numeric_cols:
    plt.figure(figsize=(6, 4))
    sns.histplot(d1[col], bins=20, kde=True)
    plt.title(f'Distribuição da variável {col}')
    plt.xlabel(col)
    plt.ylabel('Frequência')
    plt.show()








categorical_cols = d1.select_dtypes(include=['object', 'category', 'bool']).columns
categorical_cols = categorical_cols.drop('school')

for col in categorical_cols:
    plt.figure(figsize=(6, 4))
    ax = sns.countplot(x=d1[col])
    total = len(d1[col])
    for p in ax.patches:
        percentage = '{:.1f}%'.format(100 * p.get_height() / total)
        x = p.get_x() + p.get_width() / 2 - 0.05
        y = p.get_height()
        ax.annotate(percentage, (x, y), ha='center', va='center', xytext=(0, 5), textcoords='offset points')
    plt.title(f'Contagem de categorias na variável {col}')
    plt.xlabel(col)
    plt.ylabel('Porcentagem')
    plt.xticks(rotation=45)
    plt.show()



