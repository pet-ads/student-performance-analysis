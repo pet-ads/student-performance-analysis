{
 "cells": [
  {
   "cell_type": "markdown",
   "id": "c3af4be6-313e-40eb-a389-99dd6ab013e4",
   "metadata": {},
   "source": [
    "# Análise Bivariada e Multivariada das features fora do ambiente escolar\n",
    "As features selecionadas são relacionadas ao comportamento dos estudantes fora do ambiente escolar e ao ambiente social e familiar. Elas refletem aspectos do estilo de vida, atividades extracurriculares, consumo de álcool e relacionamentos. <br>\n",
    "Features escolhidas:<br>\n",
    "\n",
    "- Famrel: Relação com a família, medida de qualidade das relações familiares.<br>\n",
    "- Activities: Participação em atividades extracurriculares fora da escola.<br>\n",
    "- Goout: Frequência de saídas para eventos sociais ou recreativos.<br>\n",
    "- Freetime: Tempo disponível para lazer e atividades pessoais.<br>\n",
    "- Dalc: Frequência de consumo de álcool durante a semana (dias da semana).<br>\n",
    "- Walc: Frequência de consumo de álcool nos finais de semana.<br>\n",
    "- Romantic: Estado de relacionamento romântico (se o estudante está ou não em um relacionamento).<br>"
   ]
  },
  {
   "cell_type": "code",
   "execution_count": 1,
   "id": "c174ecfb-61a6-456c-9b13-aa0b77fe32ec",
   "metadata": {},
   "outputs": [],
   "source": [
    "import pandas as pd\n",
    "import numpy as np\n",
    "import matplotlib.pyplot as plt\n",
    "import seaborn as sns\n",
    "\n",
    "d1_trabalhado = pd.read_csv(\"d1_trabalhado.csv\", sep=\",\")"
   ]
  },
  {
   "cell_type": "code",
   "execution_count": 4,
   "id": "23801063-eff5-4aa7-8ab8-732052fd2af8",
   "metadata": {},
   "outputs": [],
   "source": [
    "features_ext_behav =  [\n",
    "    'famrel', 'activities', 'goout', 'freetime',\n",
    "    'Dalc', 'Walc', 'romantic'\n",
    "]\n",
    "\n",
    "d1_features_ext_behav = features_ext_behav + ['G1', 'G2', 'G3']"
   ]
  },
  {
   "cell_type": "markdown",
   "id": "e37f36ac-67dc-498f-8209-80d593333217",
   "metadata": {
    "jp-MarkdownHeadingCollapsed": true
   },
   "source": [
    "## Analisando em relação à G3"
   ]
  },
  {
   "cell_type": "code",
   "execution_count": 5,
   "id": "374dfd9b-9661-45bc-be87-bd9cd6ffad9b",
   "metadata": {},
   "outputs": [
    {
     "name": "stdout",
     "output_type": "stream",
     "text": [
      "G3            1.000000\n",
      "G2            0.904868\n",
      "G1            0.801468\n",
      "famrel        0.051363\n",
      "activities    0.016100\n",
      "freetime      0.011307\n",
      "Walc         -0.051939\n",
      "Dalc         -0.054660\n",
      "romantic     -0.129970\n",
      "goout        -0.132791\n",
      "Name: G3, dtype: float64\n"
     ]
    }
   ],
   "source": [
    "# usando correlação de Pearson\n",
    "correlation_matrix_pearson = d1_trabalhado[d1_features_ext_behav].corr()\n",
    "correlation_with_g3 = correlation_matrix_pearson['G3'].sort_values(ascending=False)\n",
    "\n",
    "print(correlation_with_g3)"
   ]
  },
  {
   "cell_type": "code",
   "execution_count": 7,
   "id": "3d1186e0-fead-4560-b356-012623b282a3",
   "metadata": {},
   "outputs": [
    {
     "name": "stdout",
     "output_type": "stream",
     "text": [
      "G3            1.000000\n",
      "G2            0.957125\n",
      "G1            0.878001\n",
      "famrel        0.054977\n",
      "activities    0.026090\n",
      "freetime     -0.004994\n",
      "romantic     -0.091460\n",
      "Walc         -0.104459\n",
      "Dalc         -0.120944\n",
      "goout        -0.166119\n",
      "Name: G3, dtype: float64\n"
     ]
    }
   ],
   "source": [
    "# usando correlação de Spearman\n",
    "correlation_matrix_spearman = d1_trabalhado[d1_features_ext_behav].corr(method='spearman')\n",
    "correlation_with_g3_spearman = correlation_matrix_spearman['G3'].sort_values(ascending=False)\n",
    "\n",
    "print(correlation_with_g3_spearman)"
   ]
  },
  {
   "cell_type": "markdown",
   "id": "f153f89e-7f30-46f6-bbb4-1ac63bc28232",
   "metadata": {},
   "source": [
    "> Features que sobressaem: <br>\n",
    "Correlação negativa: \n",
    "goout, Dalc\n",
    "\n",
    "- goout: pode indicar que à medida que a frequência com que um estudante sai para eventos sociais aumenta, suas notas tendem a diminuir. Isso pode indicar que estudantes que passam mais tempo fora de casa para eventos sociais podem estar dedicando menos tempo ao estudo, o que impacta negativamente seu desempenho acadêmico.\n",
    "- Dalc: A correlação negativa entre Dalc (frequência de consumo de álcool durante a semana) e G3 sugere que um maior consumo de álcool durante a semana está associado a notas mais baixas.\n"
   ]
  },
  {
   "cell_type": "markdown",
   "id": "13aa7003-483d-4c3b-abec-11451e8452a9",
   "metadata": {},
   "source": [
    "## Analisando os subtargets"
   ]
  },
  {
   "cell_type": "markdown",
   "id": "81fbb777-a772-4a49-919c-fdabe970d414",
   "metadata": {
    "jp-MarkdownHeadingCollapsed": true
   },
   "source": [
    "### G1"
   ]
  },
  {
   "cell_type": "code",
   "execution_count": 8,
   "id": "727824dc-42a7-4d83-aa4d-e87e053403f9",
   "metadata": {},
   "outputs": [
    {
     "name": "stdout",
     "output_type": "stream",
     "text": [
      "G1            1.000000\n",
      "G2            0.852118\n",
      "G3            0.801468\n",
      "activities    0.057010\n",
      "famrel        0.022168\n",
      "freetime      0.012613\n",
      "romantic     -0.037188\n",
      "Dalc         -0.094159\n",
      "Walc         -0.126179\n",
      "goout        -0.149104\n",
      "Name: G1, dtype: float64\n"
     ]
    }
   ],
   "source": [
    "correlation_with_g1 = correlation_matrix_pearson['G1'].sort_values(ascending=False)\n",
    "print(correlation_with_g1)"
   ]
  },
  {
   "cell_type": "code",
   "execution_count": 9,
   "id": "5d0d51b4-870b-4ec6-ab36-ff739a91f344",
   "metadata": {},
   "outputs": [
    {
     "name": "stdout",
     "output_type": "stream",
     "text": [
      "G1            1.000000\n",
      "G2            0.894792\n",
      "G3            0.878001\n",
      "activities    0.056314\n",
      "famrel        0.026433\n",
      "freetime      0.006973\n",
      "romantic     -0.015925\n",
      "Walc         -0.108368\n",
      "Dalc         -0.111438\n",
      "goout        -0.151636\n",
      "Name: G1, dtype: float64\n"
     ]
    }
   ],
   "source": [
    "correlation_with_g1_spearman = correlation_matrix_spearman['G1'].sort_values(ascending=False)\n",
    "print(correlation_with_g1_spearman)"
   ]
  },
  {
   "cell_type": "markdown",
   "id": "495c1574-1187-48d3-a6b3-efc715831c7a",
   "metadata": {},
   "source": [
    "> Features que sobressaem:\n",
    "- Correlação negativa: \n",
    "goout"
   ]
  },
  {
   "cell_type": "markdown",
   "id": "e1157dca-c121-4caa-8405-f089deabfeda",
   "metadata": {
    "jp-MarkdownHeadingCollapsed": true
   },
   "source": [
    "### G2"
   ]
  },
  {
   "cell_type": "code",
   "execution_count": 11,
   "id": "4a0305e0-21e0-4303-b62d-63f8a993eb39",
   "metadata": {},
   "outputs": [
    {
     "name": "stdout",
     "output_type": "stream",
     "text": [
      "G2            1.000000\n",
      "G3            0.904868\n",
      "G1            0.852118\n",
      "activities    0.050552\n",
      "freetime     -0.013777\n",
      "famrel       -0.018281\n",
      "Dalc         -0.064120\n",
      "Walc         -0.084927\n",
      "romantic     -0.111774\n",
      "goout        -0.162250\n",
      "Name: G2, dtype: float64\n"
     ]
    }
   ],
   "source": [
    "correlation_with_g2 = correlation_matrix_pearson['G2'].sort_values(ascending=False)\n",
    "print(correlation_with_g2)"
   ]
  },
  {
   "cell_type": "code",
   "execution_count": 12,
   "id": "b3f2ad3f-d1df-43bf-a369-09c06f887893",
   "metadata": {},
   "outputs": [
    {
     "name": "stdout",
     "output_type": "stream",
     "text": [
      "G2            1.000000\n",
      "G3            0.957125\n",
      "G1            0.894792\n",
      "activities    0.050743\n",
      "famrel        0.008165\n",
      "freetime     -0.016765\n",
      "romantic     -0.084542\n",
      "Walc         -0.109144\n",
      "Dalc         -0.110086\n",
      "goout        -0.160985\n",
      "Name: G2, dtype: float64\n"
     ]
    }
   ],
   "source": [
    "correlation_with_g2_spearman = correlation_matrix_spearman['G2'].sort_values(ascending=False)\n",
    "print(correlation_with_g2_spearman)"
   ]
  },
  {
   "cell_type": "markdown",
   "id": "5c096d9a-81f9-453f-8609-23fb58f96c50",
   "metadata": {},
   "source": [
    "- Novamente, as features que mais podem indicar notas melhores ou piores são: goout e Dalc. "
   ]
  },
  {
   "cell_type": "markdown",
   "id": "ca5ae58e-6673-4f89-90a5-abd9266468fd",
   "metadata": {
    "jp-MarkdownHeadingCollapsed": true
   },
   "source": [
    "### Explorando visualmente as features mais relevantes\n"
   ]
  },
  {
   "cell_type": "code",
   "execution_count": 29,
   "id": "5aa6c701-7ee6-450b-9b0e-62e75e2347f4",
   "metadata": {},
   "outputs": [],
   "source": [
    "import pandas as pd\n",
    "\n",
    "# Categorizar G3 em intervalos\n",
    "def categorize_g3(value):\n",
    "    if value < 10:\n",
    "        return 'Low'\n",
    "    elif 10 <= value < 15:\n",
    "        return 'Medium'\n",
    "    else:\n",
    "        return 'High'\n",
    "\n",
    "d1_trabalhado['G3_cat'] = d1_trabalhado['G3'].apply(categorize_g3)\n"
   ]
  },
  {
   "cell_type": "code",
   "execution_count": 32,
   "id": "5b407f88-4d1a-4dbb-a14d-c59126725800",
   "metadata": {},
   "outputs": [
    {
     "name": "stdout",
     "output_type": "stream",
     "text": [
      "G3_cat              High  Low  Medium\n",
      "Dalc_cat Goout_cat                   \n",
      "High     High          3   15      19\n",
      "         Low           0    0       1\n",
      "         Medium        0    1       5\n",
      "Low      High         35   58      82\n",
      "         Low           5    6       9\n",
      "         Medium       21   19      41\n",
      "Medium   High          5   27      25\n",
      "         Low           0    0       2\n",
      "         Medium        4    4       8\n"
     ]
    },
    {
     "data": {
      "image/png": "[encoded data removed]",
      "text/plain": [
       "<Figure size 1200x800 with 2 Axes>"
      ]
     },
     "metadata": {},
     "output_type": "display_data"
    }
   ],
   "source": [
    "# Categorizar Dalc e Goout\n",
    "def categorize_dalc(value):\n",
    "    if value == 1:\n",
    "        return 'Low'\n",
    "    elif value == 2:\n",
    "        return 'Medium'\n",
    "    else:\n",
    "        return 'High'\n",
    "\n",
    "def categorize_goout(value):\n",
    "    if value == 1:\n",
    "        return 'Low'\n",
    "    elif value == 2:\n",
    "        return 'Medium'\n",
    "    else:\n",
    "        return 'High'\n",
    "\n",
    "d1_trabalhado['Dalc_cat'] = d1_trabalhado['Dalc'].apply(categorize_dalc)\n",
    "d1_trabalhado['Goout_cat'] = d1_trabalhado['goout'].apply(categorize_goout)\n",
    "\n",
    "# Criar a tabela de contingência com G3\n",
    "contingency_table = pd.crosstab(index=[d1_trabalhado['Dalc_cat'], d1_trabalhado['Goout_cat']], \n",
    "                               columns=d1_trabalhado['G3_cat'])\n",
    "print(contingency_table)\n",
    "\n",
    "# Criar o gráfico de calor\n",
    "plt.figure(figsize=(12, 8))\n",
    "sns.heatmap(contingency_table, annot=True, fmt='d', cmap='coolwarm', cbar=True)\n",
    "\n",
    "plt.title('Tabela de Contingência - G3 vs. Dalc e Goout')\n",
    "plt.xlabel('G3 Category')\n",
    "plt.ylabel('Dalc and Goout Categories')\n",
    "plt.show()"
   ]
  },
  {
   "cell_type": "markdown",
   "id": "78b4b1e6-9529-43a3-abab-2011a614e512",
   "metadata": {},
   "source": [
    "A tabela de contingência indica que quem tem nota 'high' (maior que 15), em sua maioria (35) tem um low Dalc e um high goout. Seguidamente, 21 estudantes que tiram notas maiores (high), possuem Dalc low e goout medium. Somente 3 estudantes indicaram que saem bastante (goout high) e bebem mais (dalc high). <br>\n",
    "No geral, ambos não possuem tanta influência assim em G3."
   ]
  }
 ],
 "metadata": {
  "kernelspec": {
   "display_name": "Python 3 (ipykernel)",
   "language": "python",
   "name": "python3"
  },
  "language_info": {
   "codemirror_mode": {
    "name": "ipython",
    "version": 3
   },
   "file_extension": ".py",
   "mimetype": "text/x-python",
   "name": "python",
   "nbconvert_exporter": "python",
   "pygments_lexer": "ipython3",
   "version": "3.9.13"
  }
 },
 "nbformat": 4,
 "nbformat_minor": 5
}
