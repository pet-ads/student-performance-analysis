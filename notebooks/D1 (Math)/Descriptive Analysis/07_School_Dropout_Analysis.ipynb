{
 "cells": [
  {
   "cell_type": "markdown",
   "id": "288c651f-46c6-47ed-b057-3ff7ff1b6dd1",
   "metadata": {},
   "source": [
    "# Análise Descritiva de 'dropout'\n",
    "\n",
    "Definição: No contexto de pesquisa educacional, \"dropout\" refere-se ao fenômeno de evasão escolar, onde um aluno abandona a escola antes de completar o curso ou ciclo educacional. <br>\n",
    "Como Identificamos: criamos uma variável binária no dataset para marcar se um aluno abandonou a escola (por exemplo, dropout = 1) ou se completou o curso (por exemplo, dropout = 0). <br>\n",
    "Nesse contexto, utilizamos o seguinte filtro:<br>\n",
    "df_trabalhado['dropout'] = ((df_trabalhado['G3'] == 0) & (df_trabalhado['absences'] == 0)).astype(int)"
   ]
  },
  {
   "cell_type": "markdown",
   "id": "d5bf3d6d-0ede-4cfd-b5db-bfe4c2371344",
   "metadata": {},
   "source": [
    "- Foco no merge entre d1 e d2:"
   ]
  },
  {
   "cell_type": "code",
   "execution_count": 1,
   "id": "ccb1a657-ef76-4944-bc44-5bb651b9edcb",
   "metadata": {},
   "outputs": [
    {
     "name": "stdout",
     "output_type": "stream",
     "text": [
      "382\n"
     ]
    }
   ],
   "source": [
    "import pandas as pd\n",
    "import numpy as np\n",
    "import matplotlib.pyplot as plt\n",
    "import seaborn as sns\n",
    "\n",
    "\n",
    "d1 = pd.read_csv(\"/Ciência de Dados Geral/Performance de Estudantes/student-performance-analysis/data/student-mat.csv\", sep=\";\")\n",
    "d2 = pd.read_csv(\"/Ciência de Dados Geral/Performance de Estudantes/student-performance-analysis/data/student-por.csv\", sep=\";\")\n",
    "\n",
    "d3 = pd.merge(d1, d2, on=[\"school\", \"sex\", \"age\", \"address\", \"famsize\", \"Pstatus\",\n",
    "                          \"Medu\", \"Fedu\", \"Mjob\", \"Fjob\", \"reason\", \"nursery\", \"internet\"])\n",
    "\n",
    "print(len(d3))"
   ]
  },
  {
   "cell_type": "code",
   "execution_count": 11,
   "id": "2426c449-a2d2-481b-b542-de33ced44f04",
   "metadata": {},
   "outputs": [
    {
     "name": "stdout",
     "output_type": "stream",
     "text": [
      "     freetime_x  freetime_y\n",
      "79            5           4\n",
      "109           3           2\n",
      "118           4           3\n",
      "146           4           5\n",
      "151           3           4\n",
      "181           2           3\n",
      "280           2           3\n",
      "287           4           5\n",
      "321           4           3\n",
      "333           3           2\n",
      "378           1           4\n"
     ]
    }
   ],
   "source": [
    "different_freetime = d3[d3['freetime_x'] != d3['freetime_y']]\n",
    "\n",
    "# Exibir as linhas diferentes\n",
    "print(different_freetime[['freetime_x', 'freetime_y']])"
   ]
  }
 ],
 "metadata": {
  "kernelspec": {
   "display_name": "Python 3 (ipykernel)",
   "language": "python",
   "name": "python3"
  },
  "language_info": {
   "codemirror_mode": {
    "name": "ipython",
    "version": 3
   },
   "file_extension": ".py",
   "mimetype": "text/x-python",
   "name": "python",
   "nbconvert_exporter": "python",
   "pygments_lexer": "ipython3",
   "version": "3.9.13"
  }
 },
 "nbformat": 4,
 "nbformat_minor": 5
}
