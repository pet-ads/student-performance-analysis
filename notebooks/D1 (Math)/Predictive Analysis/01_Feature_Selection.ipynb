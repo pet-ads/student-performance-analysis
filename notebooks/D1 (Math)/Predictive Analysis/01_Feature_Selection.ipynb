{
 "cells": [
  {
   "cell_type": "code",
   "execution_count": 1,
   "metadata": {
    "executionInfo": {
     "elapsed": 2294,
     "status": "ok",
     "timestamp": 1722650727228,
     "user": {
      "displayName": "Bianca C",
      "userId": "09098072323959326830"
     },
     "user_tz": 180
    },
    "id": "bmzGOZrO-gEb"
   },
   "outputs": [],
   "source": [
    "import pandas as pd\n",
    "import numpy as np\n",
    "import matplotlib.pyplot as plt\n",
    "import seaborn as sns\n",
    "\n",
    "d1 = pd.read_csv(\"d1_trabalhado.csv\", sep=\",\")"
   ]
  },
  {
   "cell_type": "code",
   "execution_count": 2,
   "metadata": {
    "executionInfo": {
     "elapsed": 300,
     "status": "ok",
     "timestamp": 1722650891512,
     "user": {
      "displayName": "Bianca C",
      "userId": "09098072323959326830"
     },
     "user_tz": 180
    },
    "id": "JPohPncV_ha7"
   },
   "outputs": [],
   "source": [
    "X = d1.drop(['G3'], axis=1)\n",
    "y = d1['G3']"
   ]
  },
  {
   "cell_type": "markdown",
   "metadata": {},
   "source": [
    "# Seleção de Atributos/Features"
   ]
  },
  {
   "cell_type": "markdown",
   "metadata": {},
   "source": [
    "## Aplicando SelectKBest com f_regression"
   ]
  },
  {
   "cell_type": "code",
   "execution_count": 8,
   "metadata": {
    "executionInfo": {
     "elapsed": 400,
     "status": "ok",
     "timestamp": 1722650823399,
     "user": {
      "displayName": "Bianca C",
      "userId": "09098072323959326830"
     },
     "user_tz": 180
    },
    "id": "4-Vng00q_HHR"
   },
   "outputs": [],
   "source": [
    "from sklearn.feature_selection import SelectKBest\n",
    "from sklearn.feature_selection import f_regression\n",
    "\n",
    "f_regression = SelectKBest(score_func=f_regression, k=8)\n",
    "# k = 4 (é o número de variáveis selecionadas)"
   ]
  },
  {
   "cell_type": "code",
   "execution_count": 9,
   "metadata": {
    "executionInfo": {
     "elapsed": 371,
     "status": "ok",
     "timestamp": 1722650912781,
     "user": {
      "displayName": "Bianca C",
      "userId": "09098072323959326830"
     },
     "user_tz": 180
    },
    "id": "m3No1ZAc_ZjD"
   },
   "outputs": [],
   "source": [
    "fit = f_regression.fit(X, y)"
   ]
  },
  {
   "cell_type": "code",
   "execution_count": 10,
   "metadata": {
    "executionInfo": {
     "elapsed": 284,
     "status": "ok",
     "timestamp": 1722650923915,
     "user": {
      "displayName": "Bianca C",
      "userId": "09098072323959326830"
     },
     "user_tz": 180
    },
    "id": "uejZOjUd_s2x"
   },
   "outputs": [],
   "source": [
    "features = fit.transform(X)"
   ]
  },
  {
   "cell_type": "code",
   "execution_count": 11,
   "metadata": {
    "colab": {
     "base_uri": "https://localhost:8080/"
    },
    "executionInfo": {
     "elapsed": 292,
     "status": "ok",
     "timestamp": 1722650936140,
     "user": {
      "displayName": "Bianca C",
      "userId": "09098072323959326830"
     },
     "user_tz": 180
    },
    "id": "BD9ZiSLu_psq",
    "outputId": "6a5c3524-6466-4bd0-bf0c-d4909d322519"
   },
   "outputs": [
    {
     "name": "stdout",
     "output_type": "stream",
     "text": [
      "[[18  4  4 ...  4  5  6]\n",
      " [17  1  1 ...  3  5  5]\n",
      " [15  1  1 ...  2  7  8]\n",
      " ...\n",
      " [21  1  1 ...  3 10  8]\n",
      " [18  3  2 ...  1 11 12]\n",
      " [19  1  1 ...  3  8  9]]\n"
     ]
    }
   ],
   "source": [
    "print(features)"
   ]
  },
  {
   "cell_type": "code",
   "execution_count": 12,
   "metadata": {
    "colab": {
     "base_uri": "https://localhost:8080/",
     "height": 423
    },
    "executionInfo": {
     "elapsed": 310,
     "status": "ok",
     "timestamp": 1722650976266,
     "user": {
      "displayName": "Bianca C",
      "userId": "09098072323959326830"
     },
     "user_tz": 180
    },
    "id": "LE4R-a00_3HE",
    "outputId": "0a12c00b-4b32-444d-f86a-0f121730b013"
   },
   "outputs": [
    {
     "data": {
      "text/html": [
       "<div>\n",
       "<style scoped>\n",
       "    .dataframe tbody tr th:only-of-type {\n",
       "        vertical-align: middle;\n",
       "    }\n",
       "\n",
       "    .dataframe tbody tr th {\n",
       "        vertical-align: top;\n",
       "    }\n",
       "\n",
       "    .dataframe thead th {\n",
       "        text-align: right;\n",
       "    }\n",
       "</style>\n",
       "<table border=\"1\" class=\"dataframe\">\n",
       "  <thead>\n",
       "    <tr style=\"text-align: right;\">\n",
       "      <th></th>\n",
       "      <th>age</th>\n",
       "      <th>Medu</th>\n",
       "      <th>Fedu</th>\n",
       "      <th>failures</th>\n",
       "      <th>higher</th>\n",
       "      <th>goout</th>\n",
       "      <th>G1</th>\n",
       "      <th>G2</th>\n",
       "    </tr>\n",
       "  </thead>\n",
       "  <tbody>\n",
       "    <tr>\n",
       "      <th>0</th>\n",
       "      <td>18</td>\n",
       "      <td>4</td>\n",
       "      <td>4</td>\n",
       "      <td>0</td>\n",
       "      <td>1</td>\n",
       "      <td>4</td>\n",
       "      <td>5</td>\n",
       "      <td>6</td>\n",
       "    </tr>\n",
       "    <tr>\n",
       "      <th>1</th>\n",
       "      <td>17</td>\n",
       "      <td>1</td>\n",
       "      <td>1</td>\n",
       "      <td>0</td>\n",
       "      <td>1</td>\n",
       "      <td>3</td>\n",
       "      <td>5</td>\n",
       "      <td>5</td>\n",
       "    </tr>\n",
       "    <tr>\n",
       "      <th>2</th>\n",
       "      <td>15</td>\n",
       "      <td>1</td>\n",
       "      <td>1</td>\n",
       "      <td>3</td>\n",
       "      <td>1</td>\n",
       "      <td>2</td>\n",
       "      <td>7</td>\n",
       "      <td>8</td>\n",
       "    </tr>\n",
       "    <tr>\n",
       "      <th>3</th>\n",
       "      <td>15</td>\n",
       "      <td>4</td>\n",
       "      <td>2</td>\n",
       "      <td>0</td>\n",
       "      <td>1</td>\n",
       "      <td>2</td>\n",
       "      <td>15</td>\n",
       "      <td>14</td>\n",
       "    </tr>\n",
       "    <tr>\n",
       "      <th>4</th>\n",
       "      <td>16</td>\n",
       "      <td>3</td>\n",
       "      <td>3</td>\n",
       "      <td>0</td>\n",
       "      <td>1</td>\n",
       "      <td>2</td>\n",
       "      <td>6</td>\n",
       "      <td>10</td>\n",
       "    </tr>\n",
       "    <tr>\n",
       "      <th>...</th>\n",
       "      <td>...</td>\n",
       "      <td>...</td>\n",
       "      <td>...</td>\n",
       "      <td>...</td>\n",
       "      <td>...</td>\n",
       "      <td>...</td>\n",
       "      <td>...</td>\n",
       "      <td>...</td>\n",
       "    </tr>\n",
       "    <tr>\n",
       "      <th>390</th>\n",
       "      <td>20</td>\n",
       "      <td>2</td>\n",
       "      <td>2</td>\n",
       "      <td>2</td>\n",
       "      <td>1</td>\n",
       "      <td>4</td>\n",
       "      <td>9</td>\n",
       "      <td>9</td>\n",
       "    </tr>\n",
       "    <tr>\n",
       "      <th>391</th>\n",
       "      <td>17</td>\n",
       "      <td>3</td>\n",
       "      <td>1</td>\n",
       "      <td>0</td>\n",
       "      <td>1</td>\n",
       "      <td>5</td>\n",
       "      <td>14</td>\n",
       "      <td>16</td>\n",
       "    </tr>\n",
       "    <tr>\n",
       "      <th>392</th>\n",
       "      <td>21</td>\n",
       "      <td>1</td>\n",
       "      <td>1</td>\n",
       "      <td>3</td>\n",
       "      <td>1</td>\n",
       "      <td>3</td>\n",
       "      <td>10</td>\n",
       "      <td>8</td>\n",
       "    </tr>\n",
       "    <tr>\n",
       "      <th>393</th>\n",
       "      <td>18</td>\n",
       "      <td>3</td>\n",
       "      <td>2</td>\n",
       "      <td>0</td>\n",
       "      <td>1</td>\n",
       "      <td>1</td>\n",
       "      <td>11</td>\n",
       "      <td>12</td>\n",
       "    </tr>\n",
       "    <tr>\n",
       "      <th>394</th>\n",
       "      <td>19</td>\n",
       "      <td>1</td>\n",
       "      <td>1</td>\n",
       "      <td>0</td>\n",
       "      <td>1</td>\n",
       "      <td>3</td>\n",
       "      <td>8</td>\n",
       "      <td>9</td>\n",
       "    </tr>\n",
       "  </tbody>\n",
       "</table>\n",
       "<p>395 rows × 8 columns</p>\n",
       "</div>"
      ],
      "text/plain": [
       "     age  Medu  Fedu  failures  higher  goout  G1  G2\n",
       "0     18     4     4         0       1      4   5   6\n",
       "1     17     1     1         0       1      3   5   5\n",
       "2     15     1     1         3       1      2   7   8\n",
       "3     15     4     2         0       1      2  15  14\n",
       "4     16     3     3         0       1      2   6  10\n",
       "..   ...   ...   ...       ...     ...    ...  ..  ..\n",
       "390   20     2     2         2       1      4   9   9\n",
       "391   17     3     1         0       1      5  14  16\n",
       "392   21     1     1         3       1      3  10   8\n",
       "393   18     3     2         0       1      1  11  12\n",
       "394   19     1     1         0       1      3   8   9\n",
       "\n",
       "[395 rows x 8 columns]"
      ]
     },
     "execution_count": 12,
     "metadata": {},
     "output_type": "execute_result"
    }
   ],
   "source": [
    "cols = fit.get_support(indices=True)\n",
    "d1.iloc[:, cols]"
   ]
  },
  {
   "cell_type": "markdown",
   "metadata": {
    "id": "S82fv5t7AXor"
   },
   "source": [
    "## Aplicando o recursive feature elimination - RFE\n",
    "Em modelos com grande número de features pode ser inviável"
   ]
  },
  {
   "cell_type": "code",
   "execution_count": 3,
   "metadata": {
    "executionInfo": {
     "elapsed": 560,
     "status": "ok",
     "timestamp": 1722651586846,
     "user": {
      "displayName": "Bianca C",
      "userId": "09098072323959326830"
     },
     "user_tz": 180
    },
    "id": "jYYp_0Y9AJK8"
   },
   "outputs": [],
   "source": [
    "from sklearn.linear_model import LogisticRegression\n",
    "from sklearn.feature_selection import RFE"
   ]
  },
  {
   "cell_type": "code",
   "execution_count": 4,
   "metadata": {
    "executionInfo": {
     "elapsed": 521,
     "status": "ok",
     "timestamp": 1722651949117,
     "user": {
      "displayName": "Bianca C",
      "userId": "09098072323959326830"
     },
     "user_tz": 180
    },
    "id": "gJAcA8AqBJv3"
   },
   "outputs": [],
   "source": [
    "model = LogisticRegression(solver='saga', max_iter=5000)\n",
    "rfe = RFE(model, n_features_to_select=6, step=2)"
   ]
  },
  {
   "cell_type": "code",
   "execution_count": 22,
   "metadata": {
    "executionInfo": {
     "elapsed": 57275,
     "status": "ok",
     "timestamp": 1722652008003,
     "user": {
      "displayName": "Bianca C",
      "userId": "09098072323959326830"
     },
     "user_tz": 180
    },
    "id": "yz7BZIESBME0"
   },
   "outputs": [],
   "source": [
    "fit = rfe.fit(X,y)"
   ]
  },
  {
   "cell_type": "code",
   "execution_count": 23,
   "metadata": {
    "colab": {
     "base_uri": "https://localhost:8080/"
    },
    "executionInfo": {
     "elapsed": 320,
     "status": "ok",
     "timestamp": 1722652011758,
     "user": {
      "displayName": "Bianca C",
      "userId": "09098072323959326830"
     },
     "user_tz": 180
    },
    "id": "vp_k26WaCYxE",
    "outputId": "e86a63fb-8d0f-4cb7-dadf-b05c719195d8"
   },
   "outputs": [
    {
     "name": "stdout",
     "output_type": "stream",
     "text": [
      "Número de features: 6\n"
     ]
    }
   ],
   "source": [
    "print(\"Número de features: {}\".format(fit.n_features_))"
   ]
  },
  {
   "cell_type": "code",
   "execution_count": 24,
   "metadata": {
    "colab": {
     "base_uri": "https://localhost:8080/",
     "height": 423
    },
    "executionInfo": {
     "elapsed": 310,
     "status": "ok",
     "timestamp": 1722652013502,
     "user": {
      "displayName": "Bianca C",
      "userId": "09098072323959326830"
     },
     "user_tz": 180
    },
    "id": "QHEa89VnDCAE",
    "outputId": "9a2d06b8-5181-4c1d-9a9d-ebc679af3fb5"
   },
   "outputs": [
    {
     "data": {
      "text/html": [
       "<div>\n",
       "<style scoped>\n",
       "    .dataframe tbody tr th:only-of-type {\n",
       "        vertical-align: middle;\n",
       "    }\n",
       "\n",
       "    .dataframe tbody tr th {\n",
       "        vertical-align: top;\n",
       "    }\n",
       "\n",
       "    .dataframe thead th {\n",
       "        text-align: right;\n",
       "    }\n",
       "</style>\n",
       "<table border=\"1\" class=\"dataframe\">\n",
       "  <thead>\n",
       "    <tr style=\"text-align: right;\">\n",
       "      <th></th>\n",
       "      <th>age</th>\n",
       "      <th>failures</th>\n",
       "      <th>health</th>\n",
       "      <th>absences</th>\n",
       "      <th>G1</th>\n",
       "      <th>G2</th>\n",
       "    </tr>\n",
       "  </thead>\n",
       "  <tbody>\n",
       "    <tr>\n",
       "      <th>0</th>\n",
       "      <td>18</td>\n",
       "      <td>0</td>\n",
       "      <td>3</td>\n",
       "      <td>6</td>\n",
       "      <td>5</td>\n",
       "      <td>6</td>\n",
       "    </tr>\n",
       "    <tr>\n",
       "      <th>1</th>\n",
       "      <td>17</td>\n",
       "      <td>0</td>\n",
       "      <td>3</td>\n",
       "      <td>4</td>\n",
       "      <td>5</td>\n",
       "      <td>5</td>\n",
       "    </tr>\n",
       "    <tr>\n",
       "      <th>2</th>\n",
       "      <td>15</td>\n",
       "      <td>3</td>\n",
       "      <td>3</td>\n",
       "      <td>10</td>\n",
       "      <td>7</td>\n",
       "      <td>8</td>\n",
       "    </tr>\n",
       "    <tr>\n",
       "      <th>3</th>\n",
       "      <td>15</td>\n",
       "      <td>0</td>\n",
       "      <td>5</td>\n",
       "      <td>2</td>\n",
       "      <td>15</td>\n",
       "      <td>14</td>\n",
       "    </tr>\n",
       "    <tr>\n",
       "      <th>4</th>\n",
       "      <td>16</td>\n",
       "      <td>0</td>\n",
       "      <td>5</td>\n",
       "      <td>4</td>\n",
       "      <td>6</td>\n",
       "      <td>10</td>\n",
       "    </tr>\n",
       "    <tr>\n",
       "      <th>...</th>\n",
       "      <td>...</td>\n",
       "      <td>...</td>\n",
       "      <td>...</td>\n",
       "      <td>...</td>\n",
       "      <td>...</td>\n",
       "      <td>...</td>\n",
       "    </tr>\n",
       "    <tr>\n",
       "      <th>390</th>\n",
       "      <td>20</td>\n",
       "      <td>2</td>\n",
       "      <td>4</td>\n",
       "      <td>11</td>\n",
       "      <td>9</td>\n",
       "      <td>9</td>\n",
       "    </tr>\n",
       "    <tr>\n",
       "      <th>391</th>\n",
       "      <td>17</td>\n",
       "      <td>0</td>\n",
       "      <td>2</td>\n",
       "      <td>3</td>\n",
       "      <td>14</td>\n",
       "      <td>16</td>\n",
       "    </tr>\n",
       "    <tr>\n",
       "      <th>392</th>\n",
       "      <td>21</td>\n",
       "      <td>3</td>\n",
       "      <td>3</td>\n",
       "      <td>3</td>\n",
       "      <td>10</td>\n",
       "      <td>8</td>\n",
       "    </tr>\n",
       "    <tr>\n",
       "      <th>393</th>\n",
       "      <td>18</td>\n",
       "      <td>0</td>\n",
       "      <td>5</td>\n",
       "      <td>0</td>\n",
       "      <td>11</td>\n",
       "      <td>12</td>\n",
       "    </tr>\n",
       "    <tr>\n",
       "      <th>394</th>\n",
       "      <td>19</td>\n",
       "      <td>0</td>\n",
       "      <td>5</td>\n",
       "      <td>5</td>\n",
       "      <td>8</td>\n",
       "      <td>9</td>\n",
       "    </tr>\n",
       "  </tbody>\n",
       "</table>\n",
       "<p>395 rows × 6 columns</p>\n",
       "</div>"
      ],
      "text/plain": [
       "     age  failures  health  absences  G1  G2\n",
       "0     18         0       3         6   5   6\n",
       "1     17         0       3         4   5   5\n",
       "2     15         3       3        10   7   8\n",
       "3     15         0       5         2  15  14\n",
       "4     16         0       5         4   6  10\n",
       "..   ...       ...     ...       ...  ..  ..\n",
       "390   20         2       4        11   9   9\n",
       "391   17         0       2         3  14  16\n",
       "392   21         3       3         3  10   8\n",
       "393   18         0       5         0  11  12\n",
       "394   19         0       5         5   8   9\n",
       "\n",
       "[395 rows x 6 columns]"
      ]
     },
     "execution_count": 24,
     "metadata": {},
     "output_type": "execute_result"
    }
   ],
   "source": [
    "cols = fit.get_support(indices=True)\n",
    "d1.iloc[:, cols]"
   ]
  },
  {
   "cell_type": "markdown",
   "metadata": {
    "id": "nIh2Zh5CEBVA"
   },
   "source": [
    "## Utilizando RandomForest"
   ]
  },
  {
   "cell_type": "code",
   "execution_count": 25,
   "metadata": {
    "executionInfo": {
     "elapsed": 304,
     "status": "ok",
     "timestamp": 1722653648539,
     "user": {
      "displayName": "Bianca C",
      "userId": "09098072323959326830"
     },
     "user_tz": 180
    },
    "id": "BMbYdqYhJssz"
   },
   "outputs": [],
   "source": [
    "from sklearn.ensemble import RandomForestRegressor"
   ]
  },
  {
   "cell_type": "code",
   "execution_count": 26,
   "metadata": {
    "executionInfo": {
     "elapsed": 300,
     "status": "ok",
     "timestamp": 1722653650682,
     "user": {
      "displayName": "Bianca C",
      "userId": "09098072323959326830"
     },
     "user_tz": 180
    },
    "id": "caq1biBuJspZ"
   },
   "outputs": [
    {
     "data": {
      "text/plain": [
       "RandomForestRegressor(n_estimators=10)"
      ]
     },
     "execution_count": 26,
     "metadata": {},
     "output_type": "execute_result"
    }
   ],
   "source": [
    "model = RandomForestRegressor(n_estimators=10)\n",
    "model.fit(X,y)"
   ]
  },
  {
   "cell_type": "code",
   "execution_count": 27,
   "metadata": {
    "colab": {
     "base_uri": "https://localhost:8080/"
    },
    "executionInfo": {
     "elapsed": 303,
     "status": "ok",
     "timestamp": 1722653691417,
     "user": {
      "displayName": "Bianca C",
      "userId": "09098072323959326830"
     },
     "user_tz": 180
    },
    "id": "N2jOGkIAEAHQ",
    "outputId": "404fa639-3aee-40a2-dfa6-495dce30ba51"
   },
   "outputs": [
    {
     "name": "stdout",
     "output_type": "stream",
     "text": [
      "[3.74405329e-04 1.52346541e-02 3.30614582e-04 5.89131853e-04\n",
      " 1.77122080e-04 2.02648157e-03 4.20100913e-03 2.02905903e-03\n",
      " 2.48313959e-03 5.04306712e-03 1.67948200e-03 4.80455329e-04\n",
      " 4.20743778e-03 2.43597916e-03 3.29279697e-03 0.00000000e+00\n",
      " 2.64377041e-04 3.50171594e-04 1.14223169e-02 5.11248513e-03\n",
      " 1.84323386e-03 4.97772086e-04 2.67298803e-03 1.02796439e-02\n",
      " 1.12164044e-01 3.38182650e-03 7.73834566e-01 2.33535592e-03\n",
      " 2.36471173e-04 2.21572134e-03 7.07381430e-03 3.35744284e-04\n",
      " 1.14560766e-03 2.92722955e-03 3.29545471e-03 7.48733087e-04\n",
      " 2.40208615e-04 1.13538778e-03 7.37207606e-03 1.20630448e-03\n",
      " 6.44758711e-04 2.00072608e-03 3.33576796e-04 3.44568356e-04]\n"
     ]
    }
   ],
   "source": [
    "print(model.feature_importances_)"
   ]
  },
  {
   "cell_type": "code",
   "execution_count": 28,
   "metadata": {
    "executionInfo": {
     "elapsed": 407,
     "status": "ok",
     "timestamp": 1722653947707,
     "user": {
      "displayName": "Bianca C",
      "userId": "09098072323959326830"
     },
     "user_tz": 180
    },
    "id": "EEIxfmrQK3UD"
   },
   "outputs": [],
   "source": [
    "feature_importances = pd.DataFrame(model.feature_importances_,\n",
    "                                   index = X.columns,\n",
    "                                   columns = ['importance']).sort_values('importance',\n",
    "                                   ascending=False)"
   ]
  },
  {
   "cell_type": "code",
   "execution_count": 29,
   "metadata": {
    "colab": {
     "base_uri": "https://localhost:8080/",
     "height": 1000
    },
    "executionInfo": {
     "elapsed": 331,
     "status": "ok",
     "timestamp": 1722653978395,
     "user": {
      "displayName": "Bianca C",
      "userId": "09098072323959326830"
     },
     "user_tz": 180
    },
    "id": "xF63SRvdLVmZ",
    "outputId": "197d91be-ba0c-45b0-ffb6-6be076abc3cf"
   },
   "outputs": [
    {
     "data": {
      "text/html": [
       "<div>\n",
       "<style scoped>\n",
       "    .dataframe tbody tr th:only-of-type {\n",
       "        vertical-align: middle;\n",
       "    }\n",
       "\n",
       "    .dataframe tbody tr th {\n",
       "        vertical-align: top;\n",
       "    }\n",
       "\n",
       "    .dataframe thead th {\n",
       "        text-align: right;\n",
       "    }\n",
       "</style>\n",
       "<table border=\"1\" class=\"dataframe\">\n",
       "  <thead>\n",
       "    <tr style=\"text-align: right;\">\n",
       "      <th></th>\n",
       "      <th>importance</th>\n",
       "    </tr>\n",
       "  </thead>\n",
       "  <tbody>\n",
       "    <tr>\n",
       "      <th>G2</th>\n",
       "      <td>0.773835</td>\n",
       "    </tr>\n",
       "    <tr>\n",
       "      <th>absences</th>\n",
       "      <td>0.112164</td>\n",
       "    </tr>\n",
       "    <tr>\n",
       "      <th>age</th>\n",
       "      <td>0.015235</td>\n",
       "    </tr>\n",
       "    <tr>\n",
       "      <th>famrel</th>\n",
       "      <td>0.011422</td>\n",
       "    </tr>\n",
       "    <tr>\n",
       "      <th>health</th>\n",
       "      <td>0.010280</td>\n",
       "    </tr>\n",
       "    <tr>\n",
       "      <th>reason_home</th>\n",
       "      <td>0.007372</td>\n",
       "    </tr>\n",
       "    <tr>\n",
       "      <th>Mjob_services</th>\n",
       "      <td>0.007074</td>\n",
       "    </tr>\n",
       "    <tr>\n",
       "      <th>freetime</th>\n",
       "      <td>0.005112</td>\n",
       "    </tr>\n",
       "    <tr>\n",
       "      <th>failures</th>\n",
       "      <td>0.005043</td>\n",
       "    </tr>\n",
       "    <tr>\n",
       "      <th>paid</th>\n",
       "      <td>0.004207</td>\n",
       "    </tr>\n",
       "    <tr>\n",
       "      <th>Fedu</th>\n",
       "      <td>0.004201</td>\n",
       "    </tr>\n",
       "    <tr>\n",
       "      <th>G1</th>\n",
       "      <td>0.003382</td>\n",
       "    </tr>\n",
       "    <tr>\n",
       "      <th>Fjob_other</th>\n",
       "      <td>0.003295</td>\n",
       "    </tr>\n",
       "    <tr>\n",
       "      <th>nursery</th>\n",
       "      <td>0.003293</td>\n",
       "    </tr>\n",
       "    <tr>\n",
       "      <th>Fjob_health</th>\n",
       "      <td>0.002927</td>\n",
       "    </tr>\n",
       "    <tr>\n",
       "      <th>Walc</th>\n",
       "      <td>0.002673</td>\n",
       "    </tr>\n",
       "    <tr>\n",
       "      <th>studytime</th>\n",
       "      <td>0.002483</td>\n",
       "    </tr>\n",
       "    <tr>\n",
       "      <th>activities</th>\n",
       "      <td>0.002436</td>\n",
       "    </tr>\n",
       "    <tr>\n",
       "      <th>Mjob_at_home</th>\n",
       "      <td>0.002335</td>\n",
       "    </tr>\n",
       "    <tr>\n",
       "      <th>Mjob_other</th>\n",
       "      <td>0.002216</td>\n",
       "    </tr>\n",
       "    <tr>\n",
       "      <th>traveltime</th>\n",
       "      <td>0.002029</td>\n",
       "    </tr>\n",
       "    <tr>\n",
       "      <th>Medu</th>\n",
       "      <td>0.002026</td>\n",
       "    </tr>\n",
       "    <tr>\n",
       "      <th>guardian_father</th>\n",
       "      <td>0.002001</td>\n",
       "    </tr>\n",
       "    <tr>\n",
       "      <th>goout</th>\n",
       "      <td>0.001843</td>\n",
       "    </tr>\n",
       "    <tr>\n",
       "      <th>schoolsup</th>\n",
       "      <td>0.001679</td>\n",
       "    </tr>\n",
       "    <tr>\n",
       "      <th>reason_other</th>\n",
       "      <td>0.001206</td>\n",
       "    </tr>\n",
       "    <tr>\n",
       "      <th>Fjob_at_home</th>\n",
       "      <td>0.001146</td>\n",
       "    </tr>\n",
       "    <tr>\n",
       "      <th>reason_course</th>\n",
       "      <td>0.001135</td>\n",
       "    </tr>\n",
       "    <tr>\n",
       "      <th>Fjob_services</th>\n",
       "      <td>0.000749</td>\n",
       "    </tr>\n",
       "    <tr>\n",
       "      <th>reason_reputation</th>\n",
       "      <td>0.000645</td>\n",
       "    </tr>\n",
       "    <tr>\n",
       "      <th>famsize</th>\n",
       "      <td>0.000589</td>\n",
       "    </tr>\n",
       "    <tr>\n",
       "      <th>Dalc</th>\n",
       "      <td>0.000498</td>\n",
       "    </tr>\n",
       "    <tr>\n",
       "      <th>famsup</th>\n",
       "      <td>0.000480</td>\n",
       "    </tr>\n",
       "    <tr>\n",
       "      <th>sex</th>\n",
       "      <td>0.000374</td>\n",
       "    </tr>\n",
       "    <tr>\n",
       "      <th>romantic</th>\n",
       "      <td>0.000350</td>\n",
       "    </tr>\n",
       "    <tr>\n",
       "      <th>guardian_other</th>\n",
       "      <td>0.000345</td>\n",
       "    </tr>\n",
       "    <tr>\n",
       "      <th>Mjob_teacher</th>\n",
       "      <td>0.000336</td>\n",
       "    </tr>\n",
       "    <tr>\n",
       "      <th>guardian_mother</th>\n",
       "      <td>0.000334</td>\n",
       "    </tr>\n",
       "    <tr>\n",
       "      <th>address</th>\n",
       "      <td>0.000331</td>\n",
       "    </tr>\n",
       "    <tr>\n",
       "      <th>internet</th>\n",
       "      <td>0.000264</td>\n",
       "    </tr>\n",
       "    <tr>\n",
       "      <th>Fjob_teacher</th>\n",
       "      <td>0.000240</td>\n",
       "    </tr>\n",
       "    <tr>\n",
       "      <th>Mjob_health</th>\n",
       "      <td>0.000236</td>\n",
       "    </tr>\n",
       "    <tr>\n",
       "      <th>Pstatus</th>\n",
       "      <td>0.000177</td>\n",
       "    </tr>\n",
       "    <tr>\n",
       "      <th>higher</th>\n",
       "      <td>0.000000</td>\n",
       "    </tr>\n",
       "  </tbody>\n",
       "</table>\n",
       "</div>"
      ],
      "text/plain": [
       "                   importance\n",
       "G2                   0.773835\n",
       "absences             0.112164\n",
       "age                  0.015235\n",
       "famrel               0.011422\n",
       "health               0.010280\n",
       "reason_home          0.007372\n",
       "Mjob_services        0.007074\n",
       "freetime             0.005112\n",
       "failures             0.005043\n",
       "paid                 0.004207\n",
       "Fedu                 0.004201\n",
       "G1                   0.003382\n",
       "Fjob_other           0.003295\n",
       "nursery              0.003293\n",
       "Fjob_health          0.002927\n",
       "Walc                 0.002673\n",
       "studytime            0.002483\n",
       "activities           0.002436\n",
       "Mjob_at_home         0.002335\n",
       "Mjob_other           0.002216\n",
       "traveltime           0.002029\n",
       "Medu                 0.002026\n",
       "guardian_father      0.002001\n",
       "goout                0.001843\n",
       "schoolsup            0.001679\n",
       "reason_other         0.001206\n",
       "Fjob_at_home         0.001146\n",
       "reason_course        0.001135\n",
       "Fjob_services        0.000749\n",
       "reason_reputation    0.000645\n",
       "famsize              0.000589\n",
       "Dalc                 0.000498\n",
       "famsup               0.000480\n",
       "sex                  0.000374\n",
       "romantic             0.000350\n",
       "guardian_other       0.000345\n",
       "Mjob_teacher         0.000336\n",
       "guardian_mother      0.000334\n",
       "address              0.000331\n",
       "internet             0.000264\n",
       "Fjob_teacher         0.000240\n",
       "Mjob_health          0.000236\n",
       "Pstatus              0.000177\n",
       "higher               0.000000"
      ]
     },
     "execution_count": 29,
     "metadata": {},
     "output_type": "execute_result"
    }
   ],
   "source": [
    "feature_importances"
   ]
  },
  {
   "cell_type": "code",
   "execution_count": 47,
   "metadata": {
    "colab": {
     "base_uri": "https://localhost:8080/",
     "height": 560
    },
    "executionInfo": {
     "elapsed": 1970,
     "status": "ok",
     "timestamp": 1722654042259,
     "user": {
      "displayName": "Bianca C",
      "userId": "09098072323959326830"
     },
     "user_tz": 180
    },
    "id": "KYoOaoq5Khai",
    "outputId": "44815ed7-8fa0-418b-b411-49cbca808bff"
   },
   "outputs": [
    {
     "data": {
      "text/plain": [
       "<AxesSubplot:>"
      ]
     },
     "execution_count": 47,
     "metadata": {},
     "output_type": "execute_result"
    },
    {
     "data": {
      "text/plain": [
       "<Figure size 2000x800 with 0 Axes>"
      ]
     },
     "metadata": {},
     "output_type": "display_data"
    },
    {
     "data": {
      "image/png": "[encoded data removed]",
      "text/plain": [
       "<Figure size 640x480 with 1 Axes>"
      ]
     },
     "metadata": {},
     "output_type": "display_data"
    }
   ],
   "source": [
    "plt.figure(figsize=(20, 8))\n",
    "feature_importances.plot(kind='bar')"
   ]
  },
  {
   "cell_type": "markdown",
   "metadata": {
    "id": "ftUv87ydNVJY",
    "jp-MarkdownHeadingCollapsed": true
   },
   "source": [
    "## Remoção de dados com baixa variância\n",
    "- não contribuem significativamente para a capacidade"
   ]
  },
  {
   "cell_type": "code",
   "execution_count": 38,
   "metadata": {
    "colab": {
     "base_uri": "https://localhost:8080/"
    },
    "executionInfo": {
     "elapsed": 8,
     "status": "ok",
     "timestamp": 1722655029736,
     "user": {
      "displayName": "Bianca C",
      "userId": "09098072323959326830"
     },
     "user_tz": 180
    },
    "id": "LeDRKx9MPMt_",
    "outputId": "2d55083a-2d69-41ba-c954-d981deb692b4"
   },
   "outputs": [
    {
     "name": "stdout",
     "output_type": "stream",
     "text": [
      "Features selecionadas: Index(['sex', 'age', 'address', 'famsize', 'Medu', 'Fedu', 'traveltime',\n",
      "       'studytime', 'failures', 'famsup', 'paid', 'activities', 'nursery',\n",
      "       'romantic', 'famrel', 'freetime', 'goout', 'Dalc', 'Walc', 'health',\n",
      "       'absences', 'G1', 'G2', 'Mjob_other', 'Mjob_services', 'Fjob_other',\n",
      "       'Fjob_services', 'reason_course', 'reason_home', 'reason_reputation',\n",
      "       'guardian_father', 'guardian_mother'],\n",
      "      dtype='object')\n",
      "Features removidas: Index(['Pstatus', 'schoolsup', 'higher', 'internet', 'Mjob_at_home',\n",
      "       'Mjob_health', 'Mjob_teacher', 'Fjob_at_home', 'Fjob_health',\n",
      "       'Fjob_teacher', 'reason_other', 'guardian_other'],\n",
      "      dtype='object')\n"
     ]
    }
   ],
   "source": [
    "from sklearn.feature_selection import VarianceThreshold\n",
    "selector = VarianceThreshold(threshold=0.15)\n",
    "selector.fit(X)\n",
    "\n",
    "features_selecionadas = X.columns[selector.get_support()]\n",
    "features_removidas = X.columns[~selector.get_support()]\n",
    "\n",
    "print(\"Features selecionadas:\", features_selecionadas)\n",
    "print(\"Features removidas:\", features_removidas)"
   ]
  },
  {
   "cell_type": "code",
   "execution_count": 49,
   "metadata": {},
   "outputs": [
    {
     "data": {
      "image/png": "[encoded data removed]",
      "text/plain": [
       "<Figure size 1600x800 with 1 Axes>"
      ]
     },
     "metadata": {},
     "output_type": "display_data"
    }
   ],
   "source": [
    "# criando gráfico\n",
    "variances = X.var()\n",
    "\n",
    "data = {\n",
    "    'Feature': X.columns,\n",
    "    'Variance': variances\n",
    "}\n",
    "df_variance = pd.DataFrame(data)\n",
    "\n",
    "df_variance['Status'] = df_variance['Feature'].apply(lambda x: 'Selecionada' if x in features_selecionadas else 'Removida')\n",
    "\n",
    "# Plotar\n",
    "plt.figure(figsize=(16, 8))\n",
    "bars = plt.bar(df_variance['Feature'], df_variance['Variance'], color=df_variance['Status'].map({'Selecionada': 'blue', 'Removida': 'red'}))\n",
    "plt.xlabel('Feature')\n",
    "plt.ylabel('Variância')\n",
    "plt.title('Variância das Features Selecionadas e Removidas')\n",
    "\n",
    "plt.axhline(y=0.15, color='gray', linestyle='--', label='Threshold')\n",
    "plt.legend(['Threshold', 'Selecionada', 'Removida'])\n",
    "plt.xticks(rotation=90) \n",
    "\n",
    "for bar in bars:\n",
    "    height = bar.get_height()\n",
    "    plt.text(bar.get_x() + bar.get_width() / 2.0, height, f'{height:.2f}', ha='center', va='bottom')\n",
    "\n",
    "plt.tight_layout()\n",
    "plt.show()"
   ]
  },
  {
   "cell_type": "markdown",
   "metadata": {
    "id": "OjwX9_16QuTA"
   },
   "source": [
    "## Utilizando decision tree"
   ]
  },
  {
   "cell_type": "code",
   "execution_count": 50,
   "metadata": {
    "executionInfo": {
     "elapsed": 6,
     "status": "ok",
     "timestamp": 1722655467116,
     "user": {
      "displayName": "Bianca C",
      "userId": "09098072323959326830"
     },
     "user_tz": 180
    },
    "id": "XWQJKm2UQtmi"
   },
   "outputs": [],
   "source": [
    "from sklearn.tree import DecisionTreeRegressor\n",
    "clf = DecisionTreeRegressor(random_state=0)"
   ]
  },
  {
   "cell_type": "code",
   "execution_count": 51,
   "metadata": {
    "executionInfo": {
     "elapsed": 279,
     "status": "ok",
     "timestamp": 1722655471001,
     "user": {
      "displayName": "Bianca C",
      "userId": "09098072323959326830"
     },
     "user_tz": 180
    },
    "id": "q2xvQwKzRCNZ"
   },
   "outputs": [],
   "source": [
    "clf = clf.fit(X,y)"
   ]
  },
  {
   "cell_type": "code",
   "execution_count": 52,
   "metadata": {
    "colab": {
     "base_uri": "https://localhost:8080/"
    },
    "executionInfo": {
     "elapsed": 417,
     "status": "ok",
     "timestamp": 1722655489447,
     "user": {
      "displayName": "Bianca C",
      "userId": "09098072323959326830"
     },
     "user_tz": 180
    },
    "id": "JxiahmsCRHxX",
    "outputId": "e4dd2912-65ec-4d2f-ab5c-592017675def"
   },
   "outputs": [
    {
     "data": {
      "text/plain": [
       "array([7.19475885e-04, 2.36709246e-02, 7.65828674e-04, 4.86377110e-04,\n",
       "       6.04601584e-05, 5.59400418e-04, 6.46776723e-04, 1.71665959e-03,\n",
       "       1.12443493e-02, 6.85845568e-03, 2.19671909e-04, 0.00000000e+00,\n",
       "       0.00000000e+00, 3.32530871e-04, 5.81553551e-03, 0.00000000e+00,\n",
       "       0.00000000e+00, 1.71303782e-04, 1.29833213e-02, 3.98294129e-04,\n",
       "       8.36679433e-04, 4.16311377e-04, 1.02994697e-03, 5.20897854e-03,\n",
       "       1.33896478e-01, 7.70188078e-03, 7.58286880e-01, 6.74955223e-04,\n",
       "       1.36035356e-04, 4.37747251e-04, 8.85309463e-05, 2.35362760e-04,\n",
       "       0.00000000e+00, 7.76577146e-04, 8.47118195e-04, 3.95006368e-04,\n",
       "       1.91457168e-04, 2.02339997e-02, 1.63242428e-04, 1.08828285e-04,\n",
       "       6.95680590e-04, 1.17256065e-04, 7.85694154e-04, 8.59877809e-05])"
      ]
     },
     "execution_count": 52,
     "metadata": {},
     "output_type": "execute_result"
    }
   ],
   "source": [
    "clf.feature_importances_"
   ]
  },
  {
   "cell_type": "code",
   "execution_count": 56,
   "metadata": {
    "colab": {
     "base_uri": "https://localhost:8080/",
     "height": 387
    },
    "executionInfo": {
     "elapsed": 996,
     "status": "ok",
     "timestamp": 1722655613787,
     "user": {
      "displayName": "Bianca C",
      "userId": "09098072323959326830"
     },
     "user_tz": 180
    },
    "id": "sAuuIiRiRM8P",
    "outputId": "3d0b4592-cea8-4d26-d092-51b343e50eee"
   },
   "outputs": [
    {
     "data": {
      "image/png": "[encoded data removed]",
      "text/plain": [
       "<Figure size 1600x800 with 1 Axes>"
      ]
     },
     "metadata": {},
     "output_type": "display_data"
    }
   ],
   "source": [
    "feature_names = X.columns\n",
    "importances = clf.feature_importances_\n",
    "\n",
    "feature_importances = pd.DataFrame({\n",
    "    'Feature': feature_names,\n",
    "    'Importance': importances\n",
    "})\n",
    "\n",
    "feature_importances = feature_importances.sort_values(by='Importance', ascending=False)\n",
    "plt.figure(figsize=(16, 8))\n",
    "plt.barh(feature_importances['Feature'], feature_importances['Importance'])\n",
    "plt.xlabel('Importance')\n",
    "plt.title('Feature Importances')\n",
    "plt.gca().invert_yaxis()\n",
    "plt.show()"
   ]
  },
  {
   "cell_type": "markdown",
   "metadata": {
    "id": "8BFWbDW3RryA"
   },
   "source": [
    "## Utilizando SelectFromModel\n"
   ]
  },
  {
   "cell_type": "code",
   "execution_count": 57,
   "metadata": {
    "executionInfo": {
     "elapsed": 417,
     "status": "ok",
     "timestamp": 1722655708729,
     "user": {
      "displayName": "Bianca C",
      "userId": "09098072323959326830"
     },
     "user_tz": 180
    },
    "id": "UnVRFr5JRq0u"
   },
   "outputs": [],
   "source": [
    "from sklearn.feature_selection import SelectFromModel"
   ]
  },
  {
   "cell_type": "code",
   "execution_count": 58,
   "metadata": {
    "executionInfo": {
     "elapsed": 291,
     "status": "ok",
     "timestamp": 1722655732978,
     "user": {
      "displayName": "Bianca C",
      "userId": "09098072323959326830"
     },
     "user_tz": 180
    },
    "id": "PuLxb7PSSBlv"
   },
   "outputs": [],
   "source": [
    "estimator = DecisionTreeRegressor(random_state=0)"
   ]
  },
  {
   "cell_type": "code",
   "execution_count": 59,
   "metadata": {
    "executionInfo": {
     "elapsed": 638,
     "status": "ok",
     "timestamp": 1722655945609,
     "user": {
      "displayName": "Bianca C",
      "userId": "09098072323959326830"
     },
     "user_tz": 180
    },
    "id": "EkiXCZBDSHgy"
   },
   "outputs": [],
   "source": [
    "seletor = SelectFromModel(estimator, threshold=0, max_features=6)\n",
    "seletor = seletor.fit(X,y)"
   ]
  },
  {
   "cell_type": "code",
   "execution_count": 60,
   "metadata": {
    "colab": {
     "base_uri": "https://localhost:8080/"
    },
    "executionInfo": {
     "elapsed": 311,
     "status": "ok",
     "timestamp": 1722655950375,
     "user": {
      "displayName": "Bianca C",
      "userId": "09098072323959326830"
     },
     "user_tz": 180
    },
    "id": "HXyFcgNgSQ3O",
    "outputId": "85b209aa-1774-4f7b-9bbc-2f44c27bbe6d"
   },
   "outputs": [
    {
     "data": {
      "text/plain": [
       "array(['age', 'studytime', 'famrel', 'absences', 'G2', 'reason_course'],\n",
       "      dtype=object)"
      ]
     },
     "execution_count": 60,
     "metadata": {},
     "output_type": "execute_result"
    }
   ],
   "source": [
    "seletor.get_feature_names_out()"
   ]
  },
  {
   "cell_type": "markdown",
   "metadata": {
    "jp-MarkdownHeadingCollapsed": true
   },
   "source": [
    "# Aplicando conceito de multicolinearidade\n",
    "A multicolinearidade é uma situação em que duas ou mais variáveis independentes em um modelo de regressão encontram-se altamente correlacionadas.\n",
    "Essa alta correlação pode afetar a qualidade dos resultados do modelo e dificultar a interpretação dos resultados."
   ]
  },
  {
   "cell_type": "code",
   "execution_count": 20,
   "metadata": {},
   "outputs": [
    {
     "name": "stdout",
     "output_type": "stream",
     "text": [
      "          Feature1         Feature2  Correlation\n",
      "0               G1               G2     0.852118\n",
      "1  guardian_father  guardian_mother     0.812592\n"
     ]
    }
   ],
   "source": [
    "# Identificando pares de features com alta correlação\n",
    "corr_matrix = X.corr().abs()\n",
    "\n",
    "high_corr_pairs = []\n",
    "\n",
    "for i in range(len(corr_matrix.columns)):\n",
    "    for j in range(i + 1, len(corr_matrix.columns)):\n",
    "        if corr_matrix.iloc[i, j] > 0.8: \n",
    "            high_corr_pairs.append({\n",
    "                'Feature1': corr_matrix.columns[i],\n",
    "                'Feature2': corr_matrix.columns[j],\n",
    "                'Correlation': corr_matrix.iloc[i, j]\n",
    "            })\n",
    "\n",
    "high_corr_pairs_df = pd.DataFrame(high_corr_pairs)\n",
    "print(high_corr_pairs_df)"
   ]
  },
  {
   "cell_type": "markdown",
   "metadata": {},
   "source": [
    "- G1 e G2, como já observamos anteriormente, tem alta correlação entre si. O mesmo ocorre com guardian_father e guardian_mother. "
   ]
  },
  {
   "cell_type": "code",
   "execution_count": 22,
   "metadata": {},
   "outputs": [
    {
     "name": "stdout",
     "output_type": "stream",
     "text": [
      "              Feature       VIF\n",
      "0               const  0.000000\n",
      "1                 sex  1.482668\n",
      "2                 age  1.581112\n",
      "3             address  1.329266\n",
      "4             famsize  1.148858\n",
      "5             Pstatus  1.145245\n",
      "6                Medu  2.939984\n",
      "7                Fedu  2.135871\n",
      "8          traveltime  1.273016\n",
      "9           studytime  1.387297\n",
      "10           failures  1.562406\n",
      "11          schoolsup  1.253899\n",
      "12             famsup  1.289761\n",
      "13               paid  1.336615\n",
      "14         activities  1.145489\n",
      "15            nursery  1.145340\n",
      "16             higher  1.300130\n",
      "17           internet  1.255850\n",
      "18           romantic  1.173153\n",
      "19             famrel  1.134204\n",
      "20           freetime  1.312836\n",
      "21              goout  1.495700\n",
      "22               Dalc  2.027806\n",
      "23               Walc  2.382023\n",
      "24             health  1.177964\n",
      "25           absences  1.230067\n",
      "26                 G1  4.669615\n",
      "27                 G2  4.403667\n",
      "28       Mjob_at_home       inf\n",
      "29        Mjob_health       inf\n",
      "30         Mjob_other       inf\n",
      "31      Mjob_services       inf\n",
      "32       Mjob_teacher       inf\n",
      "33       Fjob_at_home       inf\n",
      "34        Fjob_health       inf\n",
      "35         Fjob_other       inf\n",
      "36      Fjob_services       inf\n",
      "37       Fjob_teacher       inf\n",
      "38      reason_course       inf\n",
      "39        reason_home       inf\n",
      "40       reason_other       inf\n",
      "41  reason_reputation       inf\n",
      "42    guardian_father       inf\n",
      "43    guardian_mother       inf\n",
      "44     guardian_other       inf\n"
     ]
    },
    {
     "name": "stderr",
     "output_type": "stream",
     "text": [
      "C:\\Users\\Bianca\\anaconda3\\lib\\site-packages\\statsmodels\\regression\\linear_model.py:1736: RuntimeWarning: divide by zero encountered in scalar divide\n",
      "  return 1 - self.ssr/self.centered_tss\n",
      "C:\\Users\\Bianca\\anaconda3\\lib\\site-packages\\statsmodels\\stats\\outliers_influence.py:195: RuntimeWarning: divide by zero encountered in scalar divide\n",
      "  vif = 1. / (1. - r_squared_i)\n"
     ]
    }
   ],
   "source": [
    "# Calculando o VIF para cada feature\n",
    "from statsmodels.stats.outliers_influence import variance_inflation_factor\n",
    "import pandas as pd\n",
    "\n",
    "X_with_const = sm.add_constant(X)\n",
    "\n",
    "vif_data = pd.DataFrame()\n",
    "vif_data['Feature'] = X_with_const.columns\n",
    "vif_data['VIF'] = [variance_inflation_factor(X_with_const.values, i) for i in range(X_with_const.shape[1])]\n",
    "\n",
    "print(vif_data)"
   ]
  },
  {
   "cell_type": "markdown",
   "metadata": {
    "jp-MarkdownHeadingCollapsed": true
   },
   "source": [
    "### Excluindo G2 e G1 da seleção de variáveis"
   ]
  },
  {
   "cell_type": "code",
   "execution_count": 23,
   "metadata": {},
   "outputs": [],
   "source": [
    "X = d1.drop(['G3', 'G2', 'G1'], axis=1)\n",
    "y = d1['G3']"
   ]
  },
  {
   "cell_type": "markdown",
   "metadata": {
    "jp-MarkdownHeadingCollapsed": true
   },
   "source": [
    "#### Aplicando SelectKBest com f_regression"
   ]
  },
  {
   "cell_type": "code",
   "execution_count": 24,
   "metadata": {},
   "outputs": [
    {
     "name": "stdout",
     "output_type": "stream",
     "text": [
      "[[18  4  4  0  1  4]\n",
      " [17  1  1  0  1  3]\n",
      " [15  1  1  3  1  2]\n",
      " ...\n",
      " [21  1  1  3  1  3]\n",
      " [18  3  2  0  1  1]\n",
      " [19  1  1  0  1  3]]\n"
     ]
    },
    {
     "data": {
      "text/html": [
       "<div>\n",
       "<style scoped>\n",
       "    .dataframe tbody tr th:only-of-type {\n",
       "        vertical-align: middle;\n",
       "    }\n",
       "\n",
       "    .dataframe tbody tr th {\n",
       "        vertical-align: top;\n",
       "    }\n",
       "\n",
       "    .dataframe thead th {\n",
       "        text-align: right;\n",
       "    }\n",
       "</style>\n",
       "<table border=\"1\" class=\"dataframe\">\n",
       "  <thead>\n",
       "    <tr style=\"text-align: right;\">\n",
       "      <th></th>\n",
       "      <th>age</th>\n",
       "      <th>Medu</th>\n",
       "      <th>Fedu</th>\n",
       "      <th>failures</th>\n",
       "      <th>higher</th>\n",
       "      <th>goout</th>\n",
       "    </tr>\n",
       "  </thead>\n",
       "  <tbody>\n",
       "    <tr>\n",
       "      <th>0</th>\n",
       "      <td>18</td>\n",
       "      <td>4</td>\n",
       "      <td>4</td>\n",
       "      <td>0</td>\n",
       "      <td>1</td>\n",
       "      <td>4</td>\n",
       "    </tr>\n",
       "    <tr>\n",
       "      <th>1</th>\n",
       "      <td>17</td>\n",
       "      <td>1</td>\n",
       "      <td>1</td>\n",
       "      <td>0</td>\n",
       "      <td>1</td>\n",
       "      <td>3</td>\n",
       "    </tr>\n",
       "    <tr>\n",
       "      <th>2</th>\n",
       "      <td>15</td>\n",
       "      <td>1</td>\n",
       "      <td>1</td>\n",
       "      <td>3</td>\n",
       "      <td>1</td>\n",
       "      <td>2</td>\n",
       "    </tr>\n",
       "    <tr>\n",
       "      <th>3</th>\n",
       "      <td>15</td>\n",
       "      <td>4</td>\n",
       "      <td>2</td>\n",
       "      <td>0</td>\n",
       "      <td>1</td>\n",
       "      <td>2</td>\n",
       "    </tr>\n",
       "    <tr>\n",
       "      <th>4</th>\n",
       "      <td>16</td>\n",
       "      <td>3</td>\n",
       "      <td>3</td>\n",
       "      <td>0</td>\n",
       "      <td>1</td>\n",
       "      <td>2</td>\n",
       "    </tr>\n",
       "    <tr>\n",
       "      <th>...</th>\n",
       "      <td>...</td>\n",
       "      <td>...</td>\n",
       "      <td>...</td>\n",
       "      <td>...</td>\n",
       "      <td>...</td>\n",
       "      <td>...</td>\n",
       "    </tr>\n",
       "    <tr>\n",
       "      <th>390</th>\n",
       "      <td>20</td>\n",
       "      <td>2</td>\n",
       "      <td>2</td>\n",
       "      <td>2</td>\n",
       "      <td>1</td>\n",
       "      <td>4</td>\n",
       "    </tr>\n",
       "    <tr>\n",
       "      <th>391</th>\n",
       "      <td>17</td>\n",
       "      <td>3</td>\n",
       "      <td>1</td>\n",
       "      <td>0</td>\n",
       "      <td>1</td>\n",
       "      <td>5</td>\n",
       "    </tr>\n",
       "    <tr>\n",
       "      <th>392</th>\n",
       "      <td>21</td>\n",
       "      <td>1</td>\n",
       "      <td>1</td>\n",
       "      <td>3</td>\n",
       "      <td>1</td>\n",
       "      <td>3</td>\n",
       "    </tr>\n",
       "    <tr>\n",
       "      <th>393</th>\n",
       "      <td>18</td>\n",
       "      <td>3</td>\n",
       "      <td>2</td>\n",
       "      <td>0</td>\n",
       "      <td>1</td>\n",
       "      <td>1</td>\n",
       "    </tr>\n",
       "    <tr>\n",
       "      <th>394</th>\n",
       "      <td>19</td>\n",
       "      <td>1</td>\n",
       "      <td>1</td>\n",
       "      <td>0</td>\n",
       "      <td>1</td>\n",
       "      <td>3</td>\n",
       "    </tr>\n",
       "  </tbody>\n",
       "</table>\n",
       "<p>395 rows × 6 columns</p>\n",
       "</div>"
      ],
      "text/plain": [
       "     age  Medu  Fedu  failures  higher  goout\n",
       "0     18     4     4         0       1      4\n",
       "1     17     1     1         0       1      3\n",
       "2     15     1     1         3       1      2\n",
       "3     15     4     2         0       1      2\n",
       "4     16     3     3         0       1      2\n",
       "..   ...   ...   ...       ...     ...    ...\n",
       "390   20     2     2         2       1      4\n",
       "391   17     3     1         0       1      5\n",
       "392   21     1     1         3       1      3\n",
       "393   18     3     2         0       1      1\n",
       "394   19     1     1         0       1      3\n",
       "\n",
       "[395 rows x 6 columns]"
      ]
     },
     "execution_count": 24,
     "metadata": {},
     "output_type": "execute_result"
    }
   ],
   "source": [
    "from sklearn.feature_selection import SelectKBest\n",
    "from sklearn.feature_selection import f_regression\n",
    "\n",
    "f_regression = SelectKBest(score_func=f_regression, k=6)\n",
    "fit = f_regression.fit(X, y)\n",
    "features = fit.transform(X)\n",
    "print(features)\n",
    "\n",
    "cols = fit.get_support(indices=True)\n",
    "d1.iloc[:, cols]"
   ]
  },
  {
   "cell_type": "markdown",
   "metadata": {
    "jp-MarkdownHeadingCollapsed": true
   },
   "source": [
    "#### Aplicando o recursive feature elimination - RFE"
   ]
  },
  {
   "cell_type": "code",
   "execution_count": 27,
   "metadata": {},
   "outputs": [
    {
     "name": "stdout",
     "output_type": "stream",
     "text": [
      "Número de features: 6\n"
     ]
    },
    {
     "data": {
      "text/html": [
       "<div>\n",
       "<style scoped>\n",
       "    .dataframe tbody tr th:only-of-type {\n",
       "        vertical-align: middle;\n",
       "    }\n",
       "\n",
       "    .dataframe tbody tr th {\n",
       "        vertical-align: top;\n",
       "    }\n",
       "\n",
       "    .dataframe thead th {\n",
       "        text-align: right;\n",
       "    }\n",
       "</style>\n",
       "<table border=\"1\" class=\"dataframe\">\n",
       "  <thead>\n",
       "    <tr style=\"text-align: right;\">\n",
       "      <th></th>\n",
       "      <th>address</th>\n",
       "      <th>failures</th>\n",
       "      <th>schoolsup</th>\n",
       "      <th>romantic</th>\n",
       "      <th>Mjob_at_home</th>\n",
       "      <th>Fjob_at_home</th>\n",
       "    </tr>\n",
       "  </thead>\n",
       "  <tbody>\n",
       "    <tr>\n",
       "      <th>0</th>\n",
       "      <td>1</td>\n",
       "      <td>0</td>\n",
       "      <td>1</td>\n",
       "      <td>0</td>\n",
       "      <td>1</td>\n",
       "      <td>0</td>\n",
       "    </tr>\n",
       "    <tr>\n",
       "      <th>1</th>\n",
       "      <td>1</td>\n",
       "      <td>0</td>\n",
       "      <td>0</td>\n",
       "      <td>0</td>\n",
       "      <td>1</td>\n",
       "      <td>0</td>\n",
       "    </tr>\n",
       "    <tr>\n",
       "      <th>2</th>\n",
       "      <td>1</td>\n",
       "      <td>3</td>\n",
       "      <td>1</td>\n",
       "      <td>0</td>\n",
       "      <td>1</td>\n",
       "      <td>0</td>\n",
       "    </tr>\n",
       "    <tr>\n",
       "      <th>3</th>\n",
       "      <td>1</td>\n",
       "      <td>0</td>\n",
       "      <td>0</td>\n",
       "      <td>1</td>\n",
       "      <td>0</td>\n",
       "      <td>0</td>\n",
       "    </tr>\n",
       "    <tr>\n",
       "      <th>4</th>\n",
       "      <td>1</td>\n",
       "      <td>0</td>\n",
       "      <td>0</td>\n",
       "      <td>0</td>\n",
       "      <td>0</td>\n",
       "      <td>0</td>\n",
       "    </tr>\n",
       "    <tr>\n",
       "      <th>...</th>\n",
       "      <td>...</td>\n",
       "      <td>...</td>\n",
       "      <td>...</td>\n",
       "      <td>...</td>\n",
       "      <td>...</td>\n",
       "      <td>...</td>\n",
       "    </tr>\n",
       "    <tr>\n",
       "      <th>390</th>\n",
       "      <td>1</td>\n",
       "      <td>2</td>\n",
       "      <td>0</td>\n",
       "      <td>0</td>\n",
       "      <td>0</td>\n",
       "      <td>0</td>\n",
       "    </tr>\n",
       "    <tr>\n",
       "      <th>391</th>\n",
       "      <td>1</td>\n",
       "      <td>0</td>\n",
       "      <td>0</td>\n",
       "      <td>0</td>\n",
       "      <td>0</td>\n",
       "      <td>0</td>\n",
       "    </tr>\n",
       "    <tr>\n",
       "      <th>392</th>\n",
       "      <td>0</td>\n",
       "      <td>3</td>\n",
       "      <td>0</td>\n",
       "      <td>0</td>\n",
       "      <td>0</td>\n",
       "      <td>0</td>\n",
       "    </tr>\n",
       "    <tr>\n",
       "      <th>393</th>\n",
       "      <td>0</td>\n",
       "      <td>0</td>\n",
       "      <td>0</td>\n",
       "      <td>0</td>\n",
       "      <td>0</td>\n",
       "      <td>0</td>\n",
       "    </tr>\n",
       "    <tr>\n",
       "      <th>394</th>\n",
       "      <td>1</td>\n",
       "      <td>0</td>\n",
       "      <td>0</td>\n",
       "      <td>0</td>\n",
       "      <td>0</td>\n",
       "      <td>1</td>\n",
       "    </tr>\n",
       "  </tbody>\n",
       "</table>\n",
       "<p>395 rows × 6 columns</p>\n",
       "</div>"
      ],
      "text/plain": [
       "     address  failures  schoolsup  romantic  Mjob_at_home  Fjob_at_home\n",
       "0          1         0          1         0             1             0\n",
       "1          1         0          0         0             1             0\n",
       "2          1         3          1         0             1             0\n",
       "3          1         0          0         1             0             0\n",
       "4          1         0          0         0             0             0\n",
       "..       ...       ...        ...       ...           ...           ...\n",
       "390        1         2          0         0             0             0\n",
       "391        1         0          0         0             0             0\n",
       "392        0         3          0         0             0             0\n",
       "393        0         0          0         0             0             0\n",
       "394        1         0          0         0             0             1\n",
       "\n",
       "[395 rows x 6 columns]"
      ]
     },
     "execution_count": 27,
     "metadata": {},
     "output_type": "execute_result"
    }
   ],
   "source": [
    "from sklearn.linear_model import LogisticRegression\n",
    "from sklearn.feature_selection import RFE\n",
    "\n",
    "model = LogisticRegression(solver='saga', max_iter=5000)\n",
    "rfe = RFE(model, n_features_to_select=6, step=2)\n",
    "\n",
    "fit = rfe.fit(X,y)\n",
    "\n",
    "print(\"Número de features: {}\".format(fit.n_features_))\n",
    "\n",
    "cols = fit.get_support(indices=True)\n",
    "d1.iloc[:, cols]"
   ]
  },
  {
   "cell_type": "markdown",
   "metadata": {
    "jp-MarkdownHeadingCollapsed": true
   },
   "source": [
    "#### Utilizando RandomForest¶"
   ]
  },
  {
   "cell_type": "code",
   "execution_count": 30,
   "metadata": {},
   "outputs": [
    {
     "name": "stdout",
     "output_type": "stream",
     "text": [
      "[0.02070628 0.04839145 0.00845641 0.01245317 0.00865827 0.02851147\n",
      " 0.0238052  0.02217673 0.03552016 0.10585426 0.03170852 0.01414238\n",
      " 0.01001384 0.01444938 0.01831522 0.02124872 0.01903332 0.016\n",
      " 0.02758742 0.04450447 0.06604344 0.01173164 0.02789756 0.04805669\n",
      " 0.16147577 0.01884064 0.00739414 0.01305469 0.01632058 0.00561892\n",
      " 0.01017382 0.00092317 0.00895099 0.00331182 0.00874884 0.00705717\n",
      " 0.00656189 0.00523132 0.00538504 0.01109266 0.00370661 0.02088594]\n"
     ]
    },
    {
     "data": {
      "text/html": [
       "<div>\n",
       "<style scoped>\n",
       "    .dataframe tbody tr th:only-of-type {\n",
       "        vertical-align: middle;\n",
       "    }\n",
       "\n",
       "    .dataframe tbody tr th {\n",
       "        vertical-align: top;\n",
       "    }\n",
       "\n",
       "    .dataframe thead th {\n",
       "        text-align: right;\n",
       "    }\n",
       "</style>\n",
       "<table border=\"1\" class=\"dataframe\">\n",
       "  <thead>\n",
       "    <tr style=\"text-align: right;\">\n",
       "      <th></th>\n",
       "      <th>importance</th>\n",
       "    </tr>\n",
       "  </thead>\n",
       "  <tbody>\n",
       "    <tr>\n",
       "      <th>absences</th>\n",
       "      <td>0.161476</td>\n",
       "    </tr>\n",
       "    <tr>\n",
       "      <th>failures</th>\n",
       "      <td>0.105854</td>\n",
       "    </tr>\n",
       "    <tr>\n",
       "      <th>goout</th>\n",
       "      <td>0.066043</td>\n",
       "    </tr>\n",
       "    <tr>\n",
       "      <th>age</th>\n",
       "      <td>0.048391</td>\n",
       "    </tr>\n",
       "    <tr>\n",
       "      <th>health</th>\n",
       "      <td>0.048057</td>\n",
       "    </tr>\n",
       "    <tr>\n",
       "      <th>freetime</th>\n",
       "      <td>0.044504</td>\n",
       "    </tr>\n",
       "    <tr>\n",
       "      <th>studytime</th>\n",
       "      <td>0.035520</td>\n",
       "    </tr>\n",
       "    <tr>\n",
       "      <th>schoolsup</th>\n",
       "      <td>0.031709</td>\n",
       "    </tr>\n",
       "    <tr>\n",
       "      <th>Medu</th>\n",
       "      <td>0.028511</td>\n",
       "    </tr>\n",
       "    <tr>\n",
       "      <th>Walc</th>\n",
       "      <td>0.027898</td>\n",
       "    </tr>\n",
       "    <tr>\n",
       "      <th>famrel</th>\n",
       "      <td>0.027587</td>\n",
       "    </tr>\n",
       "    <tr>\n",
       "      <th>Fedu</th>\n",
       "      <td>0.023805</td>\n",
       "    </tr>\n",
       "    <tr>\n",
       "      <th>traveltime</th>\n",
       "      <td>0.022177</td>\n",
       "    </tr>\n",
       "    <tr>\n",
       "      <th>higher</th>\n",
       "      <td>0.021249</td>\n",
       "    </tr>\n",
       "    <tr>\n",
       "      <th>guardian_other</th>\n",
       "      <td>0.020886</td>\n",
       "    </tr>\n",
       "    <tr>\n",
       "      <th>sex</th>\n",
       "      <td>0.020706</td>\n",
       "    </tr>\n",
       "    <tr>\n",
       "      <th>internet</th>\n",
       "      <td>0.019033</td>\n",
       "    </tr>\n",
       "    <tr>\n",
       "      <th>Mjob_at_home</th>\n",
       "      <td>0.018841</td>\n",
       "    </tr>\n",
       "    <tr>\n",
       "      <th>nursery</th>\n",
       "      <td>0.018315</td>\n",
       "    </tr>\n",
       "    <tr>\n",
       "      <th>Mjob_services</th>\n",
       "      <td>0.016321</td>\n",
       "    </tr>\n",
       "    <tr>\n",
       "      <th>romantic</th>\n",
       "      <td>0.016000</td>\n",
       "    </tr>\n",
       "    <tr>\n",
       "      <th>activities</th>\n",
       "      <td>0.014449</td>\n",
       "    </tr>\n",
       "    <tr>\n",
       "      <th>famsup</th>\n",
       "      <td>0.014142</td>\n",
       "    </tr>\n",
       "    <tr>\n",
       "      <th>Mjob_other</th>\n",
       "      <td>0.013055</td>\n",
       "    </tr>\n",
       "    <tr>\n",
       "      <th>famsize</th>\n",
       "      <td>0.012453</td>\n",
       "    </tr>\n",
       "    <tr>\n",
       "      <th>Dalc</th>\n",
       "      <td>0.011732</td>\n",
       "    </tr>\n",
       "    <tr>\n",
       "      <th>guardian_father</th>\n",
       "      <td>0.011093</td>\n",
       "    </tr>\n",
       "    <tr>\n",
       "      <th>Fjob_at_home</th>\n",
       "      <td>0.010174</td>\n",
       "    </tr>\n",
       "    <tr>\n",
       "      <th>paid</th>\n",
       "      <td>0.010014</td>\n",
       "    </tr>\n",
       "    <tr>\n",
       "      <th>Fjob_other</th>\n",
       "      <td>0.008951</td>\n",
       "    </tr>\n",
       "    <tr>\n",
       "      <th>Fjob_teacher</th>\n",
       "      <td>0.008749</td>\n",
       "    </tr>\n",
       "    <tr>\n",
       "      <th>Pstatus</th>\n",
       "      <td>0.008658</td>\n",
       "    </tr>\n",
       "    <tr>\n",
       "      <th>address</th>\n",
       "      <td>0.008456</td>\n",
       "    </tr>\n",
       "    <tr>\n",
       "      <th>Mjob_health</th>\n",
       "      <td>0.007394</td>\n",
       "    </tr>\n",
       "    <tr>\n",
       "      <th>reason_course</th>\n",
       "      <td>0.007057</td>\n",
       "    </tr>\n",
       "    <tr>\n",
       "      <th>reason_home</th>\n",
       "      <td>0.006562</td>\n",
       "    </tr>\n",
       "    <tr>\n",
       "      <th>Mjob_teacher</th>\n",
       "      <td>0.005619</td>\n",
       "    </tr>\n",
       "    <tr>\n",
       "      <th>reason_reputation</th>\n",
       "      <td>0.005385</td>\n",
       "    </tr>\n",
       "    <tr>\n",
       "      <th>reason_other</th>\n",
       "      <td>0.005231</td>\n",
       "    </tr>\n",
       "    <tr>\n",
       "      <th>guardian_mother</th>\n",
       "      <td>0.003707</td>\n",
       "    </tr>\n",
       "    <tr>\n",
       "      <th>Fjob_services</th>\n",
       "      <td>0.003312</td>\n",
       "    </tr>\n",
       "    <tr>\n",
       "      <th>Fjob_health</th>\n",
       "      <td>0.000923</td>\n",
       "    </tr>\n",
       "  </tbody>\n",
       "</table>\n",
       "</div>"
      ],
      "text/plain": [
       "                   importance\n",
       "absences             0.161476\n",
       "failures             0.105854\n",
       "goout                0.066043\n",
       "age                  0.048391\n",
       "health               0.048057\n",
       "freetime             0.044504\n",
       "studytime            0.035520\n",
       "schoolsup            0.031709\n",
       "Medu                 0.028511\n",
       "Walc                 0.027898\n",
       "famrel               0.027587\n",
       "Fedu                 0.023805\n",
       "traveltime           0.022177\n",
       "higher               0.021249\n",
       "guardian_other       0.020886\n",
       "sex                  0.020706\n",
       "internet             0.019033\n",
       "Mjob_at_home         0.018841\n",
       "nursery              0.018315\n",
       "Mjob_services        0.016321\n",
       "romantic             0.016000\n",
       "activities           0.014449\n",
       "famsup               0.014142\n",
       "Mjob_other           0.013055\n",
       "famsize              0.012453\n",
       "Dalc                 0.011732\n",
       "guardian_father      0.011093\n",
       "Fjob_at_home         0.010174\n",
       "paid                 0.010014\n",
       "Fjob_other           0.008951\n",
       "Fjob_teacher         0.008749\n",
       "Pstatus              0.008658\n",
       "address              0.008456\n",
       "Mjob_health          0.007394\n",
       "reason_course        0.007057\n",
       "reason_home          0.006562\n",
       "Mjob_teacher         0.005619\n",
       "reason_reputation    0.005385\n",
       "reason_other         0.005231\n",
       "guardian_mother      0.003707\n",
       "Fjob_services        0.003312\n",
       "Fjob_health          0.000923"
      ]
     },
     "execution_count": 30,
     "metadata": {},
     "output_type": "execute_result"
    }
   ],
   "source": [
    "from sklearn.ensemble import RandomForestRegressor\n",
    "model = RandomForestRegressor(n_estimators=10)\n",
    "model.fit(X,y)\n",
    "print(model.feature_importances_)\n",
    "feature_importances = pd.DataFrame(model.feature_importances_,\n",
    "                                   index = X.columns,\n",
    "                                   columns = ['importance']).sort_values('importance',\n",
    "                                   ascending=False)\n",
    "feature_importances"
   ]
  },
  {
   "cell_type": "code",
   "execution_count": 31,
   "metadata": {},
   "outputs": [
    {
     "data": {
      "text/plain": [
       "<AxesSubplot:>"
      ]
     },
     "execution_count": 31,
     "metadata": {},
     "output_type": "execute_result"
    },
    {
     "data": {
      "text/plain": [
       "<Figure size 2000x800 with 0 Axes>"
      ]
     },
     "metadata": {},
     "output_type": "display_data"
    },
    {
     "data": {
      "image/png": "[encoded data removed]",
      "text/plain": [
       "<Figure size 640x480 with 1 Axes>"
      ]
     },
     "metadata": {},
     "output_type": "display_data"
    }
   ],
   "source": [
    "plt.figure(figsize=(20, 8))\n",
    "feature_importances.plot(kind='bar')"
   ]
  },
  {
   "cell_type": "markdown",
   "metadata": {
    "jp-MarkdownHeadingCollapsed": true
   },
   "source": [
    "#### Utilizando decision tree"
   ]
  },
  {
   "cell_type": "code",
   "execution_count": 33,
   "metadata": {},
   "outputs": [
    {
     "data": {
      "image/png": "[encoded data removed]",
      "text/plain": [
       "<Figure size 1600x800 with 1 Axes>"
      ]
     },
     "metadata": {},
     "output_type": "display_data"
    }
   ],
   "source": [
    "from sklearn.tree import DecisionTreeRegressor\n",
    "clf = DecisionTreeRegressor(random_state=0)\n",
    "\n",
    "clf = clf.fit(X,y)\n",
    "\n",
    "clf.feature_importances_\n",
    "\n",
    "feature_names = X.columns\n",
    "importances = clf.feature_importances_\n",
    "\n",
    "feature_importances = pd.DataFrame({\n",
    "    'Feature': feature_names,\n",
    "    'Importance': importances\n",
    "})\n",
    "\n",
    "feature_importances = feature_importances.sort_values(by='Importance', ascending=False)\n",
    "plt.figure(figsize=(16, 8))\n",
    "plt.barh(feature_importances['Feature'], feature_importances['Importance'])\n",
    "plt.xlabel('Importance')\n",
    "plt.title('Feature Importances')\n",
    "plt.gca().invert_yaxis()\n",
    "plt.show()"
   ]
  },
  {
   "cell_type": "markdown",
   "metadata": {},
   "source": [
    "#### Utilizando SelectFromModel"
   ]
  },
  {
   "cell_type": "code",
   "execution_count": 34,
   "metadata": {},
   "outputs": [
    {
     "data": {
      "text/plain": [
       "array(['Fedu', 'failures', 'freetime', 'goout', 'health', 'absences'],\n",
       "      dtype=object)"
      ]
     },
     "execution_count": 34,
     "metadata": {},
     "output_type": "execute_result"
    }
   ],
   "source": [
    "from sklearn.feature_selection import SelectFromModel\n",
    "estimator = DecisionTreeRegressor(random_state=0)\n",
    "seletor = SelectFromModel(estimator, threshold=0, max_features=6)\n",
    "seletor = seletor.fit(X,y)\n",
    "seletor.get_feature_names_out()"
   ]
  },
  {
   "cell_type": "markdown",
   "metadata": {},
   "source": [
    "# Conclusões:"
   ]
  }
 ],
 "metadata": {
  "colab": {
   "authorship_tag": "ABX9TyMJrZR/bTmKaBDGI7EmaPtd",
   "provenance": []
  },
  "kernelspec": {
   "display_name": "Python 3 (ipykernel)",
   "language": "python",
   "name": "python3"
  },
  "language_info": {
   "codemirror_mode": {
    "name": "ipython",
    "version": 3
   },
   "file_extension": ".py",
   "mimetype": "text/x-python",
   "name": "python",
   "nbconvert_exporter": "python",
   "pygments_lexer": "ipython3",
   "version": "3.9.13"
  }
 },
 "nbformat": 4,
 "nbformat_minor": 4
}
