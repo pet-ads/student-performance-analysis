{
 "cells": [
  {
   "cell_type": "code",
   "execution_count": 1,
   "id": "ca7ca9b5-5ee6-4231-9e36-d35d5496d50e",
   "metadata": {},
   "outputs": [],
   "source": [
    "import pandas as pd\n",
    "import matplotlib.pyplot as plt\n",
    "import seaborn as sns\n",
    "\n",
    "d1_trabalhadoC = pd.read_csv(\"d1_trabalhadoC.csv\", sep=\",\")"
   ]
  },
  {
   "cell_type": "code",
   "execution_count": 2,
   "id": "96424107-1668-4b76-b5c3-f8e171dec238",
   "metadata": {},
   "outputs": [],
   "source": [
    "# Transformando o target G3 em atributo categórico\n",
    "# Definindo os limites para cada faixa\n",
    "limite_insuficiente = 9\n",
    "limite_regular = 14\n",
    "limite_excelente = 20\n",
    "\n",
    "def transform_note(valor):\n",
    "    if valor <= limite_insuficiente:\n",
    "        return 'insuficiente'\n",
    "    elif valor <= limite_regular:\n",
    "        return 'regular'\n",
    "    elif valor <= limite_excelente:\n",
    "        return 'excelente'"
   ]
  },
  {
   "cell_type": "code",
   "execution_count": 3,
   "id": "94e1dc4a-d8ee-4de8-9c40-151b6f9c48d0",
   "metadata": {},
   "outputs": [],
   "source": [
    "# Aplicando a função para transformar a coluna G3\n",
    "d1_trabalhadoC['G3_transform'] = d1_trabalhadoC['G3'].apply(transform_note)\n",
    "d1_trabalhadoC['G2_transform'] = d1_trabalhadoC['G2'].apply(transform_note)\n",
    "d1_trabalhadoC['G1_transform'] = d1_trabalhadoC['G1'].apply(transform_note)"
   ]
  },
  {
   "cell_type": "code",
   "execution_count": 4,
   "id": "6fed42e2-c3cb-495f-b489-664c861b54b8",
   "metadata": {},
   "outputs": [
    {
     "data": {
      "text/plain": [
       "0      insuficiente\n",
       "1      insuficiente\n",
       "2           regular\n",
       "3         excelente\n",
       "4           regular\n",
       "           ...     \n",
       "390    insuficiente\n",
       "391       excelente\n",
       "392    insuficiente\n",
       "393         regular\n",
       "394    insuficiente\n",
       "Name: G3_transform, Length: 395, dtype: object"
      ]
     },
     "execution_count": 4,
     "metadata": {},
     "output_type": "execute_result"
    }
   ],
   "source": [
    "d1_trabalhadoC['G3_transform']"
   ]
  },
  {
   "cell_type": "code",
   "execution_count": 5,
   "id": "fbc62282-b2c3-4b87-9e67-a075712427f6",
   "metadata": {},
   "outputs": [],
   "source": [
    "# Aqui estou definindo uma ordem hierárquica ao G3_transform. A ideia é que \n",
    "# ao chamar ele em uma operação, as categorias (baixo, mediano, alto, \n",
    "# excelente) apareçam de forma hierárquica\n",
    "categorias_notes = ['insuficiente', 'regular', 'excelente']\n",
    "ordem_notes = pd.api.types.CategoricalDtype(categories=categorias_notes, ordered=True)\n",
    "\n",
    "d1_trabalhadoC['G3_transform'] = d1_trabalhadoC['G3_transform'].astype(ordem_notes)\n",
    "d1_trabalhadoC['G2_transform'] = d1_trabalhadoC['G2_transform'].astype(ordem_notes)\n",
    "d1_trabalhadoC['G1_transform'] = d1_trabalhadoC['G1_transform'].astype(ordem_notes)"
   ]
  },
  {
   "cell_type": "code",
   "execution_count": 6,
   "id": "8f703014-7f1a-44c9-976d-4d0765b56483",
   "metadata": {},
   "outputs": [
    {
     "name": "stdout",
     "output_type": "stream",
     "text": [
      "G3_transform\n",
      "insuficiente    130\n",
      "regular         192\n",
      "excelente        73\n",
      "dtype: int64\n"
     ]
    },
    {
     "name": "stderr",
     "output_type": "stream",
     "text": [
      "C:\\Users\\bianc\\AppData\\Local\\Temp\\ipykernel_10760\\4270305933.py:1: FutureWarning: The default of observed=False is deprecated and will be changed to True in a future version of pandas. Pass observed=False to retain current behavior or observed=True to adopt the future default and silence this warning.\n",
      "  grouped = d1_trabalhadoC.groupby(['G3_transform']).size()\n"
     ]
    }
   ],
   "source": [
    "grouped = d1_trabalhadoC.groupby(['G3_transform']).size()\n",
    "print(grouped)"
   ]
  },
  {
   "cell_type": "code",
   "execution_count": 7,
   "id": "09eef2bd-3a47-42e3-850e-74637f378753",
   "metadata": {},
   "outputs": [],
   "source": [
    "d1_trabalhadoC.drop(['G1', 'G2', 'G3'], axis=1, inplace=True)"
   ]
  },
  {
   "cell_type": "code",
   "execution_count": 8,
   "id": "f97f5b72-c9f7-42f5-b44e-06507818c7bf",
   "metadata": {},
   "outputs": [],
   "source": [
    "d1_trabalhadoC.rename(columns={\"G1_transform\": \"G1\"}, inplace=True)"
   ]
  },
  {
   "cell_type": "code",
   "execution_count": 9,
   "id": "34627672-d962-406f-9dba-54ff85e6c5a5",
   "metadata": {},
   "outputs": [],
   "source": [
    "d1_trabalhadoC.rename(columns={\"G2_transform\": \"G2\"}, inplace=True)"
   ]
  },
  {
   "cell_type": "code",
   "execution_count": 10,
   "id": "b158eb1a-602b-4cd8-b613-27186905e925",
   "metadata": {},
   "outputs": [],
   "source": [
    "d1_trabalhadoC.rename(columns={\"G3_transform\": \"G3\"}, inplace=True)"
   ]
  },
  {
   "cell_type": "code",
   "execution_count": 11,
   "id": "3be31cbe-c4ac-4225-ba8f-2e01ccdb0657",
   "metadata": {},
   "outputs": [],
   "source": [
    "d1_trabalhadoC = pd.get_dummies(d1_trabalhadoC, columns=['G1', 'G2', 'G3'], prefix=['G1', 'G2', 'G3'])"
   ]
  },
  {
   "cell_type": "code",
   "execution_count": 15,
   "id": "ee81edbf-721d-4a26-9790-3f17f38cc23f",
   "metadata": {},
   "outputs": [],
   "source": [
    "d1_trabalhadoC = d1_trabalhadoC.astype({col: int for col in d1_trabalhadoC.select_dtypes(include='bool').columns})"
   ]
  },
  {
   "cell_type": "code",
   "execution_count": 17,
   "id": "bf0b1084-5c75-43f1-87a3-2d2e637043ab",
   "metadata": {},
   "outputs": [],
   "source": [
    "d1_trabalhadoC.to_csv(\"d1_trabalhadoC.csv\", sep=\",\", index=False)"
   ]
  }
 ],
 "metadata": {
  "kernelspec": {
   "display_name": "Python 3 (ipykernel)",
   "language": "python",
   "name": "python3"
  },
  "language_info": {
   "codemirror_mode": {
    "name": "ipython",
    "version": 3
   },
   "file_extension": ".py",
   "mimetype": "text/x-python",
   "name": "python",
   "nbconvert_exporter": "python",
   "pygments_lexer": "ipython3",
   "version": "3.12.4"
  }
 },
 "nbformat": 4,
 "nbformat_minor": 5
}
