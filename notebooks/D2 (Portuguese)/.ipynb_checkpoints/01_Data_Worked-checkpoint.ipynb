{
 "cells": [
  {
   "cell_type": "code",
   "execution_count": 1,
   "id": "dcb55ab7-8238-4362-8de1-aafc31a5dfb6",
   "metadata": {},
   "outputs": [
    {
     "name": "stdout",
     "output_type": "stream",
     "text": [
      "382\n"
     ]
    }
   ],
   "source": [
    "import pandas as pd\n",
    "import numpy as np\n",
    "import matplotlib.pyplot as plt\n",
    "import seaborn as sns\n",
    "\n",
    "\n",
    "d1 = pd.read_csv(\"/Ciência de Dados Geral/Performance de Estudantes/student-performance-analysis/data/student-mat.csv\", sep=\";\")\n",
    "d2 = pd.read_csv(\"/Ciência de Dados Geral/Performance de Estudantes/student-performance-analysis/data/student-por.csv\", sep=\";\")\n",
    "\n",
    "d3 = pd.merge(d1, d2, on=[\"school\", \"sex\", \"age\", \"address\", \"famsize\", \"Pstatus\",\n",
    "                          \"Medu\", \"Fedu\", \"Mjob\", \"Fjob\", \"reason\", \"nursery\", \"internet\"])\n",
    "\n",
    "print(len(d3))"
   ]
  },
  {
   "cell_type": "code",
   "execution_count": 2,
   "id": "d20eee7b-61e6-4794-9b37-42a562b403ff",
   "metadata": {},
   "outputs": [],
   "source": [
    "d2_trabalhado = d2.copy()"
   ]
  },
  {
   "cell_type": "code",
   "execution_count": 15,
   "id": "f5da649e-b3d1-4fe2-ab8d-4fe17f82cac9",
   "metadata": {},
   "outputs": [
    {
     "data": {
      "text/plain": [
       "(649, 45)"
      ]
     },
     "execution_count": 15,
     "metadata": {},
     "output_type": "execute_result"
    }
   ],
   "source": [
    "d2_trabalhado.shape"
   ]
  },
  {
   "cell_type": "code",
   "execution_count": 3,
   "id": "741ed081-8af4-49d5-940e-c479c388973d",
   "metadata": {},
   "outputs": [],
   "source": [
    "d2_trabalhado['sex'] = np.where(d2_trabalhado['sex'] == 'F', 1, 0)\n",
    "d2_trabalhado['address'] = np.where(d2_trabalhado['address'] == 'U', 1, 0)\n",
    "d2_trabalhado['famsize'] = np.where(d2_trabalhado['famsize'] == 'GT3', 1, 0)\n",
    "d2_trabalhado['Pstatus'] = np.where(d2_trabalhado['Pstatus'] == 'T', 1, 0)\n",
    "d2_trabalhado['schoolsup'] = np.where(d2_trabalhado['schoolsup'] == 'yes', 1, 0)\n",
    "d2_trabalhado['famsup'] = np.where(d2_trabalhado['famsup'] == 'yes', 1, 0)\n",
    "d2_trabalhado['paid'] = np.where(d2_trabalhado['paid'] == 'yes', 1, 0)\n",
    "d2_trabalhado['activities'] = np.where(d2_trabalhado['activities'] == 'yes', 1, 0)\n",
    "d2_trabalhado['nursery'] = np.where(d2_trabalhado['nursery'] == 'yes', 1, 0)\n",
    "d2_trabalhado['higher'] = np.where(d2_trabalhado['higher'] == 'yes', 1, 0)\n",
    "d2_trabalhado['internet'] = np.where(d2_trabalhado['internet'] == 'yes', 1, 0)\n",
    "d2_trabalhado['romantic'] = np.where(d2_trabalhado['romantic'] == 'yes', 1, 0)"
   ]
  },
  {
   "cell_type": "code",
   "execution_count": 6,
   "id": "0ba874ce-2d88-4dc3-a6eb-50fc41b1db55",
   "metadata": {},
   "outputs": [],
   "source": [
    "d2_trabalhado = pd.get_dummies(d2_trabalhado, columns=['Mjob', 'Fjob', 'reason', 'guardian'], prefix=['Mjob', 'Fjob', 'reason', 'guardian'])"
   ]
  },
  {
   "cell_type": "code",
   "execution_count": 7,
   "id": "cd5156a2-f046-4d9a-aaae-5c316559edb7",
   "metadata": {},
   "outputs": [],
   "source": [
    "d2_trabalhado = d2_trabalhado.drop(columns=['school'])"
   ]
  },
  {
   "cell_type": "code",
   "execution_count": 11,
   "id": "e6f861bf-636b-4f9b-b2f7-08503bc129db",
   "metadata": {},
   "outputs": [],
   "source": [
    "d2_trabalhado = d2_trabalhado.astype(int)"
   ]
  },
  {
   "cell_type": "code",
   "execution_count": 14,
   "id": "6a7b012b-f53f-41ba-b0aa-731e8c82a6d9",
   "metadata": {},
   "outputs": [],
   "source": [
    "d2_trabalhado.to_csv('d2_trabalhado.csv', index=False)"
   ]
  }
 ],
 "metadata": {
  "kernelspec": {
   "display_name": "Python 3 (ipykernel)",
   "language": "python",
   "name": "python3"
  },
  "language_info": {
   "codemirror_mode": {
    "name": "ipython",
    "version": 3
   },
   "file_extension": ".py",
   "mimetype": "text/x-python",
   "name": "python",
   "nbconvert_exporter": "python",
   "pygments_lexer": "ipython3",
   "version": "3.9.13"
  }
 },
 "nbformat": 4,
 "nbformat_minor": 5
}
