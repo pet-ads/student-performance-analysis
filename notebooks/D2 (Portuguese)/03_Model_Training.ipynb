{
 "cells": [
  {
   "cell_type": "code",
   "execution_count": 3,
   "id": "84c4a6c5-ffcf-4ff0-98ff-614e6aabe34a",
   "metadata": {},
   "outputs": [],
   "source": [
    "import pandas as pd\n",
    "import numpy as np\n",
    "import matplotlib.pyplot as plt\n",
    "import seaborn as sns\n",
    "\n",
    "d2 = pd.read_csv(\"d2_trabalhado.csv\", sep=\",\")"
   ]
  },
  {
   "cell_type": "code",
   "execution_count": 6,
   "id": "b02e0358-c2a7-4728-9bef-a8458fcec412",
   "metadata": {},
   "outputs": [],
   "source": [
    "X = d2.drop(['G3'], axis=1)\n",
    "y = d2['G3']"
   ]
  },
  {
   "cell_type": "code",
   "execution_count": 4,
   "id": "44f4d37a-1c54-42bb-858b-b3e7247d8546",
   "metadata": {},
   "outputs": [],
   "source": [
    "from sklearn.model_selection import train_test_split\n",
    "from sklearn.linear_model import LinearRegression\n",
    "from sklearn.metrics import mean_squared_error, r2_score"
   ]
  },
  {
   "cell_type": "code",
   "execution_count": 7,
   "id": "01c02be1-a7b4-4523-91c7-d1cc1f470390",
   "metadata": {},
   "outputs": [],
   "source": [
    "X_train, X_test, y_train, y_test = train_test_split(X, y, test_size=0.2, random_state=42)"
   ]
  },
  {
   "cell_type": "code",
   "execution_count": 8,
   "id": "73909999-cef3-40b4-9082-e6a8da156738",
   "metadata": {},
   "outputs": [
    {
     "data": {
      "text/plain": [
       "LinearRegression()"
      ]
     },
     "execution_count": 8,
     "metadata": {},
     "output_type": "execute_result"
    }
   ],
   "source": [
    "regressor = LinearRegression()\n",
    "regressor.fit(X_train, y_train)"
   ]
  },
  {
   "cell_type": "code",
   "execution_count": 9,
   "id": "3f7f9b38-8796-40ed-8761-b496db31a620",
   "metadata": {},
   "outputs": [],
   "source": [
    "y_pred = regressor.predict(X_test)"
   ]
  },
  {
   "cell_type": "markdown",
   "id": "688e276c-43b4-43ca-98cb-2a77e3ee6242",
   "metadata": {},
   "source": [
    "- Avaliando o modelo"
   ]
  },
  {
   "cell_type": "code",
   "execution_count": 10,
   "id": "5cbbada6-7cd7-45a0-b3d2-4103a6e8475e",
   "metadata": {},
   "outputs": [],
   "source": [
    "mse = mean_squared_error(y_test, y_pred)\n",
    "r2 = r2_score(y_test, y_pred)"
   ]
  },
  {
   "cell_type": "code",
   "execution_count": 11,
   "id": "2681c839-5135-4547-8e2c-6faea0035e04",
   "metadata": {},
   "outputs": [
    {
     "name": "stdout",
     "output_type": "stream",
     "text": [
      "Mean Squared Error: 1.4470130554418417\n",
      "R^2 Score: 0.8516145200543244\n"
     ]
    }
   ],
   "source": [
    "print(f'Mean Squared Error: {mse}')\n",
    "print(f'R^2 Score: {r2}')"
   ]
  },
  {
   "cell_type": "markdown",
   "id": "a45ee027-5af1-4e53-b994-11ee0a82cd88",
   "metadata": {},
   "source": [
    "- Selecionando variáveis"
   ]
  },
  {
   "cell_type": "code",
   "execution_count": 33,
   "id": "9791521e-1381-404f-8710-0b75bd80a659",
   "metadata": {},
   "outputs": [],
   "source": [
    "selected_features = ['G2','famrel','studytime', 'health', 'Dalc']"
   ]
  },
  {
   "cell_type": "code",
   "execution_count": 34,
   "id": "55445924-9231-4577-98cc-b8ac118ee62f",
   "metadata": {},
   "outputs": [],
   "source": [
    "X = d2[selected_features]\n",
    "y = d2['G3']"
   ]
  },
  {
   "cell_type": "code",
   "execution_count": 35,
   "id": "f868a460-f2b0-4bae-9add-ebc375926fa0",
   "metadata": {},
   "outputs": [
    {
     "name": "stdout",
     "output_type": "stream",
     "text": [
      "Mean Squared Error: 1.2627269262347525\n",
      "R^2 Score: 0.8705123355418114\n"
     ]
    }
   ],
   "source": [
    "X_train, X_test, y_train, y_test = train_test_split(X, y, test_size=0.2, random_state=42)\n",
    "\n",
    "regressor = LinearRegression()\n",
    "regressor.fit(X_train, y_train)\n",
    "\n",
    "y_pred = regressor.predict(X_test)\n",
    "\n",
    "mse = mean_squared_error(y_test, y_pred)\n",
    "r2 = r2_score(y_test, y_pred)\n",
    "\n",
    "print(f'Mean Squared Error: {mse}')\n",
    "print(f'R^2 Score: {r2}')"
   ]
  },
  {
   "cell_type": "markdown",
   "id": "68ec7412-5056-494c-bcb4-6b23387d76ae",
   "metadata": {},
   "source": [
    "## Regressão Polinomial"
   ]
  },
  {
   "cell_type": "code",
   "execution_count": 36,
   "id": "d8d1f6a3-32fd-4b8e-88c8-7a01e6502bbb",
   "metadata": {},
   "outputs": [
    {
     "name": "stdout",
     "output_type": "stream",
     "text": [
      "Mean Squared Error: 1.29\n",
      "R^2 Score: 0.87\n"
     ]
    }
   ],
   "source": [
    "from sklearn.linear_model import LinearRegression\n",
    "from sklearn.preprocessing import PolynomialFeatures\n",
    "\n",
    "X = d2[selected_features]\n",
    "y = d2['G3']\n",
    "\n",
    "X_train, X_test, y_train, y_test = train_test_split(X, y, test_size=0.2, random_state=42)\n",
    "\n",
    "poly = PolynomialFeatures(degree=2)\n",
    "X_poly_train = poly.fit_transform(X_train)\n",
    "X_poly_test = poly.transform(X_test)\n",
    "\n",
    "model = LinearRegression()\n",
    "model.fit(X_poly_train, y_train)\n",
    "\n",
    "y_pred = model.predict(X_poly_test)\n",
    "\n",
    "mse = mean_squared_error(y_test, y_pred)\n",
    "r2 = r2_score(y_test, y_pred)\n",
    "\n",
    "print(\"Mean Squared Error: %.2f\" % mse)\n",
    "print(\"R^2 Score: %.2f\" % r2)"
   ]
  },
  {
   "cell_type": "markdown",
   "id": "db53aa9d-2c21-4333-8906-36df39748f80",
   "metadata": {},
   "source": [
    "## Lasso Regression"
   ]
  },
  {
   "cell_type": "code",
   "execution_count": 40,
   "id": "724c6736-809f-4b13-98fe-ffae2b2a3c0d",
   "metadata": {},
   "outputs": [
    {
     "name": "stdout",
     "output_type": "stream",
     "text": [
      "Mean Squared Error: 1.27\n",
      "R^2 Score: 0.87\n",
      "Coeficientes: [ 1.0191465 -0.         0.        -0.        -0.       ]\n"
     ]
    }
   ],
   "source": [
    "from sklearn.linear_model import Lasso\n",
    "\n",
    "X_train, X_test, y_train, y_test = train_test_split(X, y, test_size=0.2, random_state=42)\n",
    "\n",
    "lasso = Lasso(alpha=0.1)\n",
    "\n",
    "lasso.fit(X_train, y_train)\n",
    "y_pred = lasso.predict(X_test)\n",
    "\n",
    "mse = mean_squared_error(y_test, y_pred)\n",
    "r2 = r2_score(y_test, y_pred)\n",
    "\n",
    "print(\"Mean Squared Error: %.2f\" % mse)\n",
    "print(\"R^2 Score: %.2f\" % r2)\n",
    "\n",
    "print(\"Coeficientes:\", lasso.coef_)"
   ]
  },
  {
   "cell_type": "markdown",
   "id": "e3bcf4a5-65c2-4115-8a12-51591810fdc5",
   "metadata": {},
   "source": [
    "## Árvores de Decisão"
   ]
  },
  {
   "cell_type": "code",
   "execution_count": 114,
   "id": "c76d3703-1469-4898-a414-d5e929cbc80a",
   "metadata": {},
   "outputs": [
    {
     "name": "stdout",
     "output_type": "stream",
     "text": [
      "Mean Squared Error: 1.46\n",
      "R^2 Score: 0.85\n"
     ]
    }
   ],
   "source": [
    "from sklearn.tree import DecisionTreeRegressor\n",
    "from sklearn.metrics import mean_squared_error, r2_score\n",
    "\n",
    "selected_features = ['G2', 'famrel', 'schoolsup','failures']\n",
    "#selected_features = ['G1', 'G2', 'schoolsup']\n",
    "\n",
    "X = d2[selected_features]\n",
    "y = d2['G3']\n",
    "\n",
    "X_train, X_test, y_train, y_test = train_test_split(X, y, test_size=0.2, random_state=42)\n",
    "\n",
    "decision_tree = DecisionTreeRegressor(random_state=42)\n",
    "\n",
    "decision_tree.fit(X_train, y_train)\n",
    "y_pred = decision_tree.predict(X_test)\n",
    "\n",
    "mse = mean_squared_error(y_test, y_pred)\n",
    "r2 = r2_score(y_test, y_pred)\n",
    "\n",
    "print(\"Mean Squared Error: %.2f\" % mse)\n",
    "print(\"R^2 Score: %.2f\" % r2)"
   ]
  },
  {
   "cell_type": "markdown",
   "id": "075b7f3a-dd06-4cb3-ab7d-cb229861db44",
   "metadata": {},
   "source": [
    "## Validação cruzada"
   ]
  },
  {
   "cell_type": "code",
   "execution_count": 120,
   "id": "a04461f0-b69f-4d48-9a95-16a8b898d72e",
   "metadata": {},
   "outputs": [
    {
     "name": "stdout",
     "output_type": "stream",
     "text": [
      "Features: ['G2', 'famrel', 'schoolsup', 'failures']\n",
      "Mean Squared Error (Cross-Validation): 1.99 ± 0.97\n",
      "\n",
      "Features: ['famrel', 'G2', 'schoolsup', 'age']\n",
      "Mean Squared Error (Cross-Validation): 2.71 ± 1.22\n",
      "\n",
      "Features: ['G2', 'famrel', 'absences', 'Dalc']\n",
      "Mean Squared Error (Cross-Validation): 3.67 ± 1.02\n",
      "\n",
      "Features: ['G2', 'famrel', 'absences', 'romantic']\n",
      "Mean Squared Error (Cross-Validation): 3.25 ± 1.20\n",
      "\n",
      "Features: ['G2', 'famrel', 'absences', 'failures']\n",
      "Mean Squared Error (Cross-Validation): 3.25 ± 1.08\n",
      "\n",
      "Features: ['G2', 'schoolsup', 'freetime', 'famrel']\n",
      "Mean Squared Error (Cross-Validation): 3.02 ± 1.40\n",
      "\n",
      "Features: ['G2', 'Medu', 'studytime', 'failures']\n",
      "Mean Squared Error (Cross-Validation): 2.70 ± 1.25\n",
      "\n"
     ]
    }
   ],
   "source": [
    "from sklearn.tree import DecisionTreeRegressor\n",
    "from sklearn.model_selection import cross_val_score\n",
    "import numpy as np\n",
    "\n",
    "feature_sets = [\n",
    "    ['G2', 'famrel', 'schoolsup', 'failures'],\n",
    "    ['famrel', 'G2', 'schoolsup', 'age'],\n",
    "    ['G2', 'famrel', 'absences', 'Dalc'],\n",
    "    ['G2', 'famrel', 'absences', 'romantic'],\n",
    "     ['G2', 'famrel', 'absences', 'failures'],\n",
    "     ['G2', 'schoolsup', 'freetime', 'famrel'],\n",
    "    ['G2', 'Medu', 'studytime', 'failures']\n",
    "]\n",
    "\n",
    "for features in feature_sets:\n",
    "    X = d2[features]\n",
    "    y = d2['G3']\n",
    "\n",
    "    decision_tree = DecisionTreeRegressor(random_state=42)\n",
    "    \n",
    "    scores = cross_val_score(decision_tree, X, y, cv=5, scoring='neg_mean_squared_error')\n",
    "    \n",
    "    mse_scores = -scores\n",
    "    mean_mse = np.mean(mse_scores)\n",
    "    std_mse = np.std(mse_scores)\n",
    "    \n",
    "    print(f\"Features: {features}\")\n",
    "    print(f\"Mean Squared Error (Cross-Validation): {mean_mse:.2f} ± {std_mse:.2f}\")\n",
    "    print()\n"
   ]
  }
 ],
 "metadata": {
  "kernelspec": {
   "display_name": "Python 3 (ipykernel)",
   "language": "python",
   "name": "python3"
  },
  "language_info": {
   "codemirror_mode": {
    "name": "ipython",
    "version": 3
   },
   "file_extension": ".py",
   "mimetype": "text/x-python",
   "name": "python",
   "nbconvert_exporter": "python",
   "pygments_lexer": "ipython3",
   "version": "3.9.13"
  }
 },
 "nbformat": 4,
 "nbformat_minor": 5
}
