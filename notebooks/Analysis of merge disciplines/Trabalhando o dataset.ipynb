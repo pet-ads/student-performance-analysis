{
 "cells": [
  {
   "cell_type": "code",
   "execution_count": 38,
   "id": "9f00d468-9375-4854-b5af-872c6a72b3e2",
   "metadata": {},
   "outputs": [
    {
     "name": "stdout",
     "output_type": "stream",
     "text": [
      "382\n"
     ]
    }
   ],
   "source": [
    "import pandas as pd\n",
    "import numpy as np\n",
    "import matplotlib.pyplot as plt\n",
    "import seaborn as sns\n",
    "\n",
    "d1 = pd.read_csv(\"/Ciência de Dados Geral/Performance de Estudantes/student-performance-analysis/data/student-mat.csv\", sep=\";\")\n",
    "d2 = pd.read_csv(\"/Ciência de Dados Geral/Performance de Estudantes/student-performance-analysis/data/student-por.csv\", sep=\";\")\n",
    "\n",
    "d3 = pd.merge(d1, d2, on=[\"school\", \"sex\", \"age\", \"address\", \"famsize\", \"Pstatus\",\n",
    "                          \"Medu\", \"Fedu\", \"Mjob\", \"Fjob\", \"reason\", \"nursery\", \"internet\"])\n",
    "\n",
    "print(len(d3))"
   ]
  },
  {
   "cell_type": "code",
   "execution_count": 40,
   "id": "8e33bfcb-c34f-43b4-ab1c-1f4dd8e2460f",
   "metadata": {},
   "outputs": [
    {
     "data": {
      "text/plain": [
       "Index(['school', 'sex', 'age', 'address', 'famsize', 'Pstatus', 'Medu', 'Fedu',\n",
       "       'Mjob', 'Fjob', 'reason', 'guardian_x', 'traveltime_x', 'studytime_x',\n",
       "       'failures_x', 'schoolsup_x', 'famsup_x', 'paid_x', 'activities_x',\n",
       "       'nursery', 'higher_x', 'internet', 'romantic_x', 'famrel_x',\n",
       "       'freetime_x', 'goout_x', 'Dalc_x', 'Walc_x', 'health_x', 'absences_x',\n",
       "       'G1_x', 'G2_x', 'G3_x', 'guardian_y', 'traveltime_y', 'studytime_y',\n",
       "       'failures_y', 'schoolsup_y', 'famsup_y', 'paid_y', 'activities_y',\n",
       "       'higher_y', 'romantic_y', 'famrel_y', 'freetime_y', 'goout_y', 'Dalc_y',\n",
       "       'Walc_y', 'health_y', 'absences_y', 'G1_y', 'G2_y', 'G3_y'],\n",
       "      dtype='object')"
      ]
     },
     "execution_count": 40,
     "metadata": {},
     "output_type": "execute_result"
    }
   ],
   "source": [
    "d3.columns"
   ]
  },
  {
   "cell_type": "code",
   "execution_count": 41,
   "id": "a6709794-6826-4a56-97d4-0e1397e7be85",
   "metadata": {},
   "outputs": [],
   "source": [
    "d3_trabalhado = d3.copy()"
   ]
  },
  {
   "cell_type": "code",
   "execution_count": 42,
   "id": "94e3f067-d6e4-4580-a66d-b4263276ecae",
   "metadata": {},
   "outputs": [],
   "source": [
    "d3_trabalhado['sex'] = np.where(d3_trabalhado['sex'] == 'F', 1, 0)\n",
    "d3_trabalhado['address'] = np.where(d3_trabalhado['address'] == 'U', 1, 0)\n",
    "d3_trabalhado['famsize'] = np.where(d3_trabalhado['famsize'] == 'GT3', 1, 0)\n",
    "d3_trabalhado['Pstatus'] = np.where(d3_trabalhado['Pstatus'] == 'T', 1, 0)\n",
    "d3_trabalhado['nursery'] = np.where(d3_trabalhado['nursery'] == 'yes', 1, 0)\n",
    "d3_trabalhado['internet'] = np.where(d3_trabalhado['internet'] == 'yes', 1, 0)"
   ]
  },
  {
   "cell_type": "code",
   "execution_count": 43,
   "id": "5b0f57ce-5acb-420e-bf72-f6715e435cd5",
   "metadata": {},
   "outputs": [],
   "source": [
    "d3_trabalhado['schoolsup_x'] = np.where(d3_trabalhado['schoolsup_x'] == 'yes', 1, 0)\n",
    "d3_trabalhado['schoolsup_y'] = np.where(d3_trabalhado['schoolsup_y'] == 'yes', 1, 0)\n",
    "\n",
    "d3_trabalhado['famsup_x'] = np.where(d3_trabalhado['famsup_x'] == 'yes', 1, 0)\n",
    "d3_trabalhado['famsup_y'] = np.where(d3_trabalhado['famsup_y'] == 'yes', 1, 0)\n",
    "\n",
    "d3_trabalhado['paid_x'] = np.where(d3_trabalhado['paid_x'] == 'yes', 1, 0)\n",
    "d3_trabalhado['paid_y'] = np.where(d3_trabalhado['paid_y'] == 'yes', 1, 0)\n",
    "\n",
    "d3_trabalhado['activities_x'] = np.where(d3_trabalhado['activities_x'] == 'yes', 1, 0)\n",
    "d3_trabalhado['activities_y'] = np.where(d3_trabalhado['activities_y'] == 'yes', 1, 0)\n",
    "\n",
    "d3_trabalhado['higher_x'] = np.where(d3_trabalhado['higher_x'] == 'yes', 1, 0)\n",
    "d3_trabalhado['higher_y'] = np.where(d3_trabalhado['higher_y'] == 'yes', 1, 0)\n",
    "\n",
    "d3_trabalhado['romantic_x'] = np.where(d3_trabalhado['romantic_x'] == 'yes', 1, 0)\n",
    "d3_trabalhado['romantic_y'] = np.where(d3_trabalhado['romantic_y'] == 'yes', 1, 0)"
   ]
  },
  {
   "cell_type": "code",
   "execution_count": 44,
   "id": "0187b102-baaa-4500-9813-5d89c4f726d2",
   "metadata": {},
   "outputs": [],
   "source": [
    "d3_trabalhado = pd.get_dummies(d3_trabalhado, columns=['Mjob', 'Fjob', 'reason'], prefix=['Mjob', 'Fjob', 'reason'])"
   ]
  },
  {
   "cell_type": "code",
   "execution_count": 45,
   "id": "726cd869-472e-4b39-b921-59766a015b09",
   "metadata": {},
   "outputs": [],
   "source": [
    "d3_trabalhado = pd.get_dummies(d3_trabalhado, columns=['guardian_x', 'guardian_y'], prefix=['guardian_x','guardian_y'])"
   ]
  },
  {
   "cell_type": "code",
   "execution_count": 46,
   "id": "dfdec43b-ed25-4205-8c09-ca878326d361",
   "metadata": {},
   "outputs": [],
   "source": [
    "d3_trabalhado = d3_trabalhado.drop(columns=['school'])"
   ]
  },
  {
   "cell_type": "code",
   "execution_count": 47,
   "id": "60e7400f-b5af-49d1-b5ac-2b7eae4ff939",
   "metadata": {},
   "outputs": [],
   "source": [
    "d3_trabalhado = d3_trabalhado.astype(int)"
   ]
  },
  {
   "cell_type": "code",
   "execution_count": 48,
   "id": "7c33d11f-e4b5-49fc-ab09-d76fb34d2bf5",
   "metadata": {},
   "outputs": [
    {
     "data": {
      "text/plain": [
       "int32    67\n",
       "Name: count, dtype: int64"
      ]
     },
     "execution_count": 48,
     "metadata": {},
     "output_type": "execute_result"
    }
   ],
   "source": [
    "d3_trabalhado.dtypes.value_counts()"
   ]
  },
  {
   "cell_type": "code",
   "execution_count": 49,
   "id": "e014950d-6ea5-418b-9bbf-4bf565b3aa26",
   "metadata": {},
   "outputs": [],
   "source": [
    "# Salvando d3_trabalhado\n",
    "d3_trabalhado.to_csv('d3_trabalhado.csv', index=False)"
   ]
  }
 ],
 "metadata": {
  "kernelspec": {
   "display_name": "Python 3 (ipykernel)",
   "language": "python",
   "name": "python3"
  },
  "language_info": {
   "codemirror_mode": {
    "name": "ipython",
    "version": 3
   },
   "file_extension": ".py",
   "mimetype": "text/x-python",
   "name": "python",
   "nbconvert_exporter": "python",
   "pygments_lexer": "ipython3",
   "version": "3.9.13"
  }
 },
 "nbformat": 4,
 "nbformat_minor": 5
}
