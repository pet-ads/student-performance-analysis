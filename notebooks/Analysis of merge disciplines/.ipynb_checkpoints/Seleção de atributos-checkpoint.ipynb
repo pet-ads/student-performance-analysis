{
 "cells": [
  {
   "cell_type": "code",
   "execution_count": 27,
   "id": "df21df6e-22f7-429e-b09c-2d17f6987d51",
   "metadata": {},
   "outputs": [],
   "source": [
    "import pandas as pd\n",
    "import numpy as np\n",
    "import matplotlib.pyplot as plt\n",
    "import seaborn as sns\n",
    "\n",
    "d3_trabalhado = pd.read_csv(\"d3_trabalhado.csv\", sep=\",\")"
   ]
  },
  {
   "cell_type": "code",
   "execution_count": 28,
   "id": "d0327182-9e04-47d2-86e0-fede45044887",
   "metadata": {},
   "outputs": [
    {
     "data": {
      "text/plain": [
       "0    67\n",
       "Name: count, dtype: int64"
      ]
     },
     "execution_count": 28,
     "metadata": {},
     "output_type": "execute_result"
    }
   ],
   "source": [
    "d3_trabalhado.isna().sum().value_counts()"
   ]
  },
  {
   "cell_type": "markdown",
   "id": "4b070a22-9282-409e-92f9-e7d106c60bc2",
   "metadata": {},
   "source": [
    "# Math"
   ]
  },
  {
   "cell_type": "markdown",
   "id": "b9577abf-964e-49af-9429-99aefecd973d",
   "metadata": {},
   "source": [
    "## Seleção de Features com target de regressão"
   ]
  },
  {
   "cell_type": "code",
   "execution_count": 16,
   "id": "4cecb33e-f738-4a3d-a5cc-dbe6794bd28a",
   "metadata": {},
   "outputs": [],
   "source": [
    "X = d3_trabalhado.drop(['G3_x'], axis=1)\n",
    "y = d3_trabalhado['G3_x']"
   ]
  },
  {
   "cell_type": "code",
   "execution_count": 17,
   "id": "a8613b2a-e45c-4bb5-ad8e-4247e1d90f5e",
   "metadata": {},
   "outputs": [],
   "source": [
    "from sklearn.feature_selection import SelectKBest\n",
    "from sklearn.feature_selection import f_regression\n",
    "\n",
    "f_regression = SelectKBest(score_func=f_regression, k=8)"
   ]
  },
  {
   "cell_type": "code",
   "execution_count": 18,
   "id": "196448ed-ffcc-4356-bf12-9296db83f445",
   "metadata": {},
   "outputs": [
    {
     "name": "stderr",
     "output_type": "stream",
     "text": [
      "C:\\Users\\Bianca\\anaconda3\\lib\\site-packages\\sklearn\\feature_selection\\_univariate_selection.py:289: RuntimeWarning: invalid value encountered in divide\n",
      "  correlation_coefficient /= X_norms\n"
     ]
    }
   ],
   "source": [
    "fit = f_regression.fit(X, y)"
   ]
  }
 ],
 "metadata": {
  "kernelspec": {
   "display_name": "Python 3 (ipykernel)",
   "language": "python",
   "name": "python3"
  },
  "language_info": {
   "codemirror_mode": {
    "name": "ipython",
    "version": 3
   },
   "file_extension": ".py",
   "mimetype": "text/x-python",
   "name": "python",
   "nbconvert_exporter": "python",
   "pygments_lexer": "ipython3",
   "version": "3.9.13"
  }
 },
 "nbformat": 4,
 "nbformat_minor": 5
}
