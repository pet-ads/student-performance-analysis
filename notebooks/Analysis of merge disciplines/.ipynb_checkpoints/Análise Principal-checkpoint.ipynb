{
 "cells": [
  {
   "cell_type": "markdown",
   "id": "d155c1e3-ca0f-4f36-a798-e07b04a143eb",
   "metadata": {},
   "source": [
    "# Análise Principal \n",
    "- Dropout\n",
    "- Avaliação Acadêmica"
   ]
  },
  {
   "cell_type": "code",
   "execution_count": 15,
   "id": "0c3daf66-b468-4207-a414-cdcfc1044150",
   "metadata": {},
   "outputs": [
    {
     "name": "stdout",
     "output_type": "stream",
     "text": [
      "382\n"
     ]
    }
   ],
   "source": [
    "import pandas as pd\n",
    "import numpy as np\n",
    "import matplotlib.pyplot as plt\n",
    "import seaborn as sns\n",
    "\n",
    "d1 = pd.read_csv(\"/Ciência de Dados Geral/Performance de Estudantes/student-performance-analysis/data/student-mat.csv\", sep=\";\")\n",
    "d2 = pd.read_csv(\"/Ciência de Dados Geral/Performance de Estudantes/student-performance-analysis/data/student-por.csv\", sep=\";\")\n",
    "\n",
    "d3 = pd.merge(d1, d2, on=[\"school\", \"sex\", \"age\", \"address\", \"famsize\", \"Pstatus\",\n",
    "                          \"Medu\", \"Fedu\", \"Mjob\", \"Fjob\", \"reason\", \"nursery\", \"internet\"])\n",
    "\n",
    "print(len(d3))"
   ]
  },
  {
   "cell_type": "code",
   "execution_count": 19,
   "id": "8a5a3b05-915c-4976-9c70-a4c954007565",
   "metadata": {},
   "outputs": [
    {
     "data": {
      "text/plain": [
       "Index(['school', 'sex', 'age', 'address', 'famsize', 'Pstatus', 'Medu', 'Fedu',\n",
       "       'Mjob', 'Fjob', 'reason', 'guardian_x', 'traveltime_x', 'studytime_x',\n",
       "       'failures_x', 'schoolsup_x', 'famsup_x', 'paid_x', 'activities_x',\n",
       "       'nursery', 'higher_x', 'internet', 'romantic_x', 'famrel_x',\n",
       "       'freetime_x', 'goout_x', 'Dalc_x', 'Walc_x', 'health_x', 'absences_x',\n",
       "       'G1_x', 'G2_x', 'G3_x', 'guardian_y', 'traveltime_y', 'studytime_y',\n",
       "       'failures_y', 'schoolsup_y', 'famsup_y', 'paid_y', 'activities_y',\n",
       "       'higher_y', 'romantic_y', 'famrel_y', 'freetime_y', 'goout_y', 'Dalc_y',\n",
       "       'Walc_y', 'health_y', 'absences_y', 'G1_y', 'G2_y', 'G3_y', 'dropout_x',\n",
       "       'dropout_y'],\n",
       "      dtype='object')"
      ]
     },
     "execution_count": 19,
     "metadata": {},
     "output_type": "execute_result"
    }
   ],
   "source": [
    "d3.columns"
   ]
  },
  {
   "cell_type": "markdown",
   "id": "3c58bc41-32e9-4ff1-a5b9-03b65eb4288f",
   "metadata": {
    "jp-MarkdownHeadingCollapsed": true
   },
   "source": [
    "## Dropout"
   ]
  },
  {
   "cell_type": "code",
   "execution_count": 15,
   "id": "98315e7a-9e99-4531-82c4-70efb0021631",
   "metadata": {},
   "outputs": [
    {
     "data": {
      "text/html": [
       "<div>\n",
       "<style scoped>\n",
       "    .dataframe tbody tr th:only-of-type {\n",
       "        vertical-align: middle;\n",
       "    }\n",
       "\n",
       "    .dataframe tbody tr th {\n",
       "        vertical-align: top;\n",
       "    }\n",
       "\n",
       "    .dataframe thead th {\n",
       "        text-align: right;\n",
       "    }\n",
       "</style>\n",
       "<table border=\"1\" class=\"dataframe\">\n",
       "  <thead>\n",
       "    <tr style=\"text-align: right;\">\n",
       "      <th></th>\n",
       "      <th>school</th>\n",
       "      <th>sex</th>\n",
       "      <th>age</th>\n",
       "      <th>address</th>\n",
       "      <th>famsize</th>\n",
       "      <th>Pstatus</th>\n",
       "      <th>Medu</th>\n",
       "      <th>Fedu</th>\n",
       "      <th>Mjob</th>\n",
       "      <th>Fjob</th>\n",
       "      <th>...</th>\n",
       "      <th>freetime_y</th>\n",
       "      <th>goout_y</th>\n",
       "      <th>Dalc_y</th>\n",
       "      <th>Walc_y</th>\n",
       "      <th>health_y</th>\n",
       "      <th>absences_y</th>\n",
       "      <th>G1_y</th>\n",
       "      <th>G2_y</th>\n",
       "      <th>G3_y</th>\n",
       "      <th>dropout_x</th>\n",
       "    </tr>\n",
       "  </thead>\n",
       "  <tbody>\n",
       "    <tr>\n",
       "      <th>0</th>\n",
       "      <td>GP</td>\n",
       "      <td>F</td>\n",
       "      <td>18</td>\n",
       "      <td>U</td>\n",
       "      <td>GT3</td>\n",
       "      <td>A</td>\n",
       "      <td>4</td>\n",
       "      <td>4</td>\n",
       "      <td>at_home</td>\n",
       "      <td>teacher</td>\n",
       "      <td>...</td>\n",
       "      <td>3</td>\n",
       "      <td>4</td>\n",
       "      <td>1</td>\n",
       "      <td>1</td>\n",
       "      <td>3</td>\n",
       "      <td>4</td>\n",
       "      <td>0</td>\n",
       "      <td>11</td>\n",
       "      <td>11</td>\n",
       "      <td>0</td>\n",
       "    </tr>\n",
       "    <tr>\n",
       "      <th>1</th>\n",
       "      <td>GP</td>\n",
       "      <td>F</td>\n",
       "      <td>17</td>\n",
       "      <td>U</td>\n",
       "      <td>GT3</td>\n",
       "      <td>T</td>\n",
       "      <td>1</td>\n",
       "      <td>1</td>\n",
       "      <td>at_home</td>\n",
       "      <td>other</td>\n",
       "      <td>...</td>\n",
       "      <td>3</td>\n",
       "      <td>3</td>\n",
       "      <td>1</td>\n",
       "      <td>1</td>\n",
       "      <td>3</td>\n",
       "      <td>2</td>\n",
       "      <td>9</td>\n",
       "      <td>11</td>\n",
       "      <td>11</td>\n",
       "      <td>0</td>\n",
       "    </tr>\n",
       "    <tr>\n",
       "      <th>2</th>\n",
       "      <td>GP</td>\n",
       "      <td>F</td>\n",
       "      <td>15</td>\n",
       "      <td>U</td>\n",
       "      <td>LE3</td>\n",
       "      <td>T</td>\n",
       "      <td>1</td>\n",
       "      <td>1</td>\n",
       "      <td>at_home</td>\n",
       "      <td>other</td>\n",
       "      <td>...</td>\n",
       "      <td>3</td>\n",
       "      <td>2</td>\n",
       "      <td>2</td>\n",
       "      <td>3</td>\n",
       "      <td>3</td>\n",
       "      <td>6</td>\n",
       "      <td>12</td>\n",
       "      <td>13</td>\n",
       "      <td>12</td>\n",
       "      <td>0</td>\n",
       "    </tr>\n",
       "    <tr>\n",
       "      <th>3</th>\n",
       "      <td>GP</td>\n",
       "      <td>F</td>\n",
       "      <td>15</td>\n",
       "      <td>U</td>\n",
       "      <td>GT3</td>\n",
       "      <td>T</td>\n",
       "      <td>4</td>\n",
       "      <td>2</td>\n",
       "      <td>health</td>\n",
       "      <td>services</td>\n",
       "      <td>...</td>\n",
       "      <td>2</td>\n",
       "      <td>2</td>\n",
       "      <td>1</td>\n",
       "      <td>1</td>\n",
       "      <td>5</td>\n",
       "      <td>0</td>\n",
       "      <td>14</td>\n",
       "      <td>14</td>\n",
       "      <td>14</td>\n",
       "      <td>0</td>\n",
       "    </tr>\n",
       "    <tr>\n",
       "      <th>4</th>\n",
       "      <td>GP</td>\n",
       "      <td>F</td>\n",
       "      <td>16</td>\n",
       "      <td>U</td>\n",
       "      <td>GT3</td>\n",
       "      <td>T</td>\n",
       "      <td>3</td>\n",
       "      <td>3</td>\n",
       "      <td>other</td>\n",
       "      <td>other</td>\n",
       "      <td>...</td>\n",
       "      <td>3</td>\n",
       "      <td>2</td>\n",
       "      <td>1</td>\n",
       "      <td>2</td>\n",
       "      <td>5</td>\n",
       "      <td>0</td>\n",
       "      <td>11</td>\n",
       "      <td>13</td>\n",
       "      <td>13</td>\n",
       "      <td>0</td>\n",
       "    </tr>\n",
       "  </tbody>\n",
       "</table>\n",
       "<p>5 rows × 54 columns</p>\n",
       "</div>"
      ],
      "text/plain": [
       "  school sex  age address famsize Pstatus  Medu  Fedu     Mjob      Fjob  ...  \\\n",
       "0     GP   F   18       U     GT3       A     4     4  at_home   teacher  ...   \n",
       "1     GP   F   17       U     GT3       T     1     1  at_home     other  ...   \n",
       "2     GP   F   15       U     LE3       T     1     1  at_home     other  ...   \n",
       "3     GP   F   15       U     GT3       T     4     2   health  services  ...   \n",
       "4     GP   F   16       U     GT3       T     3     3    other     other  ...   \n",
       "\n",
       "  freetime_y goout_y  Dalc_y  Walc_y  health_y absences_y G1_y G2_y G3_y  \\\n",
       "0          3       4       1       1         3          4    0   11   11   \n",
       "1          3       3       1       1         3          2    9   11   11   \n",
       "2          3       2       2       3         3          6   12   13   12   \n",
       "3          2       2       1       1         5          0   14   14   14   \n",
       "4          3       2       1       2         5          0   11   13   13   \n",
       "\n",
       "  dropout_x  \n",
       "0         0  \n",
       "1         0  \n",
       "2         0  \n",
       "3         0  \n",
       "4         0  \n",
       "\n",
       "[5 rows x 54 columns]"
      ]
     },
     "execution_count": 15,
     "metadata": {},
     "output_type": "execute_result"
    }
   ],
   "source": [
    "d3['dropout_x'] = ((d3['G3_x'] == 0) & (d3['absences_x'] == 0)).astype(int)\n",
    "d3.head()"
   ]
  },
  {
   "cell_type": "code",
   "execution_count": 16,
   "id": "2debdbd5-69f4-4c5e-8040-37a8f26ff5ca",
   "metadata": {},
   "outputs": [
    {
     "data": {
      "text/html": [
       "<div>\n",
       "<style scoped>\n",
       "    .dataframe tbody tr th:only-of-type {\n",
       "        vertical-align: middle;\n",
       "    }\n",
       "\n",
       "    .dataframe tbody tr th {\n",
       "        vertical-align: top;\n",
       "    }\n",
       "\n",
       "    .dataframe thead th {\n",
       "        text-align: right;\n",
       "    }\n",
       "</style>\n",
       "<table border=\"1\" class=\"dataframe\">\n",
       "  <thead>\n",
       "    <tr style=\"text-align: right;\">\n",
       "      <th></th>\n",
       "      <th>school</th>\n",
       "      <th>sex</th>\n",
       "      <th>age</th>\n",
       "      <th>address</th>\n",
       "      <th>famsize</th>\n",
       "      <th>Pstatus</th>\n",
       "      <th>Medu</th>\n",
       "      <th>Fedu</th>\n",
       "      <th>Mjob</th>\n",
       "      <th>Fjob</th>\n",
       "      <th>...</th>\n",
       "      <th>goout_y</th>\n",
       "      <th>Dalc_y</th>\n",
       "      <th>Walc_y</th>\n",
       "      <th>health_y</th>\n",
       "      <th>absences_y</th>\n",
       "      <th>G1_y</th>\n",
       "      <th>G2_y</th>\n",
       "      <th>G3_y</th>\n",
       "      <th>dropout_x</th>\n",
       "      <th>dropout_y</th>\n",
       "    </tr>\n",
       "  </thead>\n",
       "  <tbody>\n",
       "    <tr>\n",
       "      <th>0</th>\n",
       "      <td>GP</td>\n",
       "      <td>F</td>\n",
       "      <td>18</td>\n",
       "      <td>U</td>\n",
       "      <td>GT3</td>\n",
       "      <td>A</td>\n",
       "      <td>4</td>\n",
       "      <td>4</td>\n",
       "      <td>at_home</td>\n",
       "      <td>teacher</td>\n",
       "      <td>...</td>\n",
       "      <td>4</td>\n",
       "      <td>1</td>\n",
       "      <td>1</td>\n",
       "      <td>3</td>\n",
       "      <td>4</td>\n",
       "      <td>0</td>\n",
       "      <td>11</td>\n",
       "      <td>11</td>\n",
       "      <td>0</td>\n",
       "      <td>0</td>\n",
       "    </tr>\n",
       "    <tr>\n",
       "      <th>1</th>\n",
       "      <td>GP</td>\n",
       "      <td>F</td>\n",
       "      <td>17</td>\n",
       "      <td>U</td>\n",
       "      <td>GT3</td>\n",
       "      <td>T</td>\n",
       "      <td>1</td>\n",
       "      <td>1</td>\n",
       "      <td>at_home</td>\n",
       "      <td>other</td>\n",
       "      <td>...</td>\n",
       "      <td>3</td>\n",
       "      <td>1</td>\n",
       "      <td>1</td>\n",
       "      <td>3</td>\n",
       "      <td>2</td>\n",
       "      <td>9</td>\n",
       "      <td>11</td>\n",
       "      <td>11</td>\n",
       "      <td>0</td>\n",
       "      <td>0</td>\n",
       "    </tr>\n",
       "    <tr>\n",
       "      <th>2</th>\n",
       "      <td>GP</td>\n",
       "      <td>F</td>\n",
       "      <td>15</td>\n",
       "      <td>U</td>\n",
       "      <td>LE3</td>\n",
       "      <td>T</td>\n",
       "      <td>1</td>\n",
       "      <td>1</td>\n",
       "      <td>at_home</td>\n",
       "      <td>other</td>\n",
       "      <td>...</td>\n",
       "      <td>2</td>\n",
       "      <td>2</td>\n",
       "      <td>3</td>\n",
       "      <td>3</td>\n",
       "      <td>6</td>\n",
       "      <td>12</td>\n",
       "      <td>13</td>\n",
       "      <td>12</td>\n",
       "      <td>0</td>\n",
       "      <td>0</td>\n",
       "    </tr>\n",
       "    <tr>\n",
       "      <th>3</th>\n",
       "      <td>GP</td>\n",
       "      <td>F</td>\n",
       "      <td>15</td>\n",
       "      <td>U</td>\n",
       "      <td>GT3</td>\n",
       "      <td>T</td>\n",
       "      <td>4</td>\n",
       "      <td>2</td>\n",
       "      <td>health</td>\n",
       "      <td>services</td>\n",
       "      <td>...</td>\n",
       "      <td>2</td>\n",
       "      <td>1</td>\n",
       "      <td>1</td>\n",
       "      <td>5</td>\n",
       "      <td>0</td>\n",
       "      <td>14</td>\n",
       "      <td>14</td>\n",
       "      <td>14</td>\n",
       "      <td>0</td>\n",
       "      <td>0</td>\n",
       "    </tr>\n",
       "    <tr>\n",
       "      <th>4</th>\n",
       "      <td>GP</td>\n",
       "      <td>F</td>\n",
       "      <td>16</td>\n",
       "      <td>U</td>\n",
       "      <td>GT3</td>\n",
       "      <td>T</td>\n",
       "      <td>3</td>\n",
       "      <td>3</td>\n",
       "      <td>other</td>\n",
       "      <td>other</td>\n",
       "      <td>...</td>\n",
       "      <td>2</td>\n",
       "      <td>1</td>\n",
       "      <td>2</td>\n",
       "      <td>5</td>\n",
       "      <td>0</td>\n",
       "      <td>11</td>\n",
       "      <td>13</td>\n",
       "      <td>13</td>\n",
       "      <td>0</td>\n",
       "      <td>0</td>\n",
       "    </tr>\n",
       "  </tbody>\n",
       "</table>\n",
       "<p>5 rows × 55 columns</p>\n",
       "</div>"
      ],
      "text/plain": [
       "  school sex  age address famsize Pstatus  Medu  Fedu     Mjob      Fjob  ...  \\\n",
       "0     GP   F   18       U     GT3       A     4     4  at_home   teacher  ...   \n",
       "1     GP   F   17       U     GT3       T     1     1  at_home     other  ...   \n",
       "2     GP   F   15       U     LE3       T     1     1  at_home     other  ...   \n",
       "3     GP   F   15       U     GT3       T     4     2   health  services  ...   \n",
       "4     GP   F   16       U     GT3       T     3     3    other     other  ...   \n",
       "\n",
       "  goout_y Dalc_y  Walc_y  health_y  absences_y G1_y G2_y G3_y dropout_x  \\\n",
       "0       4      1       1         3           4    0   11   11         0   \n",
       "1       3      1       1         3           2    9   11   11         0   \n",
       "2       2      2       3         3           6   12   13   12         0   \n",
       "3       2      1       1         5           0   14   14   14         0   \n",
       "4       2      1       2         5           0   11   13   13         0   \n",
       "\n",
       "  dropout_y  \n",
       "0         0  \n",
       "1         0  \n",
       "2         0  \n",
       "3         0  \n",
       "4         0  \n",
       "\n",
       "[5 rows x 55 columns]"
      ]
     },
     "execution_count": 16,
     "metadata": {},
     "output_type": "execute_result"
    }
   ],
   "source": [
    "d3['dropout_y'] = ((d3['G3_y'] == 0) & (d3['absences_y'] == 0)).astype(int)\n",
    "d3.head()"
   ]
  },
  {
   "cell_type": "markdown",
   "id": "cafb94e4-0bc2-4bd5-89e8-c68e74527578",
   "metadata": {},
   "source": [
    "## Alunos que passaram ou não:\n"
   ]
  },
  {
   "cell_type": "code",
   "execution_count": 2,
   "id": "d9f4c08f-2cc7-42ee-88fb-a931cc9edcd2",
   "metadata": {},
   "outputs": [],
   "source": [
    "# Transformando o target G3 em atributo categórico\n",
    "# Definindo os limites para cada faixa\n",
    "limite_insuficiente = 9\n",
    "limite_regular = 14\n",
    "limite_excelente = 20\n",
    "\n",
    "def transform_note(valor):\n",
    "    if valor <= limite_insuficiente:\n",
    "        return 'insuficiente'\n",
    "    elif valor <= limite_regular:\n",
    "        return 'regular'\n",
    "    elif valor <= limite_excelente:\n",
    "        return 'excelente'"
   ]
  },
  {
   "cell_type": "code",
   "execution_count": 3,
   "id": "c092320c-8ea5-4558-94d5-eaa0f7ff1789",
   "metadata": {},
   "outputs": [],
   "source": [
    "# Aplicando a função para transformar a coluna G3\n",
    "d3['G3_transform_x'] = d3['G3_x'].apply(transform_note)\n",
    "d3['G2_transform_x'] = d3['G2_x'].apply(transform_note)\n",
    "d3['G1_transform_x'] = d3['G1_x'].apply(transform_note)"
   ]
  },
  {
   "cell_type": "code",
   "execution_count": 4,
   "id": "159908df-e324-4b28-adae-99e75fdfe554",
   "metadata": {},
   "outputs": [
    {
     "data": {
      "text/plain": [
       "0      insuficiente\n",
       "1      insuficiente\n",
       "2           regular\n",
       "3         excelente\n",
       "4           regular\n",
       "           ...     \n",
       "377    insuficiente\n",
       "378    insuficiente\n",
       "379    insuficiente\n",
       "380       excelente\n",
       "381         regular\n",
       "Name: G3_transform_x, Length: 382, dtype: object"
      ]
     },
     "execution_count": 4,
     "metadata": {},
     "output_type": "execute_result"
    }
   ],
   "source": [
    "d3['G3_transform_x']"
   ]
  },
  {
   "cell_type": "code",
   "execution_count": 5,
   "id": "0b7dddcb-7ad4-4f5d-a549-5b10e435f4b2",
   "metadata": {},
   "outputs": [],
   "source": [
    "d3['G3_transform_y'] = d3['G3_y'].apply(transform_note)\n",
    "d3['G2_transform_y'] = d3['G2_y'].apply(transform_note)\n",
    "d3['G1_transform_y'] = d3['G1_y'].apply(transform_note)"
   ]
  },
  {
   "cell_type": "code",
   "execution_count": 6,
   "id": "00b67119-3d50-448c-ad38-97febd7269a7",
   "metadata": {},
   "outputs": [
    {
     "data": {
      "text/plain": [
       "0           regular\n",
       "1           regular\n",
       "2           regular\n",
       "3           regular\n",
       "4           regular\n",
       "           ...     \n",
       "377       excelente\n",
       "378    insuficiente\n",
       "379    insuficiente\n",
       "380         regular\n",
       "381         regular\n",
       "Name: G3_transform_y, Length: 382, dtype: object"
      ]
     },
     "execution_count": 6,
     "metadata": {},
     "output_type": "execute_result"
    }
   ],
   "source": [
    "d3['G3_transform_y']"
   ]
  },
  {
   "cell_type": "code",
   "execution_count": 8,
   "id": "b8883dee-af47-4d73-9bd6-0f7552794911",
   "metadata": {},
   "outputs": [
    {
     "name": "stdout",
     "output_type": "stream",
     "text": [
      "G3_transform_x\n",
      "excelente        74\n",
      "insuficiente    127\n",
      "regular         181\n",
      "dtype: int64\n"
     ]
    }
   ],
   "source": [
    "grouped = d3.groupby(['G3_transform_x']).size()\n",
    "print(grouped)"
   ]
  },
  {
   "cell_type": "code",
   "execution_count": 13,
   "id": "710a8a87-ca65-4145-9145-06bc12821456",
   "metadata": {},
   "outputs": [
    {
     "data": {
      "text/plain": [
       "Text(0, 0.5, 'Contagem de alunos')"
      ]
     },
     "execution_count": 13,
     "metadata": {},
     "output_type": "execute_result"
    },
    {
     "data": {
      "image/png": "[encoded data removed]",
      "text/plain": [
       "<Figure size 640x480 with 1 Axes>"
      ]
     },
     "metadata": {},
     "output_type": "display_data"
    }
   ],
   "source": [
    "d3.G3_transform_x.value_counts().plot(kind='bar', title='Divisão das notas por limite em G3 em Matemática',color = ['#219ebc', '#023047']);\n",
    "plt.xlabel('Desempenho')\n",
    "plt.ylabel('Contagem de alunos')"
   ]
  },
  {
   "cell_type": "code",
   "execution_count": 14,
   "id": "20a5c2ea-8d6f-4539-8f3d-8608d702f826",
   "metadata": {},
   "outputs": [
    {
     "data": {
      "text/plain": [
       "Text(0, 0.5, 'Contagem de alunos')"
      ]
     },
     "execution_count": 14,
     "metadata": {},
     "output_type": "execute_result"
    },
    {
     "data": {
      "image/png": "[encoded data removed]",
      "text/plain": [
       "<Figure size 640x480 with 1 Axes>"
      ]
     },
     "metadata": {},
     "output_type": "display_data"
    }
   ],
   "source": [
    "d3.G3_transform_y.value_counts().plot(kind='bar', title='Divisão das notas por limite em G3 em Português',color = ['#219ebc', '#023047']);\n",
    "plt.xlabel('Desempenho')\n",
    "plt.ylabel('Contagem de alunos')"
   ]
  }
 ],
 "metadata": {
  "kernelspec": {
   "display_name": "Python 3 (ipykernel)",
   "language": "python",
   "name": "python3"
  },
  "language_info": {
   "codemirror_mode": {
    "name": "ipython",
    "version": 3
   },
   "file_extension": ".py",
   "mimetype": "text/x-python",
   "name": "python",
   "nbconvert_exporter": "python",
   "pygments_lexer": "ipython3",
   "version": "3.9.13"
  }
 },
 "nbformat": 4,
 "nbformat_minor": 5
}
