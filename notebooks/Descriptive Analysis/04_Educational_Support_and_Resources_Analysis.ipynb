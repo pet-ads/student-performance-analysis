{
 "cells": [
  {
   "cell_type": "markdown",
   "id": "6fed7e5a-7363-43a5-89fd-ce0d29b7cd56",
   "metadata": {},
   "source": [
    "# Análise Bivariada e Multivariada das features de suporte educacional e acesso a recursos\n",
    "Estas features focam no acesso a recursos e suporte educacional para os estudantes. \n",
    "Features escolhidas:<br>\n",
    "- reason: Razão para escolher a escola.<br>\n",
    "- traveltime: Tempo de deslocamento entre casa e escola.<br>\n",
    "- studytime: Tempo de estudo semanal fora da escola.<br>\n",
    "- schoolsup: Suporte educacional adicional na escola.<br>\n",
    "- famsup: Suporte educacional adicional da família.<br>\n",
    "- paid: Aulas extras pagas fora da escola.<br>\n",
    "- nursery: Frequência à educação infantil (creche).<br>\n",
    "- higher: Aspiração a cursar o ensino superior.<br>\n",
    "- internet: Acesso à internet em casa.<br>"
   ]
  },
  {
   "cell_type": "code",
   "execution_count": 2,
   "id": "edfddaff-9b73-48c5-b936-aff75a769460",
   "metadata": {},
   "outputs": [],
   "source": [
    "import pandas as pd\n",
    "import numpy as np\n",
    "import matplotlib.pyplot as plt\n",
    "import seaborn as sns\n",
    "\n",
    "d1_trabalhado = pd.read_csv(\"d1_trabalhado.csv\", sep=\",\")"
   ]
  },
  {
   "cell_type": "code",
   "execution_count": 5,
   "id": "f6c990fa-be91-4099-9f0d-61c168b14472",
   "metadata": {},
   "outputs": [],
   "source": [
    "features_sup_rec =  [\n",
    "    'reason_course', 'reason_home', 'reason_other', 'reason_reputation',\n",
    "    'traveltime', 'studytime', 'schoolsup', 'famsup',\n",
    "    'paid', 'nursery', 'higher', 'internet'\n",
    "]\n",
    "\n",
    "d1_features_sup_rec = features_sup_rec + ['G1', 'G2', 'G3']"
   ]
  },
  {
   "cell_type": "markdown",
   "id": "328f9806-b1ef-4826-ab8c-a734ea3b54f3",
   "metadata": {},
   "source": [
    "## Analisando G3"
   ]
  },
  {
   "cell_type": "code",
   "execution_count": 6,
   "id": "d313e851-3977-42f7-ac0d-fb1d9a2facd0",
   "metadata": {},
   "outputs": [
    {
     "name": "stdout",
     "output_type": "stream",
     "text": [
      "G3                   1.000000\n",
      "G2                   0.904868\n",
      "G1                   0.801468\n",
      "higher               0.182465\n",
      "paid                 0.101996\n",
      "internet             0.098483\n",
      "studytime            0.097820\n",
      "reason_reputation    0.095692\n",
      "reason_other         0.052008\n",
      "nursery              0.051568\n",
      "reason_home         -0.021359\n",
      "famsup              -0.039157\n",
      "schoolsup           -0.082788\n",
      "reason_course       -0.098950\n",
      "traveltime          -0.117142\n",
      "Name: G3, dtype: float64\n"
     ]
    }
   ],
   "source": [
    "# usando correlação de Pearson\n",
    "correlation_matrix_pearson = d1_trabalhado[d1_features_sup_rec].corr()\n",
    "correlation_with_g3 = correlation_matrix_pearson['G3'].sort_values(ascending=False)\n",
    "\n",
    "print(correlation_with_g3)"
   ]
  },
  {
   "cell_type": "code",
   "execution_count": 7,
   "id": "0451c8a1-1cec-478f-be09-ae0485cc369d",
   "metadata": {},
   "outputs": [
    {
     "name": "stdout",
     "output_type": "stream",
     "text": [
      "G3                   1.000000\n",
      "G2                   0.957125\n",
      "G1                   0.878001\n",
      "higher               0.172418\n",
      "internet             0.107816\n",
      "studytime            0.105170\n",
      "reason_reputation    0.091676\n",
      "paid                 0.060924\n",
      "reason_other         0.035209\n",
      "nursery              0.031752\n",
      "reason_home         -0.019602\n",
      "famsup              -0.050482\n",
      "reason_course       -0.086867\n",
      "traveltime          -0.120530\n",
      "schoolsup           -0.150598\n",
      "Name: G3, dtype: float64\n"
     ]
    }
   ],
   "source": [
    "# usando correlação de Spearman\n",
    "correlation_matrix_spearman = d1_trabalhado[d1_features_sup_rec].corr(method='spearman')\n",
    "correlation_with_g3_spearman = correlation_matrix_spearman['G3'].sort_values(ascending=False)\n",
    "\n",
    "print(correlation_with_g3_spearman)"
   ]
  },
  {
   "cell_type": "markdown",
   "id": "2995091b-62a1-45a0-b38a-f6197e1cd071",
   "metadata": {},
   "source": [
    "> As features que mais aparecem relevantes são: <br>\n",
    "higher (correlação positiva) e schoolsup/traveltime (correlação negativa) <br>\n",
    "Em resumo, a relevância dessas features sugere que: <br>\n",
    "- Aspiração ao Ensino Superior (Higher): Estudantes que desejam continuar seus estudos no ensino superior podem ter um desempenho melhor, pois a aspiração pode estar associada a uma maior motivação e compromisso com os estudos.<br>\n",
    "- Suporte Educacional Adicional (Schoolsup): A correlação negativa com G3 pode sugerir que o suporte adicional é mais necessário para estudantes que estão com dificuldades contínuas ao longo do ano letivo. Em outras palavras, pode haver uma tendência de que estudantes que requerem mais suporte educacional tenham um desempenho mais fraco em G3. Sobre a correlação negativa de traveltime com G3, isso pode indicar que um longo tempo de deslocamento pode impactar negativamente o desempenho acadêmico."
   ]
  },
  {
   "cell_type": "markdown",
   "id": "b5ee83a6-b77f-4e29-bd4d-3fdc22c6e985",
   "metadata": {},
   "source": [
    "## Analisando os subtargets"
   ]
  },
  {
   "cell_type": "markdown",
   "id": "e30412af-1b56-41ca-9282-705d54dbb291",
   "metadata": {},
   "source": [
    "### G1"
   ]
  },
  {
   "cell_type": "code",
   "execution_count": 8,
   "id": "8c3da103-3092-4768-9244-d00fcc21f02e",
   "metadata": {},
   "outputs": [
    {
     "name": "stdout",
     "output_type": "stream",
     "text": [
      "G1                   1.000000\n",
      "G2                   0.852118\n",
      "G3                   0.801468\n",
      "higher               0.178264\n",
      "studytime            0.160612\n",
      "reason_reputation    0.099522\n",
      "internet             0.071619\n",
      "nursery              0.069263\n",
      "paid                 0.039079\n",
      "reason_other        -0.007215\n",
      "reason_home         -0.017198\n",
      "reason_course       -0.070957\n",
      "famsup              -0.084569\n",
      "traveltime          -0.093040\n",
      "schoolsup           -0.212607\n",
      "Name: G1, dtype: float64\n"
     ]
    }
   ],
   "source": [
    "correlation_with_g1 = correlation_matrix_pearson['G1'].sort_values(ascending=False)\n",
    "print(correlation_with_g1)"
   ]
  },
  {
   "cell_type": "code",
   "execution_count": 9,
   "id": "a2c69880-edc5-404c-9680-2beae09a8d88",
   "metadata": {},
   "outputs": [
    {
     "name": "stdout",
     "output_type": "stream",
     "text": [
      "G1                   1.000000\n",
      "G2                   0.894792\n",
      "G3                   0.878001\n",
      "higher               0.181122\n",
      "studytime            0.162286\n",
      "reason_reputation    0.102226\n",
      "internet             0.072060\n",
      "nursery              0.060536\n",
      "paid                 0.047779\n",
      "reason_other        -0.004376\n",
      "reason_home         -0.017154\n",
      "reason_course       -0.075171\n",
      "famsup              -0.078039\n",
      "traveltime          -0.085501\n",
      "schoolsup           -0.216472\n",
      "Name: G1, dtype: float64\n"
     ]
    }
   ],
   "source": [
    "correlation_with_g1_spearman = correlation_matrix_spearman['G1'].sort_values(ascending=False)\n",
    "print(correlation_with_g1_spearman)"
   ]
  },
  {
   "cell_type": "markdown",
   "id": "c5b556c5-0e51-48a7-b06c-0a56fd82d2e4",
   "metadata": {},
   "source": [
    "> Features que sobressaem:\n",
    "- Correlação positiva:\n",
    "higher, studytime\n",
    "- Correlação negativa: \n",
    "schoolsup\n",
    "\n",
    "Estudantes com aspirações mais altas e que dedicam mais tempo ao estudo tendem a ter um desempenho melhor em G1. <br>\n",
    "A necessidade de suporte educacional adicional pode estar mais associada a estudantes com dificuldades contínuas ao longo do ano, refletidas na correlação negativa com G1."
   ]
  },
  {
   "cell_type": "markdown",
   "id": "b4d98c35-a7b8-4b96-93e2-d63368884b6f",
   "metadata": {
    "jp-MarkdownHeadingCollapsed": true
   },
   "source": [
    "### G2"
   ]
  },
  {
   "cell_type": "code",
   "execution_count": 13,
   "id": "09ac9087-c12c-48b6-9182-46db847bf3c4",
   "metadata": {},
   "outputs": [
    {
     "name": "stdout",
     "output_type": "stream",
     "text": [
      "G2                   1.000000\n",
      "G3                   0.904868\n",
      "G1                   0.852118\n",
      "higher               0.179129\n",
      "studytime            0.135880\n",
      "internet             0.119439\n",
      "paid                 0.105198\n",
      "reason_reputation    0.087008\n",
      "nursery              0.068146\n",
      "reason_other         0.042846\n",
      "reason_home          0.004798\n",
      "famsup              -0.059166\n",
      "reason_course       -0.109777\n",
      "schoolsup           -0.117385\n",
      "traveltime          -0.153198\n",
      "Name: G2, dtype: float64\n"
     ]
    }
   ],
   "source": [
    "correlation_with_g2 = correlation_matrix_pearson['G2'].sort_values(ascending=False)\n",
    "print(correlation_with_g2)"
   ]
  },
  {
   "cell_type": "code",
   "execution_count": 14,
   "id": "70e1d85b-4cae-4cbd-8974-f8221fa56ab3",
   "metadata": {},
   "outputs": [
    {
     "name": "stdout",
     "output_type": "stream",
     "text": [
      "G2                   1.000000\n",
      "G3                   0.957125\n",
      "G1                   0.894792\n",
      "higher               0.183466\n",
      "studytime            0.129160\n",
      "internet             0.124884\n",
      "reason_reputation    0.086436\n",
      "paid                 0.079411\n",
      "nursery              0.051898\n",
      "reason_other         0.031755\n",
      "reason_home         -0.002394\n",
      "famsup              -0.056672\n",
      "reason_course       -0.095961\n",
      "traveltime          -0.123795\n",
      "schoolsup           -0.158446\n",
      "Name: G2, dtype: float64\n"
     ]
    }
   ],
   "source": [
    "correlation_with_g2_spearman = correlation_matrix_spearman['G2'].sort_values(ascending=False)\n",
    "print(correlation_with_g2_spearman)"
   ]
  },
  {
   "cell_type": "markdown",
   "id": "c28e1c70-309b-4dc4-9f22-78a16e503d1e",
   "metadata": {},
   "source": [
    "> Features que sobressaem:\n",
    "- Correlação positiva:\n",
    "higher, studytime, internet\n",
    "- Correlação negativa: \n",
    "schoolsup, traveltime\n",
    "\n",
    "As variáveis higher, studytime, e internet mostram correlação positiva com G3, indicando que estudantes que aspiram a cursar o ensino superior, dedicam mais tempo ao estudo e têm acesso à internet em casa tendem a obter melhores notas finais. Em contraste, schoolsup e traveltime apresentam correlação negativa com G3, sugerindo que estudantes que recebem suporte educacional adicional e têm um tempo de deslocamento mais longo para a escola tendem a ter notas finais mais baixas. Isso pode refletir que o suporte adicional é mais necessário para aqueles com dificuldades persistentes e que um longo tempo de deslocamento pode impactar negativamente o desempenho acadêmico."
   ]
  },
  {
   "cell_type": "markdown",
   "id": "61649e7b-8283-4c53-8e49-6f4879ad6142",
   "metadata": {
    "jp-MarkdownHeadingCollapsed": true
   },
   "source": [
    "## Analisando as features relevantes\n",
    "Foram selecionadas as: <br>\n",
    "higher, studytime, internet (corr positiva) <br>\n",
    "schoolsup, traveltime (corr negativa)"
   ]
  },
  {
   "cell_type": "markdown",
   "id": "e6707b4a-9a05-4245-a403-3e0248887764",
   "metadata": {
    "jp-MarkdownHeadingCollapsed": true
   },
   "source": [
    "#### Analisando a feature higher e suas correlações com as outras features."
   ]
  },
  {
   "cell_type": "code",
   "execution_count": 44,
   "id": "2c487864-9a0e-40b0-a64d-1c62e06f2144",
   "metadata": {},
   "outputs": [
    {
     "name": "stdout",
     "output_type": "stream",
     "text": [
      "higher          1.000000\n",
      "paid            0.189214\n",
      "G3              0.182465\n",
      "G2              0.179129\n",
      "G1              0.178264\n",
      "studytime       0.175081\n",
      "Fedu            0.174566\n",
      "Medu            0.168845\n",
      "sex             0.151056\n",
      "reason_other   -0.127472\n",
      "Mjob_at_home   -0.129988\n",
      "age            -0.209081\n",
      "failures       -0.300316\n",
      "Name: higher, dtype: float64\n"
     ]
    }
   ],
   "source": [
    "correlation_pearson_geral = d1_trabalhado.corr()\n",
    "correlation_with_higher = correlation_pearson_geral['higher'].sort_values(ascending=False)\n",
    "\n",
    "# Filtrando correlações positivas maiores que 0.12 e negativas menores que -0.12\n",
    "filtered_correlations = correlation_with_higher[(correlation_with_higher > 0.12) | (correlation_with_higher < -0.12)]\n",
    "\n",
    "print(filtered_correlations)"
   ]
  },
  {
   "cell_type": "code",
   "execution_count": 45,
   "id": "377ea7f4-7c66-4251-807e-d92f2888dd50",
   "metadata": {},
   "outputs": [
    {
     "name": "stdout",
     "output_type": "stream",
     "text": [
      "higher          1.000000\n",
      "paid            0.189214\n",
      "studytime       0.185354\n",
      "G2              0.183466\n",
      "G1              0.181122\n",
      "Fedu            0.176337\n",
      "G3              0.172418\n",
      "Medu            0.163787\n",
      "sex             0.151056\n",
      "reason_other   -0.127472\n",
      "Mjob_at_home   -0.129988\n",
      "age            -0.191907\n",
      "failures       -0.264547\n",
      "Name: higher, dtype: float64\n"
     ]
    }
   ],
   "source": [
    "correlation_spearman_geral = d1_trabalhado.corr(method='spearman')\n",
    "correlation_with_higher = correlation_spearman_geral['higher'].sort_values(ascending=False)\n",
    "\n",
    "# Filtrando correlações positivas maiores que 0.12 e negativas menores que -0.14\n",
    "filtered_correlations = correlation_with_higher[(correlation_with_higher > 0.12) | (correlation_with_higher < -0.12)]\n",
    "\n",
    "print(filtered_correlations)"
   ]
  },
  {
   "cell_type": "markdown",
   "id": "2577b6fb-9b25-48d7-9cb3-2d031fc5ca40",
   "metadata": {},
   "source": [
    "No geral, quanto mais houver uma resposta positiva para 'sim' em higher, mais o estudante paga por aulas extras fora da escola e mais ele estuda em casa. Ter pais que possuem formação mais avançada também indica que o estudante aspira o ensino superior. <BR>\n",
    "Por outro lado, estudante que aspiram o ensino superior tendem a reprovar menos e a serem mais novos. "
   ]
  },
  {
   "cell_type": "markdown",
   "id": "304ea50e-204b-4c14-8c31-7d950321ad06",
   "metadata": {
    "jp-MarkdownHeadingCollapsed": true
   },
   "source": [
    "#### Analisando schoolsup e suas correlações com as outras features."
   ]
  },
  {
   "cell_type": "code",
   "execution_count": 48,
   "id": "b058c88c-e22f-4a8d-83e9-bc479c1cf877",
   "metadata": {},
   "outputs": [
    {
     "name": "stdout",
     "output_type": "stream",
     "text": [
      "schoolsup    1.000000\n",
      "sex          0.138271\n",
      "G1          -0.212607\n",
      "age         -0.251811\n",
      "Name: schoolsup, dtype: float64\n"
     ]
    }
   ],
   "source": [
    "correlation_with_schoolsup = correlation_pearson_geral['schoolsup'].sort_values(ascending=False)\n",
    "\n",
    "# Filtrando correlações positivas maiores que 0.12 e negativas menores que -0.12\n",
    "filtered_correlations = correlation_with_schoolsup[(correlation_with_schoolsup > 0.12) | (correlation_with_schoolsup < -0.12)]\n",
    "\n",
    "print(filtered_correlations)"
   ]
  },
  {
   "cell_type": "code",
   "execution_count": 50,
   "id": "488069db-8bd9-4cc9-a938-23bf58449b44",
   "metadata": {},
   "outputs": [
    {
     "name": "stdout",
     "output_type": "stream",
     "text": [
      "schoolsup    1.000000\n",
      "sex          0.138271\n",
      "G3          -0.150598\n",
      "G2          -0.158446\n",
      "G1          -0.216472\n",
      "age         -0.262746\n",
      "Name: schoolsup, dtype: float64\n"
     ]
    }
   ],
   "source": [
    "correlation_with_schoolsup = correlation_spearman_geral['schoolsup'].sort_values(ascending=False)\n",
    "\n",
    "# Filtrando correlações positivas maiores que 0.12 e negativas menores que -0.12\n",
    "filtered_correlations = correlation_with_schoolsup[(correlation_with_schoolsup > 0.12) | (correlation_with_schoolsup < -0.12)]\n",
    "\n",
    "print(filtered_correlations)"
   ]
  },
  {
   "cell_type": "markdown",
   "id": "cbfc045d-e8ab-4e1f-84fd-02598d6797da",
   "metadata": {},
   "source": [
    "Conclusão:<br>\n",
    "Nada muito esclarecedor, a não ser o desempenho negativo em G1, G2 e G3, reforçando a análise de que quem mais diz sim à schoolsup, mais tende a ir mal nas notas."
   ]
  },
  {
   "cell_type": "markdown",
   "id": "da770835-3fe2-4fdc-8d50-a96d8a8f1d3f",
   "metadata": {
    "jp-MarkdownHeadingCollapsed": true
   },
   "source": [
    "### Explorando visualmente as features relevantes"
   ]
  },
  {
   "cell_type": "code",
   "execution_count": 58,
   "id": "f08220bc-d4b7-497d-a45f-1b3079bc9bc7",
   "metadata": {},
   "outputs": [
    {
     "data": {
      "image/png": "[encoded data removed]",
      "text/plain": [
       "<Figure size 1800x600 with 3 Axes>"
      ]
     },
     "metadata": {},
     "output_type": "display_data"
    }
   ],
   "source": [
    "# Adicionando faixas de notas para facilitar a contagem\n",
    "bins = [0, 5, 10, 15, 20]  \n",
    "labels = ['0-5', '6-10', '11-15', '16-20']\n",
    "d1_trabalhado['G1_bins'] = pd.cut(d1_trabalhado['G1'], bins=bins, labels=labels, right=False)\n",
    "d1_trabalhado['G2_bins'] = pd.cut(d1_trabalhado['G2'], bins=bins, labels=labels, right=False)\n",
    "d1_trabalhado['G3_bins'] = pd.cut(d1_trabalhado['G3'], bins=bins, labels=labels, right=False)\n",
    "\n",
    "plt.figure(figsize=(18, 6))\n",
    "\n",
    "# Gráfico 1: Contagem de alunos por faixas de G1 e schoolsup\n",
    "plt.subplot(1, 3, 1)\n",
    "sns.countplot(data=d1_trabalhado, x='G1_bins', hue='schoolsup', palette='Set2')\n",
    "plt.title('Contagem de Alunos por Faixas de G1 e schoolsup')\n",
    "plt.xlabel('Faixa de Notas G1')\n",
    "plt.ylabel('Contagem')\n",
    "plt.legend(title='schoolsup')\n",
    "\n",
    "# Gráfico 2: Contagem de alunos por faixas de G2 e schoolsup\n",
    "plt.subplot(1, 3, 2)\n",
    "sns.countplot(data=d1_trabalhado, x='G2_bins', hue='schoolsup', palette='Set2')\n",
    "plt.title('Contagem de Alunos por Faixas de G2 e schoolsup')\n",
    "plt.xlabel('Faixa de Notas G2')\n",
    "plt.ylabel('Contagem')\n",
    "plt.legend(title='schoolsup')\n",
    "\n",
    "# Gráfico 3: Contagem de alunos por faixas de G3 e schoolsup\n",
    "plt.subplot(1, 3, 3)\n",
    "sns.countplot(data=d1_trabalhado, x='G3_bins', hue='schoolsup', palette='Set2')\n",
    "plt.title('Contagem de Alunos por Faixas de G3 e schoolsup')\n",
    "plt.xlabel('Faixa de Notas G3')\n",
    "plt.ylabel('Contagem')\n",
    "plt.legend(title='schoolsup')\n",
    "\n",
    "plt.tight_layout()\n",
    "plt.show()"
   ]
  },
  {
   "cell_type": "markdown",
   "id": "e1ec212d-e89d-4946-930e-1dc7d0f41694",
   "metadata": {},
   "source": [
    "- Os gráficos indicam que quem possui rendimento acadêmico entre 16-20 possui pouquíssimos estudantes que disseram 'sim' para schoolsup. Já estudante com notas intermediárias 6-15, estão entre os que mais precisam de suporte educacional extra. "
   ]
  },
  {
   "cell_type": "code",
   "execution_count": 57,
   "id": "7a4adee1-3cff-42b9-83bd-121110a2d242",
   "metadata": {},
   "outputs": [
    {
     "data": {
      "text/plain": [
       "Text(0.5, 1.0, 'Contagem de Alunos por Faixas de G3 e higher')"
      ]
     },
     "execution_count": 57,
     "metadata": {},
     "output_type": "execute_result"
    },
    {
     "data": {
      "image/png": "[encoded data removed]",
      "text/plain": [
       "<Figure size 1800x600 with 3 Axes>"
      ]
     },
     "metadata": {},
     "output_type": "display_data"
    }
   ],
   "source": [
    "# Gráficos para 'higher'\n",
    "plt.figure(figsize=(18, 6))\n",
    "\n",
    "# Gráfico 4: Contagem de alunos por faixas de G1 e higher\n",
    "plt.subplot(1, 3, 1)\n",
    "sns.countplot(data=d1_trabalhado, x='G1_bins', hue='higher', palette='Set2')\n",
    "plt.title('Contagem de Alunos por Faixas de G1 e higher')\n",
    "plt.xlabel('Faixa de Notas G1')\n",
    "plt.ylabel('Contagem')\n",
    "plt.legend(title='higher')\n",
    "\n",
    "# Gráfico 5: Contagem de alunos por faixas de G2 e higher\n",
    "plt.subplot(1, 3, 2)\n",
    "sns.countplot(data=d1_trabalhado, x='G2_bins', hue='higher', palette='Set2')\n",
    "plt.title('Contagem de Alunos por Faixas de G2 e higher')\n",
    "plt.xlabel('Faixa de Notas G2')\n",
    "plt.ylabel('Contagem')\n",
    "plt.legend(title='higher')\n",
    "\n",
    "# Gráfico 6: Contagem de alunos por faixas de G3 e higher\n",
    "plt.subplot(1, 3, 3)\n",
    "sns.countplot(data=d1_trabalhado, x='G3_bins', hue='higher', palette='Set2')\n",
    "plt.title('Contagem de Alunos por Faixas de G3 e higher')"
   ]
  },
  {
   "cell_type": "markdown",
   "id": "7f2a7462-a942-4c96-b677-0e2c6e2d2bf2",
   "metadata": {},
   "source": [
    "- Os gráficos mostram que quanto mais sobe o rendimento acadêmico, mais os estudantes pretendem cursar o ensino superior. Os que possuem notas entre 16-20, em sua totalidade, pretendem cursar o ensino superior. "
   ]
  },
  {
   "cell_type": "code",
   "execution_count": null,
   "id": "04dbe812-5736-43ef-b306-2a556c451cb5",
   "metadata": {},
   "outputs": [],
   "source": []
  }
 ],
 "metadata": {
  "kernelspec": {
   "display_name": "Python 3 (ipykernel)",
   "language": "python",
   "name": "python3"
  },
  "language_info": {
   "codemirror_mode": {
    "name": "ipython",
    "version": 3
   },
   "file_extension": ".py",
   "mimetype": "text/x-python",
   "name": "python",
   "nbconvert_exporter": "python",
   "pygments_lexer": "ipython3",
   "version": "3.9.13"
  }
 },
 "nbformat": 4,
 "nbformat_minor": 5
}
