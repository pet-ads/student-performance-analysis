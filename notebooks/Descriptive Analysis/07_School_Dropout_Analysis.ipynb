{
 "cells": [
  {
   "cell_type": "markdown",
   "id": "288c651f-46c6-47ed-b057-3ff7ff1b6dd1",
   "metadata": {},
   "source": [
    "# Análise Descritiva de 'dropout'\n",
    "\n",
    "Definição: No contexto de pesquisa educacional, \"dropout\" refere-se ao fenômeno de evasão escolar, onde um aluno abandona a escola antes de completar o curso ou ciclo educacional. <br>\n",
    "Como Identificamos: criamos uma variável binária no dataset para marcar se um aluno abandonou a escola (por exemplo, dropout = 1) ou se completou o curso (por exemplo, dropout = 0). <br>\n",
    "Nesse contexto, utilizamos o seguinte filtro:<br>\n",
    "d1_trabalhado['dropout'] = ((d1_trabalhado['G3'] == 0) & (d1_trabalhado['absences'] == 0)).astype(int)"
   ]
  },
  {
   "cell_type": "code",
   "execution_count": null,
   "id": "ccb1a657-ef76-4944-bc44-5bb651b9edcb",
   "metadata": {},
   "outputs": [],
   "source": []
  }
 ],
 "metadata": {
  "kernelspec": {
   "display_name": "Python 3 (ipykernel)",
   "language": "python",
   "name": "python3"
  },
  "language_info": {
   "codemirror_mode": {
    "name": "ipython",
    "version": 3
   },
   "file_extension": ".py",
   "mimetype": "text/x-python",
   "name": "python",
   "nbconvert_exporter": "python",
   "pygments_lexer": "ipython3",
   "version": "3.9.13"
  }
 },
 "nbformat": 4,
 "nbformat_minor": 5
}
