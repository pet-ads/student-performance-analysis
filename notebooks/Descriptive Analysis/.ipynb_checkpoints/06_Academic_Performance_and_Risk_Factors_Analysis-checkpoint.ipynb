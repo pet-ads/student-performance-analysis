{
 "cells": [
  {
   "cell_type": "markdown",
   "id": "ea283b5e-315b-4ee5-8e59-736579f537d2",
   "metadata": {},
   "source": [
    "# Análise Bivariada e Multivariada das features de desempenho acadêmico e frequência escolar\n",
    "\n",
    "Este grupo de variáveis analisa o risco acadêmico associado ao desempenho e à frequência escolar dos estudantes. .<br>\n",
    "As features escolhidas são:\n",
    "- failures: Número de reprovações anteriores.<br>\n",
    "- absences: Número de faltas escolares.<br>\n",
    "- G1: Nota obtida no primeiro período, fornecendo uma medida inicial do desempenho acadêmico.<br>\n",
    "- G2: Nota obtida no segundo período, mostrando a evolução do desempenho ao longo do ano.<br>\n",
    "- G3: Nota final do ano letivo, representando o desempenho acadêmico global do estudante.<br>"
   ]
  }
 ],
 "metadata": {
  "kernelspec": {
   "display_name": "Python 3 (ipykernel)",
   "language": "python",
   "name": "python3"
  },
  "language_info": {
   "codemirror_mode": {
    "name": "ipython",
    "version": 3
   },
   "file_extension": ".py",
   "mimetype": "text/x-python",
   "name": "python",
   "nbconvert_exporter": "python",
   "pygments_lexer": "ipython3",
   "version": "3.9.13"
  }
 },
 "nbformat": 4,
 "nbformat_minor": 5
}
